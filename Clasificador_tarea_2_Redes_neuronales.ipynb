{
  "nbformat": 4,
  "nbformat_minor": 0,
  "metadata": {
    "colab": {
      "name": "Clasificador tarea 2 Redes neuronales.ipynb",
      "provenance": [],
      "collapsed_sections": [],
      "authorship_tag": "ABX9TyNKhrs7lK2+0tP02FLQcBIr",
      "include_colab_link": true
    },
    "kernelspec": {
      "name": "python3",
      "display_name": "Python 3"
    },
    "language_info": {
      "name": "python"
    }
  },
  "cells": [
    {
      "cell_type": "markdown",
      "metadata": {
        "id": "view-in-github",
        "colab_type": "text"
      },
      "source": [
        "<a href=\"https://colab.research.google.com/github/Marvayo/How-to-implement-an-ML-pipeline/blob/master/Clasificador_tarea_2_Redes_neuronales.ipynb\" target=\"_parent\"><img src=\"https://colab.research.google.com/assets/colab-badge.svg\" alt=\"Open In Colab\"/></a>"
      ]
    },
    {
      "cell_type": "code",
      "execution_count": 6,
      "metadata": {
        "colab": {
          "base_uri": "https://localhost:8080/",
          "height": 34
        },
        "id": "Ai3PeH4hL_Mo",
        "outputId": "e86a1b36-8408-4983-ef9f-ecf7c893d516"
      },
      "outputs": [
        {
          "output_type": "execute_result",
          "data": {
            "text/plain": [
              "<IPython.core.display.Image object>"
            ],
            "image/png": "./dnn.jpg"
          },
          "metadata": {},
          "execution_count": 6
        }
      ],
      "source": [
        "import IPython\n",
        "from IPython import display\n",
        "display.Image(\"./dnn.jpg\")"
      ]
    },
    {
      "cell_type": "code",
      "source": [
        "import tensorflow as tf\n",
        "import matplotlib.pyplot as plt\n",
        "import numpy as np"
      ],
      "metadata": {
        "id": "LrRJxbTUMXIE"
      },
      "execution_count": 7,
      "outputs": []
    },
    {
      "cell_type": "code",
      "source": [
        "(train_images, train_labels), (validation_images, validation_labels) = tf.keras.datasets.mnist.load_data()\n"
      ],
      "metadata": {
        "id": "QJP2BI77Maq1"
      },
      "execution_count": 8,
      "outputs": []
    },
    {
      "cell_type": "code",
      "source": [
        "#dataset properties\n",
        "train_ds_size = len(train_images)\n",
        "validation_ds_size = len(validation_images)\n",
        "class_names = list(set(train_labels))\n",
        "ds_size = train_ds_size + validation_ds_size\n",
        "print(f'Train set size {train_ds_size} is around {np.around(train_ds_size/ds_size * 100,1)}% of the data. Each data point has dimensions {train_images.shape[1:]}')\n",
        "print(f'Validation(Dev) set size {validation_ds_size} is around {np.around(validation_ds_size/ds_size * 100,1)}% of the data. Each data point has dimensions {validation_images.shape[1:]}')\n",
        "print(f'There are {len(class_names)} classes. They are {class_names}')\n",
        "\n",
        "plt.figure(figsize=(7,7))\n",
        "for i in range(9):\n",
        "    plt.subplot(3,3,i+1)\n",
        "    plt.xticks([])\n",
        "    plt.yticks([])\n",
        "    plt.grid(False)\n",
        "    plt.imshow(train_images[i])\n",
        "    # The CIFAR labels happen to be arrays, \n",
        "    # which is why you need the extra index\n",
        "    plt.xlabel(class_names[train_labels[i]])\n",
        "plt.show()"
      ],
      "metadata": {
        "colab": {
          "base_uri": "https://localhost:8080/",
          "height": 477
        },
        "id": "Vv5HF2eBMakM",
        "outputId": "4f1d812b-3ed6-4442-9705-cd90092c850b"
      },
      "execution_count": 9,
      "outputs": [
        {
          "output_type": "stream",
          "name": "stdout",
          "text": [
            "Train set size 60000 is around 85.7% of the data. Each data point has dimensions (28, 28)\n",
            "Validation(Dev) set size 10000 is around 14.3% of the data. Each data point has dimensions (28, 28)\n",
            "There are 10 classes. They are [0, 1, 2, 3, 4, 5, 6, 7, 8, 9]\n"
          ]
        },
        {
          "output_type": "display_data",
          "data": {
            "text/plain": [
              "<Figure size 504x504 with 9 Axes>"
            ],
            "image/png": "[encoded data removed]"
          },
          "metadata": {}
        }
      ]
    },
    {
      "cell_type": "code",
      "source": [
        "#Select a ratio of the validation set images to use as test images\n",
        "ratio = 0.8\n",
        "#New test set\n",
        "test_images = validation_images[int(validation_ds_size * ratio):]\n",
        "test_labels = validation_labels[int(validation_ds_size * ratio):]\n",
        "#New validation set\n",
        "validation_images=validation_images[:int(validation_ds_size * ratio)]\n",
        "validation_labels=validation_labels[:int(validation_ds_size * ratio)]\n",
        "#dataset properties\n",
        "train_ds_size = len(train_images)\n",
        "validation_ds_size = len(validation_images)\n",
        "test_ds_size = len(test_images)\n",
        "class_names = list(set(train_labels))\n",
        "ds_size = train_ds_size + validation_ds_size + test_ds_size\n",
        "\n",
        "print(f'Train set size {train_ds_size} is around {np.around(train_ds_size/ds_size * 100,1)}% of the data. Each data point has dimensions {train_images.shape[1:]}')\n",
        "print(f'Validation(Dev) set size {validation_ds_size} is around {np.around(validation_ds_size/ds_size * 100,1)}% of the data. Each data point has dimensions {validation_images.shape[1:]}')\n",
        "print(f'Test set size {test_ds_size} is around {np.around(test_ds_size/ds_size * 100,1)}% of the data. Each data point has dimensions {test_images.shape[1:]}')\n",
        "print(f'There are {len(class_names)} classes. They are {class_names}')"
      ],
      "metadata": {
        "colab": {
          "base_uri": "https://localhost:8080/"
        },
        "id": "ri6B8UdtMatr",
        "outputId": "1d13f989-2c82-43af-9625-267731d843ce"
      },
      "execution_count": 10,
      "outputs": [
        {
          "output_type": "stream",
          "name": "stdout",
          "text": [
            "Train set size 60000 is around 85.7% of the data. Each data point has dimensions (28, 28)\n",
            "Validation(Dev) set size 8000 is around 11.4% of the data. Each data point has dimensions (28, 28)\n",
            "Test set size 2000 is around 2.9% of the data. Each data point has dimensions (28, 28)\n",
            "There are 10 classes. They are [0, 1, 2, 3, 4, 5, 6, 7, 8, 9]\n"
          ]
        }
      ]
    },
    {
      "cell_type": "code",
      "source": [
        "normalize = True\n",
        "if normalize == True:\n",
        "    train_images = train_images / 255.0\n",
        "    validation_images = validation_images / 255.0\n",
        "    test_images = test_images / 255.0"
      ],
      "metadata": {
        "id": "ECs4NdJIMawR"
      },
      "execution_count": 33,
      "outputs": []
    },
    {
      "cell_type": "code",
      "source": [
        "def build_model(num_classes=len(class_names), hidden_layers=3, units=1024, data_shape=train_images.shape[1:]):\n",
        "    model = tf.keras.Sequential()\n",
        "    # input layer\n",
        "    model.add(tf.keras.layers.InputLayer(input_shape=list(data_shape)))\n",
        "    # MLP required shape\n",
        "    model.add(tf.keras.layers.Flatten())\n",
        "    \n",
        "    #hidden layer(s)\n",
        "    for hidden_layer in range(1,hidden_layers+1):\n",
        "        model.add(tf.keras.layers.Dense(units, activation='relu'))\n",
        "        \n",
        "    #output layer\n",
        "    model.add(tf.keras.layers.Dense(num_classes, activation='softmax')) \n",
        "    #model.add(tf.keras.layers.Dense(num_classes, activation='softmax', kernel_regularizer=tf.keras.regularizers.L2(0.1))) \n",
        "    \n",
        "    loss=tf.keras.losses.SparseCategoricalCrossentropy() \n",
        "    metrics=['accuracy']\n",
        "    optimizer=tf.keras.optimizers.Adam()\n",
        "    \n",
        "    model.compile(loss=loss, metrics=metrics, optimizer=optimizer)\n",
        "    \n",
        "    return model"
      ],
      "metadata": {
        "id": "XGnnjyI_Mayz"
      },
      "execution_count": 46,
      "outputs": []
    },
    {
      "cell_type": "code",
      "source": [
        "model = build_model()\n",
        "# Verify that the network is as you imagined\n",
        "model.summary()"
      ],
      "metadata": {
        "colab": {
          "base_uri": "https://localhost:8080/"
        },
        "id": "839988dsMa1H",
        "outputId": "28eec909-f9ae-4142-e81f-6d9b5ee1f5ff"
      },
      "execution_count": 47,
      "outputs": [
        {
          "output_type": "stream",
          "name": "stdout",
          "text": [
            "Model: \"sequential_2\"\n",
            "_________________________________________________________________\n",
            " Layer (type)                Output Shape              Param #   \n",
            "=================================================================\n",
            " flatten_2 (Flatten)         (None, 784)               0         \n",
            "                                                                 \n",
            " dense_6 (Dense)             (None, 1024)              803840    \n",
            "                                                                 \n",
            " dense_7 (Dense)             (None, 1024)              1049600   \n",
            "                                                                 \n",
            " dense_8 (Dense)             (None, 1024)              1049600   \n",
            "                                                                 \n",
            " dense_9 (Dense)             (None, 10)                10250     \n",
            "                                                                 \n",
            "=================================================================\n",
            "Total params: 2,913,290\n",
            "Trainable params: 2,913,290\n",
            "Non-trainable params: 0\n",
            "_________________________________________________________________\n"
          ]
        }
      ]
    },
    {
      "cell_type": "code",
      "source": [
        "history = model.fit(train_images, train_labels, epochs=30, batch_size=32, validation_data=(validation_images, validation_labels)) "
      ],
      "metadata": {
        "colab": {
          "base_uri": "https://localhost:8080/"
        },
        "id": "eSe7-H6yM01O",
        "outputId": "ddbe9b04-becb-41b8-835d-7daf32b4bbb8"
      },
      "execution_count": null,
      "outputs": [
        {
          "output_type": "stream",
          "name": "stdout",
          "text": [
            "Epoch 1/30\n",
            "1875/1875 [==============================] - 87s 46ms/step - loss: 0.4142 - accuracy: 0.8645 - val_loss: 0.1984 - val_accuracy: 0.9389\n",
            "Epoch 2/30\n",
            "1875/1875 [==============================] - 84s 45ms/step - loss: 0.1663 - accuracy: 0.9487 - val_loss: 0.1490 - val_accuracy: 0.9544\n",
            "Epoch 3/30\n",
            "1875/1875 [==============================] - 88s 47ms/step - loss: 0.1215 - accuracy: 0.9626 - val_loss: 0.1506 - val_accuracy: 0.9531\n",
            "Epoch 4/30\n",
            "1875/1875 [==============================] - 87s 46ms/step - loss: 0.1000 - accuracy: 0.9686 - val_loss: 0.1206 - val_accuracy: 0.9653\n",
            "Epoch 5/30\n",
            "1875/1875 [==============================] - 87s 46ms/step - loss: 0.0814 - accuracy: 0.9742 - val_loss: 0.0973 - val_accuracy: 0.9694\n",
            "Epoch 6/30\n",
            "1875/1875 [==============================] - 84s 45ms/step - loss: 0.0718 - accuracy: 0.9770 - val_loss: 0.1224 - val_accuracy: 0.9617\n",
            "Epoch 7/30\n",
            "1875/1875 [==============================] - 84s 45ms/step - loss: 0.0606 - accuracy: 0.9807 - val_loss: 0.1023 - val_accuracy: 0.9672\n",
            "Epoch 8/30\n",
            "1875/1875 [==============================] - 83s 44ms/step - loss: 0.0536 - accuracy: 0.9831 - val_loss: 0.1027 - val_accuracy: 0.9672\n",
            "Epoch 9/30\n",
            "1875/1875 [==============================] - 81s 43ms/step - loss: 0.0470 - accuracy: 0.9850 - val_loss: 0.0968 - val_accuracy: 0.9722\n",
            "Epoch 10/30\n",
            "1875/1875 [==============================] - 82s 44ms/step - loss: 0.0442 - accuracy: 0.9852 - val_loss: 0.0710 - val_accuracy: 0.9801\n",
            "Epoch 11/30\n",
            "1875/1875 [==============================] - 84s 45ms/step - loss: 0.0392 - accuracy: 0.9870 - val_loss: 0.0798 - val_accuracy: 0.9774\n",
            "Epoch 12/30\n",
            "1875/1875 [==============================] - 83s 44ms/step - loss: 0.0353 - accuracy: 0.9880 - val_loss: 0.0773 - val_accuracy: 0.9776\n",
            "Epoch 13/30\n",
            "1875/1875 [==============================] - 86s 46ms/step - loss: 0.0336 - accuracy: 0.9887 - val_loss: 0.0856 - val_accuracy: 0.9759\n",
            "Epoch 14/30\n",
            "1875/1875 [==============================] - 85s 46ms/step - loss: 0.0302 - accuracy: 0.9902 - val_loss: 0.1000 - val_accuracy: 0.9739\n",
            "Epoch 15/30\n",
            "1875/1875 [==============================] - 82s 44ms/step - loss: 0.0283 - accuracy: 0.9903 - val_loss: 0.0820 - val_accuracy: 0.9804\n",
            "Epoch 16/30\n",
            "1875/1875 [==============================] - 87s 46ms/step - loss: 0.0268 - accuracy: 0.9910 - val_loss: 0.0863 - val_accuracy: 0.9769\n",
            "Epoch 17/30\n",
            "1875/1875 [==============================] - 83s 44ms/step - loss: 0.0241 - accuracy: 0.9916 - val_loss: 0.0800 - val_accuracy: 0.9810\n",
            "Epoch 18/30\n",
            "1875/1875 [==============================] - 91s 49ms/step - loss: 0.0237 - accuracy: 0.9921 - val_loss: 0.0758 - val_accuracy: 0.9808\n",
            "Epoch 19/30\n",
            "1875/1875 [==============================] - 92s 49ms/step - loss: 0.0219 - accuracy: 0.9924 - val_loss: 0.0841 - val_accuracy: 0.9790\n",
            "Epoch 20/30\n",
            "1875/1875 [==============================] - 97s 52ms/step - loss: 0.0195 - accuracy: 0.9933 - val_loss: 0.0757 - val_accuracy: 0.9799\n",
            "Epoch 21/30\n",
            " 496/1875 [======>.......................] - ETA: 1:06 - loss: 0.0181 - accuracy: 0.9934"
          ]
        }
      ]
    },
    {
      "cell_type": "code",
      "source": [
        "acc = history.history['accuracy']\n",
        "val_acc = history.history['val_accuracy']\n",
        "\n",
        "loss = history.history['loss']\n",
        "val_loss = history.history['val_loss']\n",
        "\n",
        "epochs_range = range(30)\n",
        "\n",
        "plt.figure(figsize=(16, 8))\n",
        "plt.subplot(1, 2, 1)\n",
        "plt.plot(epochs_range, acc, label='Training Accuracy')\n",
        "plt.plot(epochs_range, val_acc, label='Validation Accuracy')\n",
        "plt.legend(loc='lower right')\n",
        "plt.title('Training and Validation Accuracy')\n",
        "\n",
        "plt.subplot(1, 2, 2)\n",
        "plt.plot(epochs_range, loss, label='Training Loss')\n",
        "plt.plot(epochs_range, val_loss, label='Validation Loss')\n",
        "plt.legend(loc='upper right')\n",
        "plt.title('Training and Validation Loss')\n",
        "plt.show()"
      ],
      "metadata": {
        "colab": {
          "base_uri": "https://localhost:8080/",
          "height": 499
        },
        "id": "4Oe7XpEVM4bn",
        "outputId": "8867e0f9-c881-43af-c182-0a8b4ed592e6"
      },
      "execution_count": 36,
      "outputs": [
        {
          "output_type": "display_data",
          "data": {
            "text/plain": [
              "<Figure size 1152x576 with 2 Axes>"
            ],
            "image/png": "[encoded data removed]"
          },
          "metadata": {
            "needs_background": "light"
          }
        }
      ]
    },
    {
      "cell_type": "code",
      "source": [
        "model.evaluate(test_images, test_labels)"
      ],
      "metadata": {
        "colab": {
          "base_uri": "https://localhost:8080/"
        },
        "id": "RuIAnusJM4ec",
        "outputId": "5d08013a-4c6e-42c7-bae2-46dfd0d470d8"
      },
      "execution_count": 20,
      "outputs": [
        {
          "output_type": "stream",
          "name": "stdout",
          "text": [
            "63/63 [==============================] - 0s 2ms/step - loss: 0.1129 - accuracy: 0.9840\n"
          ]
        },
        {
          "output_type": "execute_result",
          "data": {
            "text/plain": [
              "[0.11287821829319, 0.984000027179718]"
            ]
          },
          "metadata": {},
          "execution_count": 20
        }
      ]
    },
    {
      "cell_type": "code",
      "source": [
        "#Choose a random image from the test set\n",
        "random_image_index = np.random.choice(test_ds_size)\n",
        "random_image = test_images[random_image_index]\n",
        "# Use the trained model to predict the label of an image\n",
        "prediction = model.predict(random_image.reshape(1,28,28))\n",
        "score = tf.nn.softmax(prediction[0])\n",
        "predicted_label = list(score).index(max(score))\n",
        "# See the results\n",
        "plt.figure(figsize=(1,1))\n",
        "plt.xticks([])\n",
        "plt.yticks([])\n",
        "plt.grid(False)\n",
        "plt.imshow(random_image)\n",
        "plt.xlabel(class_names[predicted_label])\n",
        "plt.show()    "
      ],
      "metadata": {
        "colab": {
          "base_uri": "https://localhost:8080/",
          "height": 99
        },
        "id": "RgEZmBXkM4hF",
        "outputId": "9f7ab0ea-83f0-41dc-e221-61f646340c0b"
      },
      "execution_count": 43,
      "outputs": [
        {
          "output_type": "display_data",
          "data": {
            "text/plain": [
              "<Figure size 72x72 with 1 Axes>"
            ],
            "image/png": "[encoded data removed]"
          },
          "metadata": {}
        }
      ]
    },
    {
      "cell_type": "code",
      "source": [
        ""
      ],
      "metadata": {
        "id": "CHJPDdmRM4ju"
      },
      "execution_count": null,
      "outputs": []
    },
    {
      "cell_type": "code",
      "source": [
        ""
      ],
      "metadata": {
        "id": "C_PLS_K2M4mG"
      },
      "execution_count": null,
      "outputs": []
    }
  ]
}