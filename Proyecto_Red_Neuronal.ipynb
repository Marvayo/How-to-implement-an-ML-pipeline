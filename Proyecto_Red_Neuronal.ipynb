{
  "nbformat": 4,
  "nbformat_minor": 0,
  "metadata": {
    "colab": {
      "name": "Proyecto_Red_Neuronal.ipynb",
      "provenance": [],
      "include_colab_link": true
    },
    "kernelspec": {
      "name": "python3",
      "display_name": "Python 3"
    },
    "language_info": {
      "name": "python"
    }
  },
  "cells": [
    {
      "cell_type": "markdown",
      "metadata": {
        "id": "view-in-github",
        "colab_type": "text"
      },
      "source": [
        "<a href=\"https://colab.research.google.com/github/Marvayo/How-to-implement-an-ML-pipeline/blob/master/Proyecto_Red_Neuronal.ipynb\" target=\"_parent\"><img src=\"https://colab.research.google.com/assets/colab-badge.svg\" alt=\"Open In Colab\"/></a>"
      ]
    },
    {
      "cell_type": "markdown",
      "source": [
        ""
      ],
      "metadata": {
        "id": "E0QiV-NmLe_d"
      }
    },
    {
      "cell_type": "code",
      "source": [
        "import pandas as pd\n",
        "import io \n",
        "from numpy import array\n",
        "from seaborn import load_dataset\n",
        "import numpy as np \n",
        "import tensorflow as tf\n",
        "import matplotlib.pyplot as plt\n"
      ],
      "metadata": {
        "id": "Q275F2aHMqBj"
      },
      "execution_count": null,
      "outputs": []
    },
    {
      "cell_type": "code",
      "execution_count": null,
      "metadata": {
        "colab": {
          "resources": {
            "http://localhost:8080/nbextensions/google.colab/files.js": {
              "data": "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",
              "ok": true,
              "headers": [
                [
                  "content-type",
                  "application/javascript"
                ]
              ],
              "status": 200,
              "status_text": ""
            }
          },
          "base_uri": "https://localhost:8080/",
          "height": 73
        },
        "id": "hmkhbW-6LOeI",
        "outputId": "fdb62a32-13db-4e27-f024-b7729e4d3069"
      },
      "outputs": [
        {
          "output_type": "display_data",
          "data": {
            "text/plain": [
              "<IPython.core.display.HTML object>"
            ],
            "text/html": [
              "\n",
              "     <input type=\"file\" id=\"files-a350921d-1c8d-44eb-abcb-2a68e2225273\" name=\"files[]\" multiple disabled\n",
              "        style=\"border:none\" />\n",
              "     <output id=\"result-a350921d-1c8d-44eb-abcb-2a68e2225273\">\n",
              "      Upload widget is only available when the cell has been executed in the\n",
              "      current browser session. Please rerun this cell to enable.\n",
              "      </output>\n",
              "      <script src=\"/nbextensions/google.colab/files.js\"></script> "
            ]
          },
          "metadata": {}
        },
        {
          "output_type": "stream",
          "name": "stdout",
          "text": [
            "Saving documentos.csv to documentos (3).csv\n"
          ]
        }
      ],
      "source": [
        "from google.colab import files \n",
        "uploaded = files.upload()"
      ]
    },
    {
      "cell_type": "code",
      "source": [
        "df = pd.read_csv(io.BytesIO(uploaded['documentos.csv'])) \n",
        "print(df)"
      ],
      "metadata": {
        "colab": {
          "base_uri": "https://localhost:8080/"
        },
        "id": "UeBsre7PMy3C",
        "outputId": "720ced43-7d6b-466a-afd0-a458efa821c8"
      },
      "execution_count": null,
      "outputs": [
        {
          "output_type": "stream",
          "name": "stdout",
          "text": [
            "                                             DOCUMENTO    FCH_CREA\n",
            "0    {\\rtf1\\ansi\\ansicpg1252\\uc1\\deff1{\\fonttbl  {\\...  03/01/2007\n",
            "1    {\\rtf1\\ansi\\ansicpg1252\\uc1\\deff1{\\fonttbl  {\\...  23/01/2007\n",
            "2    {\\rtf1\\ansi\\ansicpg1252\\uc1\\deff0{\\fonttbl  {\\...  23/01/2007\n",
            "3    {\\rtf1\\ansi\\ansicpg1252\\uc1\\deff1{\\fonttbl  {\\...  29/01/2007\n",
            "4    {\\rtf1\\ansi\\ansicpg1252\\uc1\\deff1{\\fonttbl  {\\...  29/01/2007\n",
            "..                                                 ...         ...\n",
            "234  {\\rtf1\\ansi\\ansicpg1252\\uc1\\deff1{\\fonttbl  {\\...  19/06/2007\n",
            "235  {\\rtf1\\ansi\\ansicpg1252\\uc1\\deff1{\\fonttbl  {\\...  19/06/2007\n",
            "236  {\\rtf1\\ansi\\ansicpg1252\\uc1\\deff1{\\fonttbl  {\\...  19/06/2007\n",
            "237  {\\rtf1\\ansi\\ansicpg1252\\uc1\\deff1{\\fonttbl  {\\...  21/06/2007\n",
            "238  {\\rtf1\\ansi\\ansicpg1252\\uc1\\deff0{\\fonttbl  {\\...  21/06/2007\n",
            "\n",
            "[239 rows x 2 columns]\n"
          ]
        }
      ]
    },
    {
      "cell_type": "code",
      "source": [
        "denuncias=df[\"DOCUMENTO\"].str.upper()#convertir a mayúsculas\n",
        "fechas=df[\"FCH_CREA\"]#convertir a mayúsculas\n",
        "\n",
        "\n",
        "denuncias.shape\n",
        "fechas.shape"
      ],
      "metadata": {
        "colab": {
          "base_uri": "https://localhost:8080/"
        },
        "id": "xUyP-5CrMy6T",
        "outputId": "701cf665-4372-4236-becb-2d4e74a62d54"
      },
      "execution_count": null,
      "outputs": [
        {
          "output_type": "execute_result",
          "data": {
            "text/plain": [
              "(239,)"
            ]
          },
          "metadata": {},
          "execution_count": 4
        }
      ]
    },
    {
      "cell_type": "code",
      "source": [
        "denuncias=df[\"DOCUMENTO\"].str.upper()#convertir a mayúsculas\n",
        "denuncias\n",
        "denuncia1=np.array(denuncias[0].split())\n",
        "\n",
        "denuncia1.shape\n",
        "denuncias_palabras={}\n",
        "for i, denuncia in enumerate(denuncias):#iterando en c/denuncia y reg. de num de iteración\n",
        "    denuncias_palabras[i]=np.array(denuncia.split())"
      ],
      "metadata": {
        "id": "KLdfCFrnMy85"
      },
      "execution_count": null,
      "outputs": []
    },
    {
      "cell_type": "code",
      "source": [
        "denuncias_palabras[50].shape\n",
        "long_max=0\n",
        "for denuncia in denuncias_palabras.values(): \n",
        "    numWords=len(denuncia)\n",
        "    if long_max<numWords: \n",
        "        long_max=numWords\n",
        "numPalabras=long_max\n",
        "print(numPalabras)#Es el valor que tendrá cada renglón "
      ],
      "metadata": {
        "colab": {
          "base_uri": "https://localhost:8080/"
        },
        "id": "Nar5eWYyMy_p",
        "outputId": "8ce13ad8-1eda-4576-bf72-9916036d1e39"
      },
      "execution_count": null,
      "outputs": [
        {
          "output_type": "stream",
          "name": "stdout",
          "text": [
            "3007\n"
          ]
        }
      ]
    },
    {
      "cell_type": "code",
      "source": [
        "type(denuncias_palabras[0])\n",
        "len(denuncias_palabras[0])#queremos que esta denuncia tenga la longitud de 3007\n",
        "denuncia1=denuncias_palabras[0]\n",
        "nueva_denuncia1=np.append(denuncia1, [1,2,3])\n",
        "len(nueva_denuncia1)"
      ],
      "metadata": {
        "colab": {
          "base_uri": "https://localhost:8080/"
        },
        "id": "RuY2oKMUMzCJ",
        "outputId": "cbd20c8c-7f3a-45f0-ff10-722bc727df16"
      },
      "execution_count": null,
      "outputs": [
        {
          "output_type": "execute_result",
          "data": {
            "text/plain": [
              "1508"
            ]
          },
          "metadata": {},
          "execution_count": 7
        }
      ]
    },
    {
      "cell_type": "code",
      "source": [
        "nuevo_denuncias={}\n",
        "for i, denuncia in enumerate(denuncias_palabras.values()):\n",
        "    palabras_agregar=long_max-len(denuncia) \n",
        "    \n",
        "    nuevo_denuncias[i]=np.append(denuncia, palabras_agregar*['b@sur@'])\n",
        "\n",
        "numRenglones=len(nuevo_denuncias )\n",
        "print(numRenglones)#0 al 238\n"
      ],
      "metadata": {
        "colab": {
          "base_uri": "https://localhost:8080/"
        },
        "id": "vS7n5fHuMzEt",
        "outputId": "6eaea5e5-e010-484e-ac29-db9dc57c946e"
      },
      "execution_count": null,
      "outputs": [
        {
          "output_type": "stream",
          "name": "stdout",
          "text": [
            "239\n"
          ]
        }
      ]
    },
    {
      "cell_type": "code",
      "source": [
        "nuevo_denuncias"
      ],
      "metadata": {
        "colab": {
          "base_uri": "https://localhost:8080/"
        },
        "id": "0OqWHyIOPrG6",
        "outputId": "c2ae2d2a-7e55-4002-858e-a9336cedf7f5"
      },
      "execution_count": null,
      "outputs": [
        {
          "output_type": "execute_result",
          "data": {
            "text/plain": [
              "{0: array(['{\\\\RTF1\\\\ANSI\\\\ANSICPG1252\\\\UC1\\\\DEFF1{\\\\FONTTBL',\n",
              "        '{\\\\F0\\\\FSWISS\\\\FCHARSET0\\\\FPRQ2', 'ARIAL;}', ..., 'b@sur@',\n",
              "        'b@sur@', 'b@sur@'], dtype='<U187'),\n",
              " 1: array(['{\\\\RTF1\\\\ANSI\\\\ANSICPG1252\\\\UC1\\\\DEFF1{\\\\FONTTBL',\n",
              "        '{\\\\F0\\\\FSWISS\\\\FCHARSET0\\\\FPRQ2', 'ARIAL;}', ..., 'b@sur@',\n",
              "        'b@sur@', 'b@sur@'], dtype='<U179'),\n",
              " 2: array(['{\\\\RTF1\\\\ANSI\\\\ANSICPG1252\\\\UC1\\\\DEFF0{\\\\FONTTBL',\n",
              "        '{\\\\F0\\\\FSWISS\\\\FCHARSET0\\\\FPRQ2', 'ARIAL;}', ..., 'b@sur@',\n",
              "        'b@sur@', 'b@sur@'], dtype='<U275'),\n",
              " 3: array(['{\\\\RTF1\\\\ANSI\\\\ANSICPG1252\\\\UC1\\\\DEFF1{\\\\FONTTBL',\n",
              "        '{\\\\F0\\\\FSWISS\\\\FCHARSET0\\\\FPRQ2', 'ARIAL;}', ..., 'b@sur@',\n",
              "        'b@sur@', 'b@sur@'], dtype='<U179'),\n",
              " 4: array(['{\\\\RTF1\\\\ANSI\\\\ANSICPG1252\\\\UC1\\\\DEFF1{\\\\FONTTBL',\n",
              "        '{\\\\F0\\\\FSWISS\\\\FCHARSET0\\\\FPRQ2', 'ARIAL;}', ..., 'b@sur@',\n",
              "        'b@sur@', 'b@sur@'], dtype='<U185'),\n",
              " 5: array(['{\\\\RTF1\\\\ANSI\\\\ANSICPG1252\\\\UC1\\\\DEFF1{\\\\FONTTBL',\n",
              "        '{\\\\F0\\\\FSWISS\\\\FCHARSET0\\\\FPRQ2', 'ARIAL;}', ..., 'b@sur@',\n",
              "        'b@sur@', 'b@sur@'], dtype='<U179'),\n",
              " 6: array(['{\\\\RTF1\\\\ANSI\\\\ANSICPG1252\\\\UC1\\\\DEFF0{\\\\FONTTBL',\n",
              "        '{\\\\F0\\\\FSWISS\\\\FCHARSET0\\\\FPRQ2', 'ARIAL;}', ..., 'b@sur@',\n",
              "        'b@sur@', 'b@sur@'], dtype='<U275'),\n",
              " 7: array(['{\\\\RTF1\\\\ANSI\\\\ANSICPG1252\\\\UC1\\\\DEFF1{\\\\FONTTBL',\n",
              "        '{\\\\F0\\\\FSWISS\\\\FCHARSET0\\\\FPRQ2', 'ARIAL;}', ..., 'b@sur@',\n",
              "        'b@sur@', 'b@sur@'], dtype='<U179'),\n",
              " 8: array(['{\\\\RTF1\\\\ANSI\\\\ANSICPG1252\\\\UC1\\\\DEFF1{\\\\FONTTBL',\n",
              "        '{\\\\F0\\\\FSWISS\\\\FCHARSET0\\\\FPRQ2', 'ARIAL;}', ..., 'b@sur@',\n",
              "        'b@sur@', 'b@sur@'], dtype='<U179'),\n",
              " 9: array(['{\\\\RTF1\\\\ANSI\\\\ANSICPG1252\\\\UC1\\\\DEFF1{\\\\FONTTBL',\n",
              "        '{\\\\F0\\\\FSWISS\\\\FCHARSET0\\\\FPRQ2', 'ARIAL;}', ..., 'b@sur@',\n",
              "        'b@sur@', 'b@sur@'], dtype='<U185'),\n",
              " 10: array(['{\\\\RTF1\\\\ANSI\\\\ANSICPG1252\\\\UC1\\\\DEFF1{\\\\FONTTBL',\n",
              "        '{\\\\F0\\\\FSWISS\\\\FCHARSET0\\\\FPRQ2', 'ARIAL;}', ..., 'b@sur@',\n",
              "        'b@sur@', 'b@sur@'], dtype='<U179'),\n",
              " 11: array(['{\\\\RTF1\\\\ANSI\\\\ANSICPG1252\\\\UC1\\\\DEFF1{\\\\FONTTBL',\n",
              "        '{\\\\F0\\\\FSWISS\\\\FCHARSET0\\\\FPRQ2', 'ARIAL;}', ..., 'b@sur@',\n",
              "        'b@sur@', 'b@sur@'], dtype='<U185'),\n",
              " 12: array(['{\\\\RTF1\\\\ANSI\\\\ANSICPG1252\\\\UC1\\\\DEFF1{\\\\FONTTBL',\n",
              "        '{\\\\F0\\\\FSWISS\\\\FCHARSET0\\\\FPRQ2', 'ARIAL;}', ..., 'b@sur@',\n",
              "        'b@sur@', 'b@sur@'], dtype='<U179'),\n",
              " 13: array(['{\\\\RTF1\\\\ANSI\\\\ANSICPG1252\\\\UC1\\\\DEFF1{\\\\FONTTBL',\n",
              "        '{\\\\F0\\\\FSWISS\\\\FCHARSET0\\\\FPRQ2', 'ARIAL;}', ..., 'b@sur@',\n",
              "        'b@sur@', 'b@sur@'], dtype='<U181'),\n",
              " 14: array(['{\\\\RTF1\\\\ANSI\\\\ANSICPG1252\\\\UC1\\\\DEFF1{\\\\FONTTBL',\n",
              "        '{\\\\F0\\\\FSWISS\\\\FCHARSET0\\\\FPRQ2', 'ARIAL;}', ..., 'b@sur@',\n",
              "        'b@sur@', 'b@sur@'], dtype='<U179'),\n",
              " 15: array(['{\\\\RTF1\\\\ANSI\\\\ANSICPG1252\\\\UC1\\\\DEFF1{\\\\FONTTBL',\n",
              "        '{\\\\F0\\\\FSWISS\\\\FCHARSET0\\\\FPRQ2', 'ARIAL;}', ..., 'b@sur@',\n",
              "        'b@sur@', 'b@sur@'], dtype='<U185'),\n",
              " 16: array(['{\\\\RTF1\\\\ANSI\\\\ANSICPG1252\\\\UC1\\\\DEFF1{\\\\FONTTBL',\n",
              "        '{\\\\F0\\\\FSWISS\\\\FCHARSET0\\\\FPRQ2', 'ARIAL;}', ..., 'b@sur@',\n",
              "        'b@sur@', 'b@sur@'], dtype='<U179'),\n",
              " 17: array(['{\\\\RTF1\\\\ANSI\\\\ANSICPG1252\\\\UC1\\\\DEFF1{\\\\FONTTBL',\n",
              "        '{\\\\F0\\\\FSWISS\\\\FCHARSET0\\\\FPRQ2', 'ARIAL;}', ..., 'b@sur@',\n",
              "        'b@sur@', 'b@sur@'], dtype='<U185'),\n",
              " 18: array(['{\\\\RTF1\\\\ANSI\\\\ANSICPG1252\\\\UC1\\\\DEFF1{\\\\FONTTBL',\n",
              "        '{\\\\F0\\\\FSWISS\\\\FCHARSET0\\\\FPRQ2', 'ARIAL;}', ..., 'b@sur@',\n",
              "        'b@sur@', 'b@sur@'], dtype='<U179'),\n",
              " 19: array(['{\\\\RTF1\\\\ANSI\\\\ANSICPG1252\\\\UC1\\\\DEFF1{\\\\FONTTBL',\n",
              "        '{\\\\F0\\\\FSWISS\\\\FCHARSET0\\\\FPRQ2', 'ARIAL;}', ..., 'b@sur@',\n",
              "        'b@sur@', 'b@sur@'], dtype='<U185'),\n",
              " 20: array(['{\\\\RTF1\\\\ANSI\\\\ANSICPG1252\\\\UC1\\\\DEFF1{\\\\FONTTBL',\n",
              "        '{\\\\F0\\\\FSWISS\\\\FCHARSET0\\\\FPRQ2', 'ARIAL;}', ..., 'b@sur@',\n",
              "        'b@sur@', 'b@sur@'], dtype='<U179'),\n",
              " 21: array(['{\\\\RTF1\\\\ANSI\\\\ANSICPG1252\\\\UC1\\\\DEFF1{\\\\FONTTBL',\n",
              "        '{\\\\F0\\\\FSWISS\\\\FCHARSET0\\\\FPRQ2', 'ARIAL;}', ..., 'b@sur@',\n",
              "        'b@sur@', 'b@sur@'], dtype='<U185'),\n",
              " 22: array(['{\\\\RTF1\\\\ANSI\\\\ANSICPG1252\\\\UC1\\\\DEFF1{\\\\FONTTBL',\n",
              "        '{\\\\F0\\\\FSWISS\\\\FCHARSET0\\\\FPRQ2', 'ARIAL;}', ..., 'b@sur@',\n",
              "        'b@sur@', 'b@sur@'], dtype='<U183'),\n",
              " 23: array(['{\\\\RTF1\\\\ANSI\\\\ANSICPG1252\\\\UC1\\\\DEFF1{\\\\FONTTBL',\n",
              "        '{\\\\F0\\\\FSWISS\\\\FCHARSET0\\\\FPRQ2', 'ARIAL;}', ..., 'b@sur@',\n",
              "        'b@sur@', 'b@sur@'], dtype='<U179'),\n",
              " 24: array(['{\\\\RTF1\\\\ANSI\\\\ANSICPG1252\\\\UC1\\\\DEFF1{\\\\FONTTBL',\n",
              "        '{\\\\F0\\\\FSWISS\\\\FCHARSET0\\\\FPRQ2', 'ARIAL;}', ..., 'b@sur@',\n",
              "        'b@sur@', 'b@sur@'], dtype='<U179'),\n",
              " 25: array(['{\\\\RTF1\\\\ANSI\\\\ANSICPG1252\\\\UC1\\\\DEFF1{\\\\FONTTBL',\n",
              "        '{\\\\F0\\\\FSWISS\\\\FCHARSET0\\\\FPRQ2', 'ARIAL;}', ..., 'b@sur@',\n",
              "        'b@sur@', 'b@sur@'], dtype='<U179'),\n",
              " 26: array(['{\\\\RTF1\\\\ANSI\\\\ANSICPG1252\\\\UC1\\\\DEFF0{\\\\FONTTBL',\n",
              "        '{\\\\F0\\\\FSWISS\\\\FCHARSET0\\\\FPRQ2', 'ARIAL;}', ..., 'b@sur@',\n",
              "        'b@sur@', 'b@sur@'], dtype='<U182'),\n",
              " 27: array(['{\\\\RTF1\\\\ANSI\\\\ANSICPG1252\\\\UC1\\\\DEFF1{\\\\FONTTBL',\n",
              "        '{\\\\F0\\\\FSWISS\\\\FCHARSET0\\\\FPRQ2', 'ARIAL;}', ..., 'b@sur@',\n",
              "        'b@sur@', 'b@sur@'], dtype='<U179'),\n",
              " 28: array(['{\\\\RTF1\\\\ANSI\\\\ANSICPG1252\\\\UC1\\\\DEFF1{\\\\FONTTBL',\n",
              "        '{\\\\F0\\\\FSWISS\\\\FCHARSET0\\\\FPRQ2', 'ARIAL;}', ..., 'b@sur@',\n",
              "        'b@sur@', 'b@sur@'], dtype='<U179'),\n",
              " 29: array(['{\\\\RTF1\\\\ANSI\\\\ANSICPG1252\\\\UC1\\\\DEFF1{\\\\FONTTBL',\n",
              "        '{\\\\F0\\\\FSWISS\\\\FCHARSET0\\\\FPRQ2', 'ARIAL;}', ..., 'b@sur@',\n",
              "        'b@sur@', 'b@sur@'], dtype='<U179'),\n",
              " 30: array(['{\\\\RTF1\\\\ANSI\\\\ANSICPG1252\\\\UC1\\\\DEFF1{\\\\FONTTBL',\n",
              "        '{\\\\F0\\\\FSWISS\\\\FCHARSET0\\\\FPRQ2', 'ARIAL;}', ..., 'b@sur@',\n",
              "        'b@sur@', 'b@sur@'], dtype='<U179'),\n",
              " 31: array(['{\\\\RTF1\\\\ANSI\\\\ANSICPG1252\\\\UC1\\\\DEFF0{\\\\FONTTBL',\n",
              "        '{\\\\F0\\\\FSWISS\\\\FCHARSET0\\\\FPRQ2', 'ARIAL;}', ..., 'b@sur@',\n",
              "        'b@sur@', 'b@sur@'], dtype='<U182'),\n",
              " 32: array(['{\\\\RTF1\\\\ANSI\\\\ANSICPG1252\\\\UC1\\\\DEFF0{\\\\FONTTBL',\n",
              "        '{\\\\F0\\\\FSWISS\\\\FCHARSET0\\\\FPRQ2', 'ARIAL;}', ..., 'b@sur@',\n",
              "        'b@sur@', 'b@sur@'], dtype='<U182'),\n",
              " 33: array(['{\\\\RTF1\\\\ANSI\\\\ANSICPG1252\\\\UC1\\\\DEFF1{\\\\FONTTBL',\n",
              "        '{\\\\F0\\\\FSWISS\\\\FCHARSET0\\\\FPRQ2', 'ARIAL;}', ..., 'b@sur@',\n",
              "        'b@sur@', 'b@sur@'], dtype='<U179'),\n",
              " 34: array(['{\\\\RTF1\\\\ANSI\\\\ANSICPG1252\\\\UC1\\\\DEFF1{\\\\FONTTBL',\n",
              "        '{\\\\F0\\\\FSWISS\\\\FCHARSET0\\\\FPRQ2', 'ARIAL;}', ..., 'b@sur@',\n",
              "        'b@sur@', 'b@sur@'], dtype='<U185'),\n",
              " 35: array(['{\\\\RTF1\\\\ANSI\\\\ANSICPG1252\\\\UC1\\\\DEFF1{\\\\FONTTBL',\n",
              "        '{\\\\F0\\\\FSWISS\\\\FCHARSET0\\\\FPRQ2', 'ARIAL;}', ..., 'b@sur@',\n",
              "        'b@sur@', 'b@sur@'], dtype='<U177'),\n",
              " 36: array(['{\\\\RTF1\\\\ANSI\\\\ANSICPG1252\\\\UC1\\\\DEFF1{\\\\FONTTBL',\n",
              "        '{\\\\F0\\\\FSWISS\\\\FCHARSET0\\\\FPRQ2', 'ARIAL;}', ..., 'b@sur@',\n",
              "        'b@sur@', 'b@sur@'], dtype='<U179'),\n",
              " 37: array(['{\\\\RTF1\\\\ANSI\\\\ANSICPG1252\\\\UC1\\\\DEFF1{\\\\FONTTBL',\n",
              "        '{\\\\F0\\\\FSWISS\\\\FCHARSET0\\\\FPRQ2', 'ARIAL;}', ..., 'b@sur@',\n",
              "        'b@sur@', 'b@sur@'], dtype='<U179'),\n",
              " 38: array(['{\\\\RTF1\\\\ANSI\\\\ANSICPG1252\\\\UC1\\\\DEFF1{\\\\FONTTBL',\n",
              "        '{\\\\F0\\\\FSWISS\\\\FCHARSET0\\\\FPRQ2', 'ARIAL;}', ..., 'b@sur@',\n",
              "        'b@sur@', 'b@sur@'], dtype='<U179'),\n",
              " 39: array(['{\\\\RTF1\\\\ANSI\\\\ANSICPG1252\\\\UC1\\\\DEFF1{\\\\FONTTBL',\n",
              "        '{\\\\F0\\\\FSWISS\\\\FCHARSET0\\\\FPRQ2', 'ARIAL;}', ..., 'b@sur@',\n",
              "        'b@sur@', 'b@sur@'], dtype='<U185'),\n",
              " 40: array(['{\\\\RTF1\\\\ANSI\\\\ANSICPG1252\\\\UC1\\\\DEFF1{\\\\FONTTBL',\n",
              "        '{\\\\F0\\\\FSWISS\\\\FCHARSET0\\\\FPRQ2', 'ARIAL;}', ..., 'b@sur@',\n",
              "        'b@sur@', 'b@sur@'], dtype='<U179'),\n",
              " 41: array(['{\\\\RTF1\\\\ANSI\\\\ANSICPG1252\\\\UC1\\\\DEFF1{\\\\FONTTBL',\n",
              "        '{\\\\F0\\\\FSWISS\\\\FCHARSET0\\\\FPRQ2', 'ARIAL;}', ..., 'b@sur@',\n",
              "        'b@sur@', 'b@sur@'], dtype='<U189'),\n",
              " 42: array(['{\\\\RTF1\\\\ANSI\\\\ANSICPG1252\\\\UC1\\\\DEFF1{\\\\FONTTBL',\n",
              "        '{\\\\F0\\\\FSWISS\\\\FCHARSET0\\\\FPRQ2', 'ARIAL;}', ..., 'b@sur@',\n",
              "        'b@sur@', 'b@sur@'], dtype='<U183'),\n",
              " 43: array(['{\\\\RTF1\\\\ANSI\\\\ANSICPG1252\\\\UC1\\\\DEFF1{\\\\FONTTBL',\n",
              "        '{\\\\F0\\\\FSWISS\\\\FCHARSET0\\\\FPRQ2', 'ARIAL;}', ..., 'b@sur@',\n",
              "        'b@sur@', 'b@sur@'], dtype='<U179'),\n",
              " 44: array(['{\\\\RTF1\\\\ANSI\\\\ANSICPG1252\\\\UC1\\\\DEFF1{\\\\FONTTBL',\n",
              "        '{\\\\F0\\\\FSWISS\\\\FCHARSET0\\\\FPRQ2', 'ARIAL;}', ..., 'b@sur@',\n",
              "        'b@sur@', 'b@sur@'], dtype='<U185'),\n",
              " 45: array(['{\\\\RTF1\\\\ANSI\\\\ANSICPG1252\\\\UC1\\\\DEFF1{\\\\FONTTBL',\n",
              "        '{\\\\F0\\\\FSWISS\\\\FCHARSET0\\\\FPRQ2', 'ARIAL;}', ..., 'b@sur@',\n",
              "        'b@sur@', 'b@sur@'], dtype='<U179'),\n",
              " 46: array(['{\\\\RTF1\\\\ANSI\\\\ANSICPG1252\\\\UC1\\\\DEFF1{\\\\FONTTBL',\n",
              "        '{\\\\F0\\\\FSWISS\\\\FCHARSET0\\\\FPRQ2', 'ARIAL;}', ..., 'b@sur@',\n",
              "        'b@sur@', 'b@sur@'], dtype='<U179'),\n",
              " 47: array(['{\\\\RTF1\\\\ANSI\\\\ANSICPG1252\\\\UC1\\\\DEFF1{\\\\FONTTBL',\n",
              "        '{\\\\F0\\\\FSWISS\\\\FCHARSET0\\\\FPRQ2', 'ARIAL;}', ..., 'b@sur@',\n",
              "        'b@sur@', 'b@sur@'], dtype='<U185'),\n",
              " 48: array(['{\\\\RTF1\\\\ANSI\\\\ANSICPG1252\\\\UC1\\\\DEFF1{\\\\FONTTBL',\n",
              "        '{\\\\F0\\\\FSWISS\\\\FCHARSET0\\\\FPRQ2', 'ARIAL;}', ..., 'b@sur@',\n",
              "        'b@sur@', 'b@sur@'], dtype='<U179'),\n",
              " 49: array(['{\\\\RTF1\\\\ANSI\\\\ANSICPG1252\\\\UC1\\\\DEFF1{\\\\FONTTBL',\n",
              "        '{\\\\F0\\\\FSWISS\\\\FCHARSET0\\\\FPRQ2', 'ARIAL;}', ..., 'b@sur@',\n",
              "        'b@sur@', 'b@sur@'], dtype='<U183'),\n",
              " 50: array(['{\\\\RTF1\\\\ANSI\\\\ANSICPG1252\\\\UC1\\\\DEFF1{\\\\FONTTBL',\n",
              "        '{\\\\F0\\\\FSWISS\\\\FCHARSET0\\\\FPRQ2', 'ARIAL;}', ..., 'b@sur@',\n",
              "        'b@sur@', 'b@sur@'], dtype='<U183'),\n",
              " 51: array(['{\\\\RTF1\\\\ANSI\\\\ANSICPG1252\\\\UC1\\\\DEFF1{\\\\FONTTBL',\n",
              "        '{\\\\F0\\\\FSWISS\\\\FCHARSET0\\\\FPRQ2', 'ARIAL;}', ..., 'b@sur@',\n",
              "        'b@sur@', 'b@sur@'], dtype='<U179'),\n",
              " 52: array(['{\\\\RTF1\\\\ANSI\\\\ANSICPG1252\\\\UC1\\\\DEFF1{\\\\FONTTBL',\n",
              "        '{\\\\F0\\\\FSWISS\\\\FCHARSET0\\\\FPRQ2', 'ARIAL;}', ..., 'b@sur@',\n",
              "        'b@sur@', 'b@sur@'], dtype='<U185'),\n",
              " 53: array(['{\\\\RTF1\\\\ANSI\\\\ANSICPG1252\\\\UC1\\\\DEFF1{\\\\FONTTBL',\n",
              "        '{\\\\F0\\\\FSWISS\\\\FCHARSET0\\\\FPRQ2', 'ARIAL;}', ..., 'b@sur@',\n",
              "        'b@sur@', 'b@sur@'], dtype='<U179'),\n",
              " 54: array(['{\\\\RTF1\\\\ANSI\\\\ANSICPG1252\\\\UC1\\\\DEFF1{\\\\FONTTBL',\n",
              "        '{\\\\F0\\\\FSWISS\\\\FCHARSET0\\\\FPRQ2', 'ARIAL;}', ..., 'b@sur@',\n",
              "        'b@sur@', 'b@sur@'], dtype='<U185'),\n",
              " 55: array(['{\\\\RTF1\\\\ANSI\\\\ANSICPG1252\\\\UC1\\\\DEFF1{\\\\FONTTBL',\n",
              "        '{\\\\F0\\\\FSWISS\\\\FCHARSET0\\\\FPRQ2', 'ARIAL;}', ..., 'b@sur@',\n",
              "        'b@sur@', 'b@sur@'], dtype='<U183'),\n",
              " 56: array(['{\\\\RTF1\\\\ANSI\\\\ANSICPG1252\\\\UC1\\\\DEFF1{\\\\FONTTBL',\n",
              "        '{\\\\F0\\\\FSWISS\\\\FCHARSET0\\\\FPRQ2', 'ARIAL;}', ..., 'b@sur@',\n",
              "        'b@sur@', 'b@sur@'], dtype='<U179'),\n",
              " 57: array(['{\\\\RTF1\\\\ANSI\\\\ANSICPG1252\\\\UC1\\\\DEFF1{\\\\FONTTBL',\n",
              "        '{\\\\F0\\\\FSWISS\\\\FCHARSET0\\\\FPRQ2', 'ARIAL;}', ..., 'b@sur@',\n",
              "        'b@sur@', 'b@sur@'], dtype='<U185'),\n",
              " 58: array(['{\\\\RTF1\\\\ANSI\\\\ANSICPG1252\\\\UC1\\\\DEFF1{\\\\FONTTBL',\n",
              "        '{\\\\F0\\\\FSWISS\\\\FCHARSET0\\\\FPRQ2', 'ARIAL;}', ..., 'b@sur@',\n",
              "        'b@sur@', 'b@sur@'], dtype='<U179'),\n",
              " 59: array(['{\\\\RTF1\\\\ANSI\\\\ANSICPG1252\\\\UC1\\\\DEFF1{\\\\FONTTBL',\n",
              "        '{\\\\F0\\\\FSWISS\\\\FCHARSET0\\\\FPRQ2', 'ARIAL;}', ..., 'b@sur@',\n",
              "        'b@sur@', 'b@sur@'], dtype='<U179'),\n",
              " 60: array(['{\\\\RTF1\\\\ANSI\\\\ANSICPG1252\\\\UC1\\\\DEFF1{\\\\FONTTBL',\n",
              "        '{\\\\F0\\\\FSWISS\\\\FCHARSET0\\\\FPRQ2', 'ARIAL;}', ..., 'b@sur@',\n",
              "        'b@sur@', 'b@sur@'], dtype='<U179'),\n",
              " 61: array(['{\\\\RTF1\\\\ANSI\\\\ANSICPG1252\\\\UC1\\\\DEFF1{\\\\FONTTBL',\n",
              "        '{\\\\F0\\\\FSWISS\\\\FCHARSET0\\\\FPRQ2', 'ARIAL;}', ..., 'b@sur@',\n",
              "        'b@sur@', 'b@sur@'], dtype='<U185'),\n",
              " 62: array(['{\\\\RTF1\\\\ANSI\\\\ANSICPG1252\\\\UC1\\\\DEFF1{\\\\FONTTBL',\n",
              "        '{\\\\F0\\\\FSWISS\\\\FCHARSET0\\\\FPRQ2', 'ARIAL;}', ..., 'b@sur@',\n",
              "        'b@sur@', 'b@sur@'], dtype='<U179'),\n",
              " 63: array(['{\\\\RTF1\\\\ANSI\\\\ANSICPG1252\\\\UC1\\\\DEFF1{\\\\FONTTBL',\n",
              "        '{\\\\F0\\\\FSWISS\\\\FCHARSET0\\\\FPRQ2', 'ARIAL;}', ..., 'b@sur@',\n",
              "        'b@sur@', 'b@sur@'], dtype='<U185'),\n",
              " 64: array(['{\\\\RTF1\\\\ANSI\\\\ANSICPG1252\\\\UC1\\\\DEFF1{\\\\FONTTBL',\n",
              "        '{\\\\F0\\\\FSWISS\\\\FCHARSET0\\\\FPRQ2', 'ARIAL;}', ..., 'b@sur@',\n",
              "        'b@sur@', 'b@sur@'], dtype='<U179'),\n",
              " 65: array(['{\\\\RTF1\\\\ANSI\\\\ANSICPG1252\\\\UC1\\\\DEFF1{\\\\FONTTBL',\n",
              "        '{\\\\F0\\\\FSWISS\\\\FCHARSET0\\\\FPRQ2', 'ARIAL;}', ..., 'b@sur@',\n",
              "        'b@sur@', 'b@sur@'], dtype='<U179'),\n",
              " 66: array(['{\\\\RTF1\\\\ANSI\\\\ANSICPG1252\\\\UC1\\\\DEFF0{\\\\FONTTBL',\n",
              "        '{\\\\F0\\\\FSWISS\\\\FCHARSET0\\\\FPRQ2', 'ARIAL;}', ..., 'b@sur@',\n",
              "        'b@sur@', 'b@sur@'], dtype='<U182'),\n",
              " 67: array(['{\\\\RTF1\\\\ANSI\\\\ANSICPG1252\\\\UC1\\\\DEFF0{\\\\FONTTBL',\n",
              "        '{\\\\F0\\\\FSWISS\\\\FCHARSET0\\\\FPRQ2', 'ARIAL;}', ..., 'b@sur@',\n",
              "        'b@sur@', 'b@sur@'], dtype='<U182'),\n",
              " 68: array(['{\\\\RTF1\\\\ANSI\\\\ANSICPG1252\\\\UC1\\\\DEFF1{\\\\FONTTBL',\n",
              "        '{\\\\F0\\\\FSWISS\\\\FCHARSET0\\\\FPRQ2', 'ARIAL;}', ..., 'b@sur@',\n",
              "        'b@sur@', 'b@sur@'], dtype='<U179'),\n",
              " 69: array(['{\\\\RTF1\\\\ANSI\\\\ANSICPG1252\\\\UC1\\\\DEFF1{\\\\FONTTBL',\n",
              "        '{\\\\F0\\\\FSWISS\\\\FCHARSET0\\\\FPRQ2', 'ARIAL;}', ..., 'b@sur@',\n",
              "        'b@sur@', 'b@sur@'], dtype='<U193'),\n",
              " 70: array(['{\\\\RTF1\\\\ANSI\\\\ANSICPG1252\\\\UC1\\\\DEFF1{\\\\FONTTBL',\n",
              "        '{\\\\F0\\\\FSWISS\\\\FCHARSET0\\\\FPRQ2', 'ARIAL;}', ..., 'b@sur@',\n",
              "        'b@sur@', 'b@sur@'], dtype='<U179'),\n",
              " 71: array(['{\\\\RTF1\\\\ANSI\\\\ANSICPG1252\\\\UC1\\\\DEFF1{\\\\FONTTBL',\n",
              "        '{\\\\F0\\\\FSWISS\\\\FCHARSET0\\\\FPRQ2', 'ARIAL;}', ..., 'b@sur@',\n",
              "        'b@sur@', 'b@sur@'], dtype='<U193'),\n",
              " 72: array(['{\\\\RTF1\\\\ANSI\\\\ANSICPG1252\\\\UC1\\\\DEFF1{\\\\FONTTBL',\n",
              "        '{\\\\F0\\\\FSWISS\\\\FCHARSET0\\\\FPRQ2', 'ARIAL;}', ..., 'b@sur@',\n",
              "        'b@sur@', 'b@sur@'], dtype='<U218'),\n",
              " 73: array(['{\\\\RTF1\\\\ANSI\\\\ANSICPG1252\\\\UC1\\\\DEFF1{\\\\FONTTBL',\n",
              "        '{\\\\F0\\\\FSWISS\\\\FCHARSET0\\\\FPRQ2', 'ARIAL;}', ..., 'b@sur@',\n",
              "        'b@sur@', 'b@sur@'], dtype='<U183'),\n",
              " 74: array(['{\\\\RTF1\\\\ANSI\\\\ANSICPG1252\\\\UC1\\\\DEFF1{\\\\FONTTBL',\n",
              "        '{\\\\F0\\\\FSWISS\\\\FCHARSET0\\\\FPRQ2', 'ARIAL;}', ..., 'b@sur@',\n",
              "        'b@sur@', 'b@sur@'], dtype='<U179'),\n",
              " 75: array(['{\\\\RTF1\\\\ANSI\\\\ANSICPG1252\\\\UC1\\\\DEFF0{\\\\FONTTBL',\n",
              "        '{\\\\F0\\\\FSWISS\\\\FCHARSET0\\\\FPRQ2', 'ARIAL;}', ..., 'b@sur@',\n",
              "        'b@sur@', 'b@sur@'], dtype='<U182'),\n",
              " 76: array(['{\\\\RTF1\\\\ANSI\\\\ANSICPG1252\\\\UC1\\\\DEFF1{\\\\FONTTBL',\n",
              "        '{\\\\F0\\\\FSWISS\\\\FCHARSET0\\\\FPRQ2', 'ARIAL;}', ..., 'b@sur@',\n",
              "        'b@sur@', 'b@sur@'], dtype='<U179'),\n",
              " 77: array(['{\\\\RTF1\\\\ANSI\\\\ANSICPG1252\\\\UC1\\\\DEFF1{\\\\FONTTBL',\n",
              "        '{\\\\F0\\\\FSWISS\\\\FCHARSET0\\\\FPRQ2', 'ARIAL;}', ..., 'b@sur@',\n",
              "        'b@sur@', 'b@sur@'], dtype='<U183'),\n",
              " 78: array(['{\\\\RTF1\\\\ANSI\\\\ANSICPG1252\\\\UC1\\\\DEFF1{\\\\FONTTBL',\n",
              "        '{\\\\F0\\\\FSWISS\\\\FCHARSET0\\\\FPRQ2', 'ARIAL;}', ..., 'b@sur@',\n",
              "        'b@sur@', 'b@sur@'], dtype='<U179'),\n",
              " 79: array(['{\\\\RTF1\\\\ANSI\\\\ANSICPG1252\\\\UC1\\\\DEFF1{\\\\FONTTBL',\n",
              "        '{\\\\F0\\\\FSWISS\\\\FCHARSET0\\\\FPRQ2', 'ARIAL;}', ..., 'b@sur@',\n",
              "        'b@sur@', 'b@sur@'], dtype='<U185'),\n",
              " 80: array(['{\\\\RTF1\\\\ANSI\\\\ANSICPG1252\\\\UC1\\\\DEFF1{\\\\FONTTBL',\n",
              "        '{\\\\F0\\\\FSWISS\\\\FCHARSET0\\\\FPRQ2', 'ARIAL;}', ..., 'b@sur@',\n",
              "        'b@sur@', 'b@sur@'], dtype='<U179'),\n",
              " 81: array(['{\\\\RTF1\\\\ANSI\\\\ANSICPG1252\\\\UC1\\\\DEFF1{\\\\FONTTBL',\n",
              "        '{\\\\F0\\\\FSWISS\\\\FCHARSET0\\\\FPRQ2', 'ARIAL;}', ..., 'b@sur@',\n",
              "        'b@sur@', 'b@sur@'], dtype='<U179'),\n",
              " 82: array(['{\\\\RTF1\\\\ANSI\\\\ANSICPG1252\\\\UC1\\\\DEFF1{\\\\FONTTBL',\n",
              "        '{\\\\F0\\\\FSWISS\\\\FCHARSET0\\\\FPRQ2', 'ARIAL;}', ..., 'b@sur@',\n",
              "        'b@sur@', 'b@sur@'], dtype='<U179'),\n",
              " 83: array(['{\\\\RTF1\\\\ANSI\\\\ANSICPG1252\\\\UC1\\\\DEFF1{\\\\FONTTBL',\n",
              "        '{\\\\F0\\\\FSWISS\\\\FCHARSET0\\\\FPRQ2', 'ARIAL;}', ..., 'b@sur@',\n",
              "        'b@sur@', 'b@sur@'], dtype='<U193'),\n",
              " 84: array(['{\\\\RTF1\\\\ANSI\\\\ANSICPG1252\\\\UC1\\\\DEFF1{\\\\FONTTBL',\n",
              "        '{\\\\F0\\\\FSWISS\\\\FCHARSET0\\\\FPRQ2', 'ARIAL;}', ..., 'b@sur@',\n",
              "        'b@sur@', 'b@sur@'], dtype='<U179'),\n",
              " 85: array(['{\\\\RTF1\\\\ANSI\\\\ANSICPG1252\\\\UC1\\\\DEFF1{\\\\FONTTBL',\n",
              "        '{\\\\F0\\\\FSWISS\\\\FCHARSET0\\\\FPRQ2', 'ARIAL;}', ..., 'b@sur@',\n",
              "        'b@sur@', 'b@sur@'], dtype='<U193'),\n",
              " 86: array(['{\\\\RTF1\\\\ANSI\\\\ANSICPG1252\\\\UC1\\\\DEFF1{\\\\FONTTBL',\n",
              "        '{\\\\F0\\\\FSWISS\\\\FCHARSET0\\\\FPRQ2', 'ARIAL;}', ..., 'b@sur@',\n",
              "        'b@sur@', 'b@sur@'], dtype='<U179'),\n",
              " 87: array(['{\\\\RTF1\\\\ANSI\\\\ANSICPG1252\\\\UC1\\\\DEFF1{\\\\FONTTBL',\n",
              "        '{\\\\F0\\\\FSWISS\\\\FCHARSET0\\\\FPRQ2', 'ARIAL;}', ..., 'b@sur@',\n",
              "        'b@sur@', 'b@sur@'], dtype='<U179'),\n",
              " 88: array(['{\\\\RTF1\\\\ANSI\\\\ANSICPG1252\\\\UC1\\\\DEFF1{\\\\FONTTBL',\n",
              "        '{\\\\F0\\\\FSWISS\\\\FCHARSET0\\\\FPRQ2', 'ARIAL;}', ..., 'b@sur@',\n",
              "        'b@sur@', 'b@sur@'], dtype='<U179'),\n",
              " 89: array(['{\\\\RTF1\\\\ANSI\\\\ANSICPG1252\\\\UC1\\\\DEFF1{\\\\FONTTBL',\n",
              "        '{\\\\F0\\\\FSWISS\\\\FCHARSET0\\\\FPRQ2', 'ARIAL;}', ..., 'b@sur@',\n",
              "        'b@sur@', 'b@sur@'], dtype='<U185'),\n",
              " 90: array(['{\\\\RTF1\\\\ANSI\\\\ANSICPG1252\\\\UC1\\\\DEFF0{\\\\FONTTBL',\n",
              "        '{\\\\F0\\\\FSWISS\\\\FCHARSET0\\\\FPRQ2', 'ARIAL;}', ..., 'b@sur@',\n",
              "        'b@sur@', 'b@sur@'], dtype='<U179'),\n",
              " 91: array(['{\\\\RTF1\\\\ANSI\\\\ANSICPG1252\\\\UC1\\\\DEFF1{\\\\FONTTBL',\n",
              "        '{\\\\F0\\\\FSWISS\\\\FCHARSET0\\\\FPRQ2', 'ARIAL;}', ..., 'b@sur@',\n",
              "        'b@sur@', 'b@sur@'], dtype='<U179'),\n",
              " 92: array(['{\\\\RTF1\\\\ANSI\\\\ANSICPG1252\\\\UC1\\\\DEFF1{\\\\FONTTBL',\n",
              "        '{\\\\F0\\\\FSWISS\\\\FCHARSET0\\\\FPRQ2', 'ARIAL;}', ..., 'b@sur@',\n",
              "        'b@sur@', 'b@sur@'], dtype='<U187'),\n",
              " 93: array(['{\\\\RTF1\\\\ANSI\\\\ANSICPG1252\\\\UC1\\\\DEFF1{\\\\FONTTBL',\n",
              "        '{\\\\F0\\\\FSWISS\\\\FCHARSET0\\\\FPRQ2', 'ARIAL;}', ..., 'b@sur@',\n",
              "        'b@sur@', 'b@sur@'], dtype='<U179'),\n",
              " 94: array(['{\\\\RTF1\\\\ANSI\\\\ANSICPG1252\\\\UC1\\\\DEFF1{\\\\FONTTBL',\n",
              "        '{\\\\F0\\\\FSWISS\\\\FCHARSET0\\\\FPRQ2', 'ARIAL;}', ..., 'b@sur@',\n",
              "        'b@sur@', 'b@sur@'], dtype='<U183'),\n",
              " 95: array(['{\\\\RTF1\\\\ANSI\\\\ANSICPG1252\\\\UC1\\\\DEFF0{\\\\FONTTBL',\n",
              "        '{\\\\F0\\\\FSWISS\\\\FCHARSET0\\\\FPRQ2', 'ARIAL;}', ..., 'b@sur@',\n",
              "        'b@sur@', 'b@sur@'], dtype='<U177'),\n",
              " 96: array(['{\\\\RTF1\\\\ANSI\\\\ANSICPG1252\\\\UC1\\\\DEFF1{\\\\FONTTBL',\n",
              "        '{\\\\F0\\\\FSWISS\\\\FCHARSET0\\\\FPRQ2', 'ARIAL;}', ..., 'b@sur@',\n",
              "        'b@sur@', 'b@sur@'], dtype='<U179'),\n",
              " 97: array(['{\\\\RTF1\\\\ANSI\\\\ANSICPG1252\\\\UC1\\\\DEFF1{\\\\FONTTBL',\n",
              "        '{\\\\F0\\\\FSWISS\\\\FCHARSET0\\\\FPRQ2', 'ARIAL;}', ..., 'b@sur@',\n",
              "        'b@sur@', 'b@sur@'], dtype='<U179'),\n",
              " 98: array(['{\\\\RTF1\\\\ANSI\\\\ANSICPG1252\\\\UC1\\\\DEFF1{\\\\FONTTBL',\n",
              "        '{\\\\F0\\\\FSWISS\\\\FCHARSET0\\\\FPRQ2', 'ARIAL;}', ..., 'b@sur@',\n",
              "        'b@sur@', 'b@sur@'], dtype='<U185'),\n",
              " 99: array(['{\\\\RTF1\\\\ANSI\\\\ANSICPG1252\\\\UC1\\\\DEFF1{\\\\FONTTBL',\n",
              "        '{\\\\F0\\\\FSWISS\\\\FCHARSET0\\\\FPRQ2', 'ARIAL;}', ..., 'b@sur@',\n",
              "        'b@sur@', 'b@sur@'], dtype='<U179'),\n",
              " 100: array(['{\\\\RTF1\\\\ANSI\\\\ANSICPG1252\\\\UC1\\\\DEFF1{\\\\FONTTBL',\n",
              "        '{\\\\F0\\\\FSWISS\\\\FCHARSET0\\\\FPRQ2', 'ARIAL;}', ..., 'b@sur@',\n",
              "        'b@sur@', 'b@sur@'], dtype='<U179'),\n",
              " 101: array(['{\\\\RTF1\\\\ANSI\\\\ANSICPG1252\\\\UC1\\\\DEFF1{\\\\FONTTBL',\n",
              "        '{\\\\F0\\\\FSWISS\\\\FCHARSET0\\\\FPRQ2', 'ARIAL;}', ..., 'b@sur@',\n",
              "        'b@sur@', 'b@sur@'], dtype='<U179'),\n",
              " 102: array(['{\\\\RTF1\\\\ANSI\\\\ANSICPG1252\\\\UC1\\\\DEFF1{\\\\FONTTBL',\n",
              "        '{\\\\F0\\\\FSWISS\\\\FCHARSET0\\\\FPRQ2', 'ARIAL;}', ..., 'b@sur@',\n",
              "        'b@sur@', 'b@sur@'], dtype='<U183'),\n",
              " 103: array(['{\\\\RTF1\\\\ANSI\\\\ANSICPG1252\\\\UC1\\\\DEFF1{\\\\FONTTBL',\n",
              "        '{\\\\F0\\\\FSWISS\\\\FCHARSET0\\\\FPRQ2', 'ARIAL;}', ..., 'b@sur@',\n",
              "        'b@sur@', 'b@sur@'], dtype='<U179'),\n",
              " 104: array(['{\\\\RTF1\\\\ANSI\\\\ANSICPG1252\\\\UC1\\\\DEFF1{\\\\FONTTBL',\n",
              "        '{\\\\F0\\\\FSWISS\\\\FCHARSET0\\\\FPRQ2', 'ARIAL;}', ..., 'b@sur@',\n",
              "        'b@sur@', 'b@sur@'], dtype='<U185'),\n",
              " 105: array(['{\\\\RTF1\\\\ANSI\\\\ANSICPG1252\\\\UC1\\\\DEFF1{\\\\FONTTBL',\n",
              "        '{\\\\F0\\\\FSWISS\\\\FCHARSET0\\\\FPRQ2', 'ARIAL;}', ..., 'b@sur@',\n",
              "        'b@sur@', 'b@sur@'], dtype='<U179'),\n",
              " 106: array(['{\\\\RTF1\\\\ANSI\\\\ANSICPG1252\\\\UC1\\\\DEFF1{\\\\FONTTBL',\n",
              "        '{\\\\F0\\\\FSWISS\\\\FCHARSET0\\\\FPRQ2', 'ARIAL;}', ..., '-',\n",
              "        '\\\\PAR\\\\PAR', '}'], dtype='<U179'),\n",
              " 107: array(['{\\\\RTF1\\\\ANSI\\\\ANSICPG1252\\\\UC1\\\\DEFF1{\\\\FONTTBL',\n",
              "        '{\\\\F0\\\\FSWISS\\\\FCHARSET0\\\\FPRQ2', 'ARIAL;}', ..., 'b@sur@',\n",
              "        'b@sur@', 'b@sur@'], dtype='<U179'),\n",
              " 108: array(['{\\\\RTF1\\\\ANSI\\\\ANSICPG1252\\\\UC1\\\\DEFF1{\\\\FONTTBL',\n",
              "        '{\\\\F0\\\\FSWISS\\\\FCHARSET0\\\\FPRQ2', 'ARIAL;}', ..., 'b@sur@',\n",
              "        'b@sur@', 'b@sur@'], dtype='<U231'),\n",
              " 109: array(['{\\\\RTF1\\\\ANSI\\\\ANSICPG1252\\\\UC1\\\\DEFF1{\\\\FONTTBL',\n",
              "        '{\\\\F0\\\\FSWISS\\\\FCHARSET0\\\\FPRQ2', 'ARIAL;}', ..., 'b@sur@',\n",
              "        'b@sur@', 'b@sur@'], dtype='<U179'),\n",
              " 110: array(['{\\\\RTF1\\\\ANSI\\\\ANSICPG1252\\\\UC1\\\\DEFF1{\\\\FONTTBL',\n",
              "        '{\\\\F0\\\\FSWISS\\\\FCHARSET0\\\\FPRQ2', 'ARIAL;}', ..., 'b@sur@',\n",
              "        'b@sur@', 'b@sur@'], dtype='<U179'),\n",
              " 111: array(['{\\\\RTF1\\\\ANSI\\\\ANSICPG1252\\\\UC1\\\\DEFF1{\\\\FONTTBL',\n",
              "        '{\\\\F0\\\\FSWISS\\\\FCHARSET0\\\\FPRQ2', 'ARIAL;}', ..., 'b@sur@',\n",
              "        'b@sur@', 'b@sur@'], dtype='<U179'),\n",
              " 112: array(['{\\\\RTF1\\\\ANSI\\\\ANSICPG1252\\\\UC1\\\\DEFF1{\\\\FONTTBL',\n",
              "        '{\\\\F0\\\\FSWISS\\\\FCHARSET0\\\\FPRQ2', 'ARIAL;}', ..., 'b@sur@',\n",
              "        'b@sur@', 'b@sur@'], dtype='<U185'),\n",
              " 113: array(['{\\\\RTF1\\\\ANSI\\\\ANSICPG1252\\\\UC1\\\\DEFF1{\\\\FONTTBL',\n",
              "        '{\\\\F0\\\\FSWISS\\\\FCHARSET0\\\\FPRQ2', 'ARIAL;}', ..., 'b@sur@',\n",
              "        'b@sur@', 'b@sur@'], dtype='<U179'),\n",
              " 114: array(['{\\\\RTF1\\\\ANSI\\\\ANSICPG1252\\\\UC1\\\\DEFF1{\\\\FONTTBL',\n",
              "        '{\\\\F0\\\\FSWISS\\\\FCHARSET0\\\\FPRQ2', 'ARIAL;}', ..., 'b@sur@',\n",
              "        'b@sur@', 'b@sur@'], dtype='<U185'),\n",
              " 115: array(['{\\\\RTF1\\\\ANSI\\\\ANSICPG1252\\\\UC1\\\\DEFF1{\\\\FONTTBL',\n",
              "        '{\\\\F0\\\\FSWISS\\\\FCHARSET0\\\\FPRQ2', 'ARIAL;}', ..., 'b@sur@',\n",
              "        'b@sur@', 'b@sur@'], dtype='<U324'),\n",
              " 116: array(['{\\\\RTF1\\\\ANSI\\\\ANSICPG1252\\\\UC1\\\\DEFF0{\\\\FONTTBL',\n",
              "        '{\\\\F0\\\\FSWISS\\\\FCHARSET0\\\\FPRQ2', 'ARIAL;}', ..., 'b@sur@',\n",
              "        'b@sur@', 'b@sur@'], dtype='<U183'),\n",
              " 117: array(['{\\\\RTF1\\\\ANSI\\\\ANSICPG1252\\\\UC1\\\\DEFF1{\\\\FONTTBL',\n",
              "        '{\\\\F0\\\\FSWISS\\\\FCHARSET0\\\\FPRQ2', 'ARIAL;}', ..., 'b@sur@',\n",
              "        'b@sur@', 'b@sur@'], dtype='<U183'),\n",
              " 118: array(['{\\\\RTF1\\\\ANSI\\\\ANSICPG1252\\\\UC1\\\\DEFF0{\\\\FONTTBL',\n",
              "        '{\\\\F0\\\\FSWISS\\\\FCHARSET0\\\\FPRQ2', 'ARIAL;}', ..., 'b@sur@',\n",
              "        'b@sur@', 'b@sur@'], dtype='<U182'),\n",
              " 119: array(['{\\\\RTF1\\\\ANSI\\\\ANSICPG1252\\\\UC1\\\\DEFF1{\\\\FONTTBL',\n",
              "        '{\\\\F0\\\\FSWISS\\\\FCHARSET0\\\\FPRQ2', 'ARIAL;}', ..., 'b@sur@',\n",
              "        'b@sur@', 'b@sur@'], dtype='<U187'),\n",
              " 120: array(['{\\\\RTF1\\\\ANSI\\\\ANSICPG1252\\\\UC1\\\\DEFF1{\\\\FONTTBL',\n",
              "        '{\\\\F0\\\\FSWISS\\\\FCHARSET0\\\\FPRQ2', 'ARIAL;}', ..., 'b@sur@',\n",
              "        'b@sur@', 'b@sur@'], dtype='<U179'),\n",
              " 121: array(['{\\\\RTF1\\\\ANSI\\\\ANSICPG1252\\\\UC1\\\\DEFF1{\\\\FONTTBL',\n",
              "        '{\\\\F0\\\\FSWISS\\\\FCHARSET0\\\\FPRQ2', 'ARIAL;}', ..., 'b@sur@',\n",
              "        'b@sur@', 'b@sur@'], dtype='<U185'),\n",
              " 122: array(['{\\\\RTF1\\\\ANSI\\\\ANSICPG1252\\\\UC1\\\\DEFF1{\\\\FONTTBL',\n",
              "        '{\\\\F0\\\\FSWISS\\\\FCHARSET0\\\\FPRQ2', 'ARIAL;}', ..., 'b@sur@',\n",
              "        'b@sur@', 'b@sur@'], dtype='<U179'),\n",
              " 123: array(['{\\\\RTF1\\\\ANSI\\\\ANSICPG1252\\\\UC1\\\\DEFF1{\\\\FONTTBL',\n",
              "        '{\\\\F0\\\\FSWISS\\\\FCHARSET0\\\\FPRQ2', 'ARIAL;}', ..., 'b@sur@',\n",
              "        'b@sur@', 'b@sur@'], dtype='<U185'),\n",
              " 124: array(['{\\\\RTF1\\\\ANSI\\\\ANSICPG1252\\\\UC1\\\\DEFF1{\\\\FONTTBL',\n",
              "        '{\\\\F0\\\\FSWISS\\\\FCHARSET0\\\\FPRQ2', 'ARIAL;}', ..., 'b@sur@',\n",
              "        'b@sur@', 'b@sur@'], dtype='<U179'),\n",
              " 125: array(['{\\\\RTF1\\\\ANSI\\\\ANSICPG1252\\\\UC1\\\\DEFF1{\\\\FONTTBL',\n",
              "        '{\\\\F0\\\\FSWISS\\\\FCHARSET0\\\\FPRQ2', 'ARIAL;}', ..., 'b@sur@',\n",
              "        'b@sur@', 'b@sur@'], dtype='<U181'),\n",
              " 126: array(['{\\\\RTF1\\\\ANSI\\\\ANSICPG1252\\\\UC1\\\\DEFF1{\\\\FONTTBL',\n",
              "        '{\\\\F0\\\\FSWISS\\\\FCHARSET0\\\\FPRQ2', 'ARIAL;}', ..., 'b@sur@',\n",
              "        'b@sur@', 'b@sur@'], dtype='<U179'),\n",
              " 127: array(['{\\\\RTF1\\\\ANSI\\\\ANSICPG1252\\\\UC1\\\\DEFF1{\\\\FONTTBL',\n",
              "        '{\\\\F0\\\\FSWISS\\\\FCHARSET0\\\\FPRQ2', 'ARIAL;}', ..., 'b@sur@',\n",
              "        'b@sur@', 'b@sur@'], dtype='<U185'),\n",
              " 128: array(['{\\\\RTF1\\\\ANSI\\\\ANSICPG1252\\\\UC1\\\\DEFF1{\\\\FONTTBL',\n",
              "        '{\\\\F0\\\\FSWISS\\\\FCHARSET0\\\\FPRQ2', 'ARIAL;}', ..., 'b@sur@',\n",
              "        'b@sur@', 'b@sur@'], dtype='<U179'),\n",
              " 129: array(['{\\\\RTF1\\\\ANSI\\\\ANSICPG1252\\\\UC1\\\\DEFF1{\\\\FONTTBL',\n",
              "        '{\\\\F0\\\\FSWISS\\\\FCHARSET0\\\\FPRQ2', 'ARIAL;}', ..., 'b@sur@',\n",
              "        'b@sur@', 'b@sur@'], dtype='<U185'),\n",
              " 130: array(['{\\\\RTF1\\\\ANSI\\\\ANSICPG1252\\\\UC1\\\\DEFF1{\\\\FONTTBL',\n",
              "        '{\\\\F0\\\\FSWISS\\\\FCHARSET0\\\\FPRQ2', 'ARIAL;}', ..., 'b@sur@',\n",
              "        'b@sur@', 'b@sur@'], dtype='<U179'),\n",
              " 131: array(['{\\\\RTF1\\\\ANSI\\\\ANSICPG1252\\\\UC1\\\\DEFF1{\\\\FONTTBL',\n",
              "        '{\\\\F0\\\\FSWISS\\\\FCHARSET0\\\\FPRQ2', 'ARIAL;}', ..., 'b@sur@',\n",
              "        'b@sur@', 'b@sur@'], dtype='<U179'),\n",
              " 132: array(['{\\\\RTF1\\\\ANSI\\\\ANSICPG1252\\\\UC1\\\\DEFF1{\\\\FONTTBL',\n",
              "        '{\\\\F0\\\\FSWISS\\\\FCHARSET0\\\\FPRQ2', 'ARIAL;}', ..., 'b@sur@',\n",
              "        'b@sur@', 'b@sur@'], dtype='<U179'),\n",
              " 133: array(['{\\\\RTF1\\\\ANSI\\\\ANSICPG1252\\\\UC1\\\\DEFF1{\\\\FONTTBL',\n",
              "        '{\\\\F0\\\\FSWISS\\\\FCHARSET0\\\\FPRQ2', 'ARIAL;}', ..., 'b@sur@',\n",
              "        'b@sur@', 'b@sur@'], dtype='<U185'),\n",
              " 134: array(['{\\\\RTF1\\\\ANSI\\\\ANSICPG1252\\\\UC1\\\\DEFF1{\\\\FONTTBL',\n",
              "        '{\\\\F0\\\\FSWISS\\\\FCHARSET0\\\\FPRQ2', 'ARIAL;}', ..., 'b@sur@',\n",
              "        'b@sur@', 'b@sur@'], dtype='<U183'),\n",
              " 135: array(['{\\\\RTF1\\\\ANSI\\\\ANSICPG1252\\\\UC1\\\\DEFF1{\\\\FONTTBL',\n",
              "        '{\\\\F0\\\\FSWISS\\\\FCHARSET0\\\\FPRQ2', 'ARIAL;}', ..., 'b@sur@',\n",
              "        'b@sur@', 'b@sur@'], dtype='<U179'),\n",
              " 136: array(['{\\\\RTF1\\\\ANSI\\\\ANSICPG1252\\\\UC1\\\\DEFF1{\\\\FONTTBL',\n",
              "        '{\\\\F0\\\\FSWISS\\\\FCHARSET0\\\\FPRQ2', 'ARIAL;}', ..., 'b@sur@',\n",
              "        'b@sur@', 'b@sur@'], dtype='<U179'),\n",
              " 137: array(['{\\\\RTF1\\\\ANSI\\\\ANSICPG1252\\\\UC1\\\\DEFF0{\\\\FONTTBL',\n",
              "        '{\\\\F0\\\\FSWISS\\\\FCHARSET0\\\\FPRQ2', 'ARIAL;}', ..., 'b@sur@',\n",
              "        'b@sur@', 'b@sur@'], dtype='<U275'),\n",
              " 138: array(['{\\\\RTF1\\\\ANSI\\\\ANSICPG1252\\\\UC1\\\\DEFF1{\\\\FONTTBL',\n",
              "        '{\\\\F0\\\\FSWISS\\\\FCHARSET0\\\\FPRQ2', 'ARIAL;}', ..., 'b@sur@',\n",
              "        'b@sur@', 'b@sur@'], dtype='<U179'),\n",
              " 139: array(['{\\\\RTF1\\\\ANSI\\\\ANSICPG1252\\\\UC1\\\\DEFF1{\\\\FONTTBL',\n",
              "        '{\\\\F0\\\\FSWISS\\\\FCHARSET0\\\\FPRQ2', 'ARIAL;}', ..., 'b@sur@',\n",
              "        'b@sur@', 'b@sur@'], dtype='<U179'),\n",
              " 140: array(['{\\\\RTF1\\\\ANSI\\\\ANSICPG1252\\\\UC1\\\\DEFF1{\\\\FONTTBL',\n",
              "        '{\\\\F0\\\\FSWISS\\\\FCHARSET0\\\\FPRQ2', 'ARIAL;}', ..., 'b@sur@',\n",
              "        'b@sur@', 'b@sur@'], dtype='<U179'),\n",
              " 141: array(['{\\\\RTF1\\\\ANSI\\\\ANSICPG1252\\\\UC1\\\\DEFF1{\\\\FONTTBL',\n",
              "        '{\\\\F0\\\\FSWISS\\\\FCHARSET0\\\\FPRQ2', 'ARIAL;}', ..., 'b@sur@',\n",
              "        'b@sur@', 'b@sur@'], dtype='<U185'),\n",
              " 142: array(['{\\\\RTF1\\\\ANSI\\\\ANSICPG1252\\\\UC1\\\\DEFF1{\\\\FONTTBL',\n",
              "        '{\\\\F0\\\\FSWISS\\\\FCHARSET0\\\\FPRQ2', 'ARIAL;}', ..., 'b@sur@',\n",
              "        'b@sur@', 'b@sur@'], dtype='<U179'),\n",
              " 143: array(['{\\\\RTF1\\\\ANSI\\\\ANSICPG1252\\\\UC1\\\\DEFF1{\\\\FONTTBL',\n",
              "        '{\\\\F0\\\\FSWISS\\\\FCHARSET0\\\\FPRQ2', 'ARIAL;}', ..., 'b@sur@',\n",
              "        'b@sur@', 'b@sur@'], dtype='<U185'),\n",
              " 144: array(['{\\\\RTF1\\\\ANSI\\\\ANSICPG1252\\\\UC1\\\\DEFF1{\\\\FONTTBL',\n",
              "        '{\\\\F0\\\\FSWISS\\\\FCHARSET0\\\\FPRQ2', 'ARIAL;}', ..., 'b@sur@',\n",
              "        'b@sur@', 'b@sur@'], dtype='<U179'),\n",
              " 145: array(['{\\\\RTF1\\\\ANSI\\\\ANSICPG1252\\\\UC1\\\\DEFF1{\\\\FONTTBL',\n",
              "        '{\\\\F0\\\\FSWISS\\\\FCHARSET0\\\\FPRQ2', 'ARIAL;}', ..., 'b@sur@',\n",
              "        'b@sur@', 'b@sur@'], dtype='<U185'),\n",
              " 146: array(['{\\\\RTF1\\\\ANSI\\\\ANSICPG1252\\\\UC1\\\\DEFF1{\\\\FONTTBL',\n",
              "        '{\\\\F0\\\\FSWISS\\\\FCHARSET0\\\\FPRQ2', 'ARIAL;}', ..., 'b@sur@',\n",
              "        'b@sur@', 'b@sur@'], dtype='<U179'),\n",
              " 147: array(['{\\\\RTF1\\\\ANSI\\\\ANSICPG1252\\\\UC1\\\\DEFF1{\\\\FONTTBL',\n",
              "        '{\\\\F0\\\\FSWISS\\\\FCHARSET0\\\\FPRQ2', 'ARIAL;}', ..., 'b@sur@',\n",
              "        'b@sur@', 'b@sur@'], dtype='<U189'),\n",
              " 148: array(['{\\\\RTF1\\\\ANSI\\\\ANSICPG1252\\\\UC1\\\\DEFF1{\\\\FONTTBL',\n",
              "        '{\\\\F0\\\\FSWISS\\\\FCHARSET0\\\\FPRQ2', 'ARIAL;}', ..., 'b@sur@',\n",
              "        'b@sur@', 'b@sur@'], dtype='<U183'),\n",
              " 149: array(['{\\\\RTF1\\\\ANSI\\\\ANSICPG1252\\\\UC1\\\\DEFF1{\\\\FONTTBL',\n",
              "        '{\\\\F0\\\\FSWISS\\\\FCHARSET0\\\\FPRQ2', 'ARIAL;}', ..., 'b@sur@',\n",
              "        'b@sur@', 'b@sur@'], dtype='<U179'),\n",
              " 150: array(['{\\\\RTF1\\\\ANSI\\\\ANSICPG1252\\\\UC1\\\\DEFF1{\\\\FONTTBL',\n",
              "        '{\\\\F0\\\\FSWISS\\\\FCHARSET0\\\\FPRQ2', 'ARIAL;}', ..., 'b@sur@',\n",
              "        'b@sur@', 'b@sur@'], dtype='<U185'),\n",
              " 151: array(['{\\\\RTF1\\\\ANSI\\\\ANSICPG1252\\\\UC1\\\\DEFF1{\\\\FONTTBL',\n",
              "        '{\\\\F0\\\\FSWISS\\\\FCHARSET0\\\\FPRQ2', 'ARIAL;}', ..., 'b@sur@',\n",
              "        'b@sur@', 'b@sur@'], dtype='<U179'),\n",
              " 152: array(['{\\\\RTF1\\\\ANSI\\\\ANSICPG1252\\\\UC1\\\\DEFF1{\\\\FONTTBL',\n",
              "        '{\\\\F0\\\\FSWISS\\\\FCHARSET0\\\\FPRQ2', 'ARIAL;}', ..., 'b@sur@',\n",
              "        'b@sur@', 'b@sur@'], dtype='<U179'),\n",
              " 153: array(['{\\\\RTF1\\\\ANSI\\\\ANSICPG1252\\\\UC1\\\\DEFF1{\\\\FONTTBL',\n",
              "        '{\\\\F0\\\\FSWISS\\\\FCHARSET0\\\\FPRQ2', 'ARIAL;}', ..., 'b@sur@',\n",
              "        'b@sur@', 'b@sur@'], dtype='<U185'),\n",
              " 154: array(['{\\\\RTF1\\\\ANSI\\\\ANSICPG1252\\\\UC1\\\\DEFF1{\\\\FONTTBL',\n",
              "        '{\\\\F0\\\\FSWISS\\\\FCHARSET0\\\\FPRQ2', 'ARIAL;}', ..., 'b@sur@',\n",
              "        'b@sur@', 'b@sur@'], dtype='<U179'),\n",
              " 155: array(['{\\\\RTF1\\\\ANSI\\\\ANSICPG1252\\\\UC1\\\\DEFF0{\\\\FONTTBL',\n",
              "        '{\\\\F0\\\\FSWISS\\\\FCHARSET0\\\\FPRQ2', 'ARIAL;}', ..., 'b@sur@',\n",
              "        'b@sur@', 'b@sur@'], dtype='<U275'),\n",
              " 156: array(['{\\\\RTF1\\\\ANSI\\\\ANSICPG1252\\\\UC1\\\\DEFF1{\\\\FONTTBL',\n",
              "        '{\\\\F0\\\\FSWISS\\\\FCHARSET0\\\\FPRQ2', 'ARIAL;}', ..., 'b@sur@',\n",
              "        'b@sur@', 'b@sur@'], dtype='<U179'),\n",
              " 157: array(['{\\\\RTF1\\\\ANSI\\\\ANSICPG1252\\\\UC1\\\\DEFF1{\\\\FONTTBL',\n",
              "        '{\\\\F0\\\\FSWISS\\\\FCHARSET0\\\\FPRQ2', 'ARIAL;}', ..., 'b@sur@',\n",
              "        'b@sur@', 'b@sur@'], dtype='<U179'),\n",
              " 158: array(['{\\\\RTF1\\\\ANSI\\\\ANSICPG1252\\\\UC1\\\\DEFF1{\\\\FONTTBL',\n",
              "        '{\\\\F0\\\\FSWISS\\\\FCHARSET0\\\\FPRQ2', 'ARIAL;}', ..., 'b@sur@',\n",
              "        'b@sur@', 'b@sur@'], dtype='<U185'),\n",
              " 159: array(['{\\\\RTF1\\\\ANSI\\\\ANSICPG1252\\\\UC1\\\\DEFF1{\\\\FONTTBL',\n",
              "        '{\\\\F0\\\\FSWISS\\\\FCHARSET0\\\\FPRQ2', 'ARIAL;}', ..., 'b@sur@',\n",
              "        'b@sur@', 'b@sur@'], dtype='<U179'),\n",
              " 160: array(['{\\\\RTF1\\\\ANSI\\\\ANSICPG1252\\\\UC1\\\\DEFF1{\\\\FONTTBL',\n",
              "        '{\\\\F0\\\\FSWISS\\\\FCHARSET0\\\\FPRQ2', 'ARIAL;}', ..., 'b@sur@',\n",
              "        'b@sur@', 'b@sur@'], dtype='<U185'),\n",
              " 161: array(['{\\\\RTF1\\\\ANSI\\\\ANSICPG1252\\\\UC1\\\\DEFF1{\\\\FONTTBL',\n",
              "        '{\\\\F0\\\\FSWISS\\\\FCHARSET0\\\\FPRQ2', 'ARIAL;}', ..., 'b@sur@',\n",
              "        'b@sur@', 'b@sur@'], dtype='<U179'),\n",
              " 162: array(['{\\\\RTF1\\\\ANSI\\\\ANSICPG1252\\\\UC1\\\\DEFF1{\\\\FONTTBL',\n",
              "        '{\\\\F0\\\\FSWISS\\\\FCHARSET0\\\\FPRQ2', 'ARIAL;}', ..., 'b@sur@',\n",
              "        'b@sur@', 'b@sur@'], dtype='<U179'),\n",
              " 163: array(['{\\\\RTF1\\\\ANSI\\\\ANSICPG1252\\\\UC1\\\\DEFF1{\\\\FONTTBL',\n",
              "        '{\\\\F0\\\\FSWISS\\\\FCHARSET0\\\\FPRQ2', 'ARIAL;}', ..., 'b@sur@',\n",
              "        'b@sur@', 'b@sur@'], dtype='<U185'),\n",
              " 164: array(['{\\\\RTF1\\\\ANSI\\\\ANSICPG1252\\\\UC1\\\\DEFF1{\\\\FONTTBL',\n",
              "        '{\\\\F0\\\\FSWISS\\\\FCHARSET0\\\\FPRQ2', 'ARIAL;}', ..., 'b@sur@',\n",
              "        'b@sur@', 'b@sur@'], dtype='<U183'),\n",
              " 165: array(['{\\\\RTF1\\\\ANSI\\\\ANSICPG1252\\\\UC1\\\\DEFF1{\\\\FONTTBL',\n",
              "        '{\\\\F0\\\\FSWISS\\\\FCHARSET0\\\\FPRQ2', 'ARIAL;}', ..., 'b@sur@',\n",
              "        'b@sur@', 'b@sur@'], dtype='<U183'),\n",
              " 166: array(['{\\\\RTF1\\\\ANSI\\\\ANSICPG1252\\\\UC1\\\\DEFF1{\\\\FONTTBL',\n",
              "        '{\\\\F0\\\\FSWISS\\\\FCHARSET0\\\\FPRQ2', 'ARIAL;}', ..., 'b@sur@',\n",
              "        'b@sur@', 'b@sur@'], dtype='<U183'),\n",
              " 167: array(['{\\\\RTF1\\\\ANSI\\\\ANSICPG1252\\\\UC1\\\\DEFF1{\\\\FONTTBL',\n",
              "        '{\\\\F0\\\\FSWISS\\\\FCHARSET0\\\\FPRQ2', 'ARIAL;}', ..., 'b@sur@',\n",
              "        'b@sur@', 'b@sur@'], dtype='<U185'),\n",
              " 168: array(['{\\\\RTF1\\\\ANSI\\\\ANSICPG1252\\\\UC1\\\\DEFF1{\\\\FONTTBL',\n",
              "        '{\\\\F0\\\\FSWISS\\\\FCHARSET0\\\\FPRQ2', 'ARIAL;}', ..., 'b@sur@',\n",
              "        'b@sur@', 'b@sur@'], dtype='<U179'),\n",
              " 169: array(['{\\\\RTF1\\\\ANSI\\\\ANSICPG1252\\\\UC1\\\\DEFF1{\\\\FONTTBL',\n",
              "        '{\\\\F0\\\\FSWISS\\\\FCHARSET0\\\\FPRQ2', 'ARIAL;}', ..., 'b@sur@',\n",
              "        'b@sur@', 'b@sur@'], dtype='<U185'),\n",
              " 170: array(['{\\\\RTF1\\\\ANSI\\\\ANSICPG1252\\\\UC1\\\\DEFF1{\\\\FONTTBL',\n",
              "        '{\\\\F0\\\\FSWISS\\\\FCHARSET0\\\\FPRQ2', 'ARIAL;}', ..., 'b@sur@',\n",
              "        'b@sur@', 'b@sur@'], dtype='<U179'),\n",
              " 171: array(['{\\\\RTF1\\\\ANSI\\\\ANSICPG1252\\\\UC1\\\\DEFF1{\\\\FONTTBL',\n",
              "        '{\\\\F0\\\\FSWISS\\\\FCHARSET0\\\\FPRQ2', 'ARIAL;}', ..., 'b@sur@',\n",
              "        'b@sur@', 'b@sur@'], dtype='<U179'),\n",
              " 172: array(['{\\\\RTF1\\\\ANSI\\\\ANSICPG1252\\\\UC1\\\\DEFF1{\\\\FONTTBL',\n",
              "        '{\\\\F0\\\\FSWISS\\\\FCHARSET0\\\\FPRQ2', 'ARIAL;}', ..., 'b@sur@',\n",
              "        'b@sur@', 'b@sur@'], dtype='<U179'),\n",
              " 173: array(['{\\\\RTF1\\\\ANSI\\\\ANSICPG1252\\\\UC1\\\\DEFF1{\\\\FONTTBL',\n",
              "        '{\\\\F0\\\\FSWISS\\\\FCHARSET0\\\\FPRQ2', 'ARIAL;}', ..., 'b@sur@',\n",
              "        'b@sur@', 'b@sur@'], dtype='<U177'),\n",
              " 174: array(['{\\\\RTF1\\\\ANSI\\\\ANSICPG1252\\\\UC1\\\\DEFF1{\\\\FONTTBL',\n",
              "        '{\\\\F0\\\\FSWISS\\\\FCHARSET0\\\\FPRQ2', 'ARIAL;}', ..., 'b@sur@',\n",
              "        'b@sur@', 'b@sur@'], dtype='<U179'),\n",
              " 175: array(['{\\\\RTF1\\\\ANSI\\\\ANSICPG1252\\\\UC1\\\\DEFF1{\\\\FONTTBL',\n",
              "        '{\\\\F0\\\\FSWISS\\\\FCHARSET0\\\\FPRQ2', 'ARIAL;}', ..., 'b@sur@',\n",
              "        'b@sur@', 'b@sur@'], dtype='<U185'),\n",
              " 176: array(['{\\\\RTF1\\\\ANSI\\\\ANSICPG1252\\\\UC1\\\\DEFF1{\\\\FONTTBL',\n",
              "        '{\\\\F0\\\\FSWISS\\\\FCHARSET0\\\\FPRQ2', 'ARIAL;}', ..., 'b@sur@',\n",
              "        'b@sur@', 'b@sur@'], dtype='<U179'),\n",
              " 177: array(['{\\\\RTF1\\\\ANSI\\\\ANSICPG1252\\\\UC1\\\\DEFF1{\\\\FONTTBL',\n",
              "        '{\\\\F0\\\\FSWISS\\\\FCHARSET0\\\\FPRQ2', 'ARIAL;}', ..., 'b@sur@',\n",
              "        'b@sur@', 'b@sur@'], dtype='<U185'),\n",
              " 178: array(['{\\\\RTF1\\\\ANSI\\\\ANSICPG1252\\\\UC1\\\\DEFF1{\\\\FONTTBL',\n",
              "        '{\\\\F0\\\\FSWISS\\\\FCHARSET0\\\\FPRQ2', 'ARIAL;}', ..., 'b@sur@',\n",
              "        'b@sur@', 'b@sur@'], dtype='<U179'),\n",
              " 179: array(['{\\\\RTF1\\\\ANSI\\\\ANSICPG1252\\\\UC1\\\\DEFF1{\\\\FONTTBL',\n",
              "        '{\\\\F0\\\\FSWISS\\\\FCHARSET0\\\\FPRQ2', 'ARIAL;}', ..., 'b@sur@',\n",
              "        'b@sur@', 'b@sur@'], dtype='<U185'),\n",
              " 180: array(['{\\\\RTF1\\\\ANSI\\\\ANSICPG1252\\\\UC1\\\\DEFF1{\\\\FONTTBL',\n",
              "        '{\\\\F0\\\\FSWISS\\\\FCHARSET0\\\\FPRQ2', 'ARIAL;}', ..., 'b@sur@',\n",
              "        'b@sur@', 'b@sur@'], dtype='<U183'),\n",
              " 181: array(['{\\\\RTF1\\\\ANSI\\\\ANSICPG1252\\\\UC1\\\\DEFF1{\\\\FONTTBL',\n",
              "        '{\\\\F0\\\\FSWISS\\\\FCHARSET0\\\\FPRQ2', 'ARIAL;}', ..., 'b@sur@',\n",
              "        'b@sur@', 'b@sur@'], dtype='<U179'),\n",
              " 182: array(['{\\\\RTF1\\\\ANSI\\\\ANSICPG1252\\\\UC1\\\\DEFF1{\\\\FONTTBL',\n",
              "        '{\\\\F0\\\\FSWISS\\\\FCHARSET0\\\\FPRQ2', 'ARIAL;}', ..., 'b@sur@',\n",
              "        'b@sur@', 'b@sur@'], dtype='<U185'),\n",
              " 183: array(['{\\\\RTF1\\\\ANSI\\\\ANSICPG1252\\\\UC1\\\\DEFF1{\\\\FONTTBL',\n",
              "        '{\\\\F0\\\\FSWISS\\\\FCHARSET0\\\\FPRQ2', 'ARIAL;}', ..., 'b@sur@',\n",
              "        'b@sur@', 'b@sur@'], dtype='<U179'),\n",
              " 184: array(['{\\\\RTF1\\\\ANSI\\\\ANSICPG1252\\\\UC1\\\\DEFF1{\\\\FONTTBL',\n",
              "        '{\\\\F0\\\\FSWISS\\\\FCHARSET0\\\\FPRQ2', 'ARIAL;}', ..., 'b@sur@',\n",
              "        'b@sur@', 'b@sur@'], dtype='<U179'),\n",
              " 185: array(['{\\\\RTF1\\\\ANSI\\\\ANSICPG1252\\\\UC1\\\\DEFF1{\\\\FONTTBL',\n",
              "        '{\\\\F0\\\\FSWISS\\\\FCHARSET0\\\\FPRQ2', 'ARIAL;}', ..., 'b@sur@',\n",
              "        'b@sur@', 'b@sur@'], dtype='<U179'),\n",
              " 186: array(['{\\\\RTF1\\\\ANSI\\\\ANSICPG1252\\\\UC1\\\\DEFF0{\\\\FONTTBL',\n",
              "        '{\\\\F0\\\\FSWISS\\\\FCHARSET0\\\\FPRQ2', 'ARIAL;}', ..., 'b@sur@',\n",
              "        'b@sur@', 'b@sur@'], dtype='<U182'),\n",
              " 187: array(['{\\\\RTF1\\\\ANSI\\\\ANSICPG1252\\\\UC1\\\\DEFF0{\\\\FONTTBL',\n",
              "        '{\\\\F0\\\\FSWISS\\\\FCHARSET0\\\\FPRQ2', 'ARIAL;}', ..., 'b@sur@',\n",
              "        'b@sur@', 'b@sur@'], dtype='<U182'),\n",
              " 188: array(['{\\\\RTF1\\\\ANSI\\\\ANSICPG1252\\\\UC1\\\\DEFF1{\\\\FONTTBL',\n",
              "        '{\\\\F0\\\\FSWISS\\\\FCHARSET0\\\\FPRQ2', 'ARIAL;}', ..., 'b@sur@',\n",
              "        'b@sur@', 'b@sur@'], dtype='<U179'),\n",
              " 189: array(['{\\\\RTF1\\\\ANSI\\\\ANSICPG1252\\\\UC1\\\\DEFF1{\\\\FONTTBL',\n",
              "        '{\\\\F0\\\\FSWISS\\\\FCHARSET0\\\\FPRQ2', 'ARIAL;}', ..., 'b@sur@',\n",
              "        'b@sur@', 'b@sur@'], dtype='<U185'),\n",
              " 190: array(['{\\\\RTF1\\\\ANSI\\\\ANSICPG1252\\\\UC1\\\\DEFF1{\\\\FONTTBL',\n",
              "        '{\\\\F0\\\\FSWISS\\\\FCHARSET0\\\\FPRQ2', 'ARIAL;}', ..., 'b@sur@',\n",
              "        'b@sur@', 'b@sur@'], dtype='<U179'),\n",
              " 191: array(['{\\\\RTF1\\\\ANSI\\\\ANSICPG1252\\\\UC1\\\\DEFF1{\\\\FONTTBL',\n",
              "        '{\\\\F0\\\\FSWISS\\\\FCHARSET0\\\\FPRQ2', 'ARIAL;}', ..., 'b@sur@',\n",
              "        'b@sur@', 'b@sur@'], dtype='<U186'),\n",
              " 192: array(['{\\\\RTF1\\\\ANSI\\\\ANSICPG1252\\\\UC1\\\\DEFF1{\\\\FONTTBL',\n",
              "        '{\\\\F0\\\\FSWISS\\\\FCHARSET0\\\\FPRQ2', 'ARIAL;}', ..., 'b@sur@',\n",
              "        'b@sur@', 'b@sur@'], dtype='<U218'),\n",
              " 193: array(['{\\\\RTF1\\\\ANSI\\\\ANSICPG1252\\\\UC1\\\\DEFF1{\\\\FONTTBL',\n",
              "        '{\\\\F0\\\\FSWISS\\\\FCHARSET0\\\\FPRQ2', 'ARIAL;}', ..., 'b@sur@',\n",
              "        'b@sur@', 'b@sur@'], dtype='<U183'),\n",
              " 194: array(['{\\\\RTF1\\\\ANSI\\\\ANSICPG1252\\\\UC1\\\\DEFF1{\\\\FONTTBL',\n",
              "        '{\\\\F0\\\\FSWISS\\\\FCHARSET0\\\\FPRQ2', 'ARIAL;}', ..., 'b@sur@',\n",
              "        'b@sur@', 'b@sur@'], dtype='<U179'),\n",
              " 195: array(['{\\\\RTF1\\\\ANSI\\\\ANSICPG1252\\\\UC1\\\\DEFF1{\\\\FONTTBL',\n",
              "        '{\\\\F0\\\\FSWISS\\\\FCHARSET0\\\\FPRQ2', 'ARIAL;}', ..., 'b@sur@',\n",
              "        'b@sur@', 'b@sur@'], dtype='<U185'),\n",
              " 196: array(['{\\\\RTF1\\\\ANSI\\\\ANSICPG1252\\\\UC1\\\\DEFF1{\\\\FONTTBL',\n",
              "        '{\\\\F0\\\\FSWISS\\\\FCHARSET0\\\\FPRQ2', 'ARIAL;}', ..., 'b@sur@',\n",
              "        'b@sur@', 'b@sur@'], dtype='<U179'),\n",
              " 197: array(['{\\\\RTF1\\\\ANSI\\\\ANSICPG1252\\\\UC1\\\\DEFF1{\\\\FONTTBL',\n",
              "        '{\\\\F0\\\\FSWISS\\\\FCHARSET0\\\\FPRQ2', 'ARIAL;}', ..., 'b@sur@',\n",
              "        'b@sur@', 'b@sur@'], dtype='<U193'),\n",
              " 198: array(['{\\\\RTF1\\\\ANSI\\\\ANSICPG1252\\\\UC1\\\\DEFF1{\\\\FONTTBL',\n",
              "        '{\\\\F0\\\\FSWISS\\\\FCHARSET0\\\\FPRQ2', 'ARIAL;}', ..., 'b@sur@',\n",
              "        'b@sur@', 'b@sur@'], dtype='<U179'),\n",
              " 199: array(['{\\\\RTF1\\\\ANSI\\\\ANSICPG1252\\\\UC1\\\\DEFF1{\\\\FONTTBL',\n",
              "        '{\\\\F0\\\\FSWISS\\\\FCHARSET0\\\\FPRQ2', 'ARIAL;}', ..., 'b@sur@',\n",
              "        'b@sur@', 'b@sur@'], dtype='<U179'),\n",
              " 200: array(['{\\\\RTF1\\\\ANSI\\\\ANSICPG1252\\\\UC1\\\\DEFF1{\\\\FONTTBL',\n",
              "        '{\\\\F0\\\\FSWISS\\\\FCHARSET0\\\\FPRQ2', 'ARIAL;}', ..., 'b@sur@',\n",
              "        'b@sur@', 'b@sur@'], dtype='<U179'),\n",
              " 201: array(['{\\\\RTF1\\\\ANSI\\\\ANSICPG1252\\\\UC1\\\\DEFF1{\\\\FONTTBL',\n",
              "        '{\\\\F0\\\\FSWISS\\\\FCHARSET0\\\\FPRQ2', 'ARIAL;}', ..., 'b@sur@',\n",
              "        'b@sur@', 'b@sur@'], dtype='<U179'),\n",
              " 202: array(['{\\\\RTF1\\\\ANSI\\\\ANSICPG1252\\\\UC1\\\\DEFF1{\\\\FONTTBL',\n",
              "        '{\\\\F0\\\\FSWISS\\\\FCHARSET0\\\\FPRQ2', 'ARIAL;}', ..., 'b@sur@',\n",
              "        'b@sur@', 'b@sur@'], dtype='<U179'),\n",
              " 203: array(['{\\\\RTF1\\\\ANSI\\\\ANSICPG1252\\\\UC1\\\\DEFF1{\\\\FONTTBL',\n",
              "        '{\\\\F0\\\\FSWISS\\\\FCHARSET0\\\\FPRQ2', 'ARIAL;}', ..., 'b@sur@',\n",
              "        'b@sur@', 'b@sur@'], dtype='<U179'),\n",
              " 204: array(['{\\\\RTF1\\\\ANSI\\\\ANSICPG1252\\\\UC1\\\\DEFF1{\\\\FONTTBL',\n",
              "        '{\\\\F0\\\\FSWISS\\\\FCHARSET0\\\\FPRQ2', 'ARIAL;}', ..., 'b@sur@',\n",
              "        'b@sur@', 'b@sur@'], dtype='<U185'),\n",
              " 205: array(['{\\\\RTF1\\\\ANSI\\\\ANSICPG1252\\\\UC1\\\\DEFF1{\\\\FONTTBL',\n",
              "        '{\\\\F0\\\\FSWISS\\\\FCHARSET0\\\\FPRQ2', 'ARIAL;}', ..., 'b@sur@',\n",
              "        'b@sur@', 'b@sur@'], dtype='<U179'),\n",
              " 206: array(['{\\\\RTF1\\\\ANSI\\\\ANSICPG1252\\\\UC1\\\\DEFF1{\\\\FONTTBL',\n",
              "        '{\\\\F0\\\\FSWISS\\\\FCHARSET0\\\\FPRQ2', 'ARIAL;}', ..., 'b@sur@',\n",
              "        'b@sur@', 'b@sur@'], dtype='<U193'),\n",
              " 207: array(['{\\\\RTF1\\\\ANSI\\\\ANSICPG1252\\\\UC1\\\\DEFF1{\\\\FONTTBL',\n",
              "        '{\\\\F0\\\\FSWISS\\\\FCHARSET0\\\\FPRQ2', 'ARIAL;}', ..., 'b@sur@',\n",
              "        'b@sur@', 'b@sur@'], dtype='<U179'),\n",
              " 208: array(['{\\\\RTF1\\\\ANSI\\\\ANSICPG1252\\\\UC1\\\\DEFF1{\\\\FONTTBL',\n",
              "        '{\\\\F0\\\\FSWISS\\\\FCHARSET0\\\\FPRQ2', 'ARIAL;}', ..., 'b@sur@',\n",
              "        'b@sur@', 'b@sur@'], dtype='<U179'),\n",
              " 209: array(['{\\\\RTF1\\\\ANSI\\\\ANSICPG1252\\\\UC1\\\\DEFF1{\\\\FONTTBL',\n",
              "        '{\\\\F0\\\\FSWISS\\\\FCHARSET0\\\\FPRQ2', 'ARIAL;}', ..., 'b@sur@',\n",
              "        'b@sur@', 'b@sur@'], dtype='<U179'),\n",
              " 210: array(['{\\\\RTF1\\\\ANSI\\\\ANSICPG1252\\\\UC1\\\\DEFF1{\\\\FONTTBL',\n",
              "        '{\\\\F0\\\\FSWISS\\\\FCHARSET0\\\\FPRQ2', 'ARIAL;}', ..., 'b@sur@',\n",
              "        'b@sur@', 'b@sur@'], dtype='<U185'),\n",
              " 211: array(['{\\\\RTF1\\\\ANSI\\\\ANSICPG1252\\\\UC1\\\\DEFF1{\\\\FONTTBL',\n",
              "        '{\\\\F0\\\\FSWISS\\\\FCHARSET0\\\\FPRQ2', 'ARIAL;}', ..., 'b@sur@',\n",
              "        'b@sur@', 'b@sur@'], dtype='<U187'),\n",
              " 212: array(['{\\\\RTF1\\\\ANSI\\\\ANSICPG1252\\\\UC1\\\\DEFF1{\\\\FONTTBL',\n",
              "        '{\\\\F0\\\\FSWISS\\\\FCHARSET0\\\\FPRQ2', 'ARIAL;}', ..., 'b@sur@',\n",
              "        'b@sur@', 'b@sur@'], dtype='<U179'),\n",
              " 213: array(['{\\\\RTF1\\\\ANSI\\\\ANSICPG1252\\\\UC1\\\\DEFF1{\\\\FONTTBL',\n",
              "        '{\\\\F0\\\\FSWISS\\\\FCHARSET0\\\\FPRQ2', 'ARIAL;}', ..., 'b@sur@',\n",
              "        'b@sur@', 'b@sur@'], dtype='<U183'),\n",
              " 214: array(['{\\\\RTF1\\\\ANSI\\\\ANSICPG1252\\\\UC1\\\\DEFF1{\\\\FONTTBL',\n",
              "        '{\\\\F0\\\\FSWISS\\\\FCHARSET0\\\\FPRQ2', 'ARIAL;}', ..., 'b@sur@',\n",
              "        'b@sur@', 'b@sur@'], dtype='<U179'),\n",
              " 215: array(['{\\\\RTF1\\\\ANSI\\\\ANSICPG1252\\\\UC1\\\\DEFF1{\\\\FONTTBL',\n",
              "        '{\\\\F0\\\\FSWISS\\\\FCHARSET0\\\\FPRQ2', 'ARIAL;}', ..., 'b@sur@',\n",
              "        'b@sur@', 'b@sur@'], dtype='<U179'),\n",
              " 216: array(['{\\\\RTF1\\\\ANSI\\\\ANSICPG1252\\\\UC1\\\\DEFF1{\\\\FONTTBL',\n",
              "        '{\\\\F0\\\\FSWISS\\\\FCHARSET0\\\\FPRQ2', 'ARIAL;}', ..., 'b@sur@',\n",
              "        'b@sur@', 'b@sur@'], dtype='<U185'),\n",
              " 217: array(['{\\\\RTF1\\\\ANSI\\\\ANSICPG1252\\\\UC1\\\\DEFF1{\\\\FONTTBL',\n",
              "        '{\\\\F0\\\\FSWISS\\\\FCHARSET0\\\\FPRQ2', 'ARIAL;}', ..., 'b@sur@',\n",
              "        'b@sur@', 'b@sur@'], dtype='<U183'),\n",
              " 218: array(['{\\\\RTF1\\\\ANSI\\\\ANSICPG1252\\\\UC1\\\\DEFF1{\\\\FONTTBL',\n",
              "        '{\\\\F0\\\\FSWISS\\\\FCHARSET0\\\\FPRQ2', 'ARIAL;}', ..., 'b@sur@',\n",
              "        'b@sur@', 'b@sur@'], dtype='<U183'),\n",
              " 219: array(['{\\\\RTF1\\\\ANSI\\\\ANSICPG1252\\\\UC1\\\\DEFF1{\\\\FONTTBL',\n",
              "        '{\\\\F0\\\\FSWISS\\\\FCHARSET0\\\\FPRQ2', 'ARIAL;}', ..., 'b@sur@',\n",
              "        'b@sur@', 'b@sur@'], dtype='<U183'),\n",
              " 220: array(['{\\\\RTF1\\\\ANSI\\\\ANSICPG1252\\\\UC1\\\\DEFF1{\\\\FONTTBL',\n",
              "        '{\\\\F0\\\\FSWISS\\\\FCHARSET0\\\\FPRQ2', 'ARIAL;}', ..., 'b@sur@',\n",
              "        'b@sur@', 'b@sur@'], dtype='<U183'),\n",
              " 221: array(['{\\\\RTF1\\\\ANSI\\\\ANSICPG1252\\\\UC1\\\\DEFF1{\\\\FONTTBL',\n",
              "        '{\\\\F0\\\\FSWISS\\\\FCHARSET0\\\\FPRQ2', 'ARIAL;}', ..., 'b@sur@',\n",
              "        'b@sur@', 'b@sur@'], dtype='<U179'),\n",
              " 222: array(['{\\\\RTF1\\\\ANSI\\\\ANSICPG1252\\\\UC1\\\\DEFF1{\\\\FONTTBL',\n",
              "        '{\\\\F0\\\\FSWISS\\\\FCHARSET0\\\\FPRQ2', 'ARIAL;}', ..., 'b@sur@',\n",
              "        'b@sur@', 'b@sur@'], dtype='<U179'),\n",
              " 223: array(['{\\\\RTF1\\\\ANSI\\\\ANSICPG1252\\\\UC1\\\\DEFF1{\\\\FONTTBL',\n",
              "        '{\\\\F0\\\\FSWISS\\\\FCHARSET0\\\\FPRQ2', 'ARIAL;}', ..., 'b@sur@',\n",
              "        'b@sur@', 'b@sur@'], dtype='<U179'),\n",
              " 224: array(['{\\\\RTF1\\\\ANSI\\\\ANSICPG1252\\\\UC1\\\\DEFF1{\\\\FONTTBL',\n",
              "        '{\\\\F0\\\\FSWISS\\\\FCHARSET0\\\\FPRQ2', 'ARIAL;}', ..., 'b@sur@',\n",
              "        'b@sur@', 'b@sur@'], dtype='<U179'),\n",
              " 225: array(['{\\\\RTF1\\\\ANSI\\\\ANSICPG1252\\\\UC1\\\\DEFF1{\\\\FONTTBL',\n",
              "        '{\\\\F0\\\\FSWISS\\\\FCHARSET0\\\\FPRQ2', 'ARIAL;}', ..., 'b@sur@',\n",
              "        'b@sur@', 'b@sur@'], dtype='<U179'),\n",
              " 226: array(['{\\\\RTF1\\\\ANSI\\\\ANSICPG1252\\\\UC1\\\\DEFF1{\\\\FONTTBL',\n",
              "        '{\\\\F0\\\\FSWISS\\\\FCHARSET0\\\\FPRQ2', 'ARIAL;}', ..., 'b@sur@',\n",
              "        'b@sur@', 'b@sur@'], dtype='<U183'),\n",
              " 227: array(['{\\\\RTF1\\\\ANSI\\\\ANSICPG1252\\\\UC1\\\\DEFF1{\\\\FONTTBL',\n",
              "        '{\\\\F0\\\\FSWISS\\\\FCHARSET0\\\\FPRQ2', 'ARIAL;}', ..., 'b@sur@',\n",
              "        'b@sur@', 'b@sur@'], dtype='<U231'),\n",
              " 228: array(['{\\\\RTF1\\\\ANSI\\\\ANSICPG1252\\\\UC1\\\\DEFF1{\\\\FONTTBL',\n",
              "        '{\\\\F0\\\\FSWISS\\\\FCHARSET0\\\\FPRQ2', 'ARIAL;}', ..., 'b@sur@',\n",
              "        'b@sur@', 'b@sur@'], dtype='<U179'),\n",
              " 229: array(['{\\\\RTF1\\\\ANSI\\\\ANSICPG1252\\\\UC1\\\\DEFF1{\\\\FONTTBL',\n",
              "        '{\\\\F0\\\\FSWISS\\\\FCHARSET0\\\\FPRQ2', 'ARIAL;}', ..., 'b@sur@',\n",
              "        'b@sur@', 'b@sur@'], dtype='<U179'),\n",
              " 230: array(['{\\\\RTF1\\\\ANSI\\\\ANSICPG1252\\\\UC1\\\\DEFF1{\\\\FONTTBL',\n",
              "        '{\\\\F0\\\\FSWISS\\\\FCHARSET0\\\\FPRQ2', 'ARIAL;}', ..., 'b@sur@',\n",
              "        'b@sur@', 'b@sur@'], dtype='<U185'),\n",
              " 231: array(['{\\\\RTF1\\\\ANSI\\\\ANSICPG1252\\\\UC1\\\\DEFF1{\\\\FONTTBL',\n",
              "        '{\\\\F0\\\\FSWISS\\\\FCHARSET0\\\\FPRQ2', 'ARIAL;}', ..., 'b@sur@',\n",
              "        'b@sur@', 'b@sur@'], dtype='<U179'),\n",
              " 232: array(['{\\\\RTF1\\\\ANSI\\\\ANSICPG1252\\\\UC1\\\\DEFF1{\\\\FONTTBL',\n",
              "        '{\\\\F0\\\\FSWISS\\\\FCHARSET0\\\\FPRQ2', 'ARIAL;}', ..., 'b@sur@',\n",
              "        'b@sur@', 'b@sur@'], dtype='<U185'),\n",
              " 233: array(['{\\\\RTF1\\\\ANSI\\\\ANSICPG1252\\\\UC1\\\\DEFF1{\\\\FONTTBL',\n",
              "        '{\\\\F0\\\\FSWISS\\\\FCHARSET0\\\\FPRQ2', 'ARIAL;}', ..., 'b@sur@',\n",
              "        'b@sur@', 'b@sur@'], dtype='<U179'),\n",
              " 234: array(['{\\\\RTF1\\\\ANSI\\\\ANSICPG1252\\\\UC1\\\\DEFF1{\\\\FONTTBL',\n",
              "        '{\\\\F0\\\\FSWISS\\\\FCHARSET0\\\\FPRQ2', 'ARIAL;}', ..., 'b@sur@',\n",
              "        'b@sur@', 'b@sur@'], dtype='<U185'),\n",
              " 235: array(['{\\\\RTF1\\\\ANSI\\\\ANSICPG1252\\\\UC1\\\\DEFF1{\\\\FONTTBL',\n",
              "        '{\\\\F0\\\\FSWISS\\\\FCHARSET0\\\\FPRQ2', 'ARIAL;}', ..., 'b@sur@',\n",
              "        'b@sur@', 'b@sur@'], dtype='<U179'),\n",
              " 236: array(['{\\\\RTF1\\\\ANSI\\\\ANSICPG1252\\\\UC1\\\\DEFF1{\\\\FONTTBL',\n",
              "        '{\\\\F0\\\\FSWISS\\\\FCHARSET0\\\\FPRQ2', 'ARIAL;}', ..., 'b@sur@',\n",
              "        'b@sur@', 'b@sur@'], dtype='<U185'),\n",
              " 237: array(['{\\\\RTF1\\\\ANSI\\\\ANSICPG1252\\\\UC1\\\\DEFF1{\\\\FONTTBL',\n",
              "        '{\\\\F0\\\\FSWISS\\\\FCHARSET0\\\\FPRQ2', 'ARIAL;}', ..., 'b@sur@',\n",
              "        'b@sur@', 'b@sur@'], dtype='<U324'),\n",
              " 238: array(['{\\\\RTF1\\\\ANSI\\\\ANSICPG1252\\\\UC1\\\\DEFF0{\\\\FONTTBL',\n",
              "        '{\\\\F0\\\\FSWISS\\\\FCHARSET0\\\\FPRQ2', 'ARIAL;}', ..., 'b@sur@',\n",
              "        'b@sur@', 'b@sur@'], dtype='<U183')}"
            ]
          },
          "metadata": {},
          "execution_count": 9
        }
      ]
    },
    {
      "cell_type": "code",
      "source": [
        "#tarea \n",
        "#1. El dataframe que está arriba llamada denuncias_procesadas, en las columnas que van del 0 al 3007, tenemos texto,\n",
        "#se desea hacer integer para cada palabra \n",
        "\n",
        "#nuevo_denuncias"
      ],
      "metadata": {
        "id": "qWbF9uB6PrQx"
      },
      "execution_count": null,
      "outputs": []
    },
    {
      "cell_type": "code",
      "source": [
        "lista=[]\n",
        " \n",
        "for key, value in nuevo_denuncias.items():\n",
        "  for palabra in value:\n",
        "    lista.append(palabra)\n",
        "print(len(lista) )"
      ],
      "metadata": {
        "colab": {
          "base_uri": "https://localhost:8080/"
        },
        "id": "UB4RH0cGPrTo",
        "outputId": "fef6ec10-e470-4bb9-eaa1-0c7d1ff90e77"
      },
      "execution_count": null,
      "outputs": [
        {
          "output_type": "stream",
          "name": "stdout",
          "text": [
            "718673\n"
          ]
        }
      ]
    },
    {
      "cell_type": "code",
      "source": [
        "from numpy import array\n",
        "from numpy import argmax\n",
        "from sklearn.preprocessing import LabelEncoder\n",
        "from sklearn.preprocessing import OneHotEncoder\n",
        "\n",
        "\n",
        "# integer encode\n",
        "label_encoder = LabelEncoder()\n",
        "integer_encoded = label_encoder.fit_transform(lista)\n",
        "\n",
        "print(integer_encoded.shape)\n",
        "print(integer_encoded)"
      ],
      "metadata": {
        "colab": {
          "base_uri": "https://localhost:8080/"
        },
        "id": "tWZUrXyjPrWQ",
        "outputId": "a83cf91b-936d-43cf-901e-c9ef538d8c61"
      },
      "execution_count": null,
      "outputs": [
        {
          "output_type": "stream",
          "name": "stdout",
          "text": [
            "(718673,)\n",
            "[8695 8664 1000 ... 8658 8658 8658]\n"
          ]
        }
      ]
    },
    {
      "cell_type": "code",
      "source": [
        "numRenglones#numero de renglones 0 - 238\n",
        "numPalabras # numero de palabras más la de cada termino \n",
        "integer_encoded \n",
        "\n",
        "nuevaMatriz=integer_encoded.reshape(numRenglones, numPalabras)\n",
        "print(nuevaMatriz)\n",
        "\n",
        "arr = np.array([1,2,3,4,5])\n",
        "np.delete(arr, 1)"
      ],
      "metadata": {
        "colab": {
          "base_uri": "https://localhost:8080/"
        },
        "id": "m1BnMtFePrY5",
        "outputId": "467a139a-8825-4f4b-fd6e-d5656bd6894d"
      },
      "execution_count": null,
      "outputs": [
        {
          "output_type": "stream",
          "name": "stdout",
          "text": [
            "[[8695 8664 1000 ... 8658 8658 8658]\n",
            " [8695 8664 1000 ... 8658 8658 8658]\n",
            " [8694 8664 1000 ... 8658 8658 8658]\n",
            " ...\n",
            " [8695 8664 1000 ... 8658 8658 8658]\n",
            " [8695 8664 1000 ... 8658 8658 8658]\n",
            " [8694 8664 1000 ... 8658 8658 8658]]\n"
          ]
        },
        {
          "output_type": "execute_result",
          "data": {
            "text/plain": [
              "array([1, 3, 4, 5])"
            ]
          },
          "metadata": {},
          "execution_count": 13
        }
      ]
    },
    {
      "cell_type": "code",
      "source": [
        "nuevaMatriz\n",
        "listOfKeys = nuevo_denuncias.keys()\n",
        "\n",
        "\n",
        "nuevo_denunciasInteger=dict(zip(listOfKeys, nuevaMatriz))\n",
        "\n",
        "print(nuevo_denunciasInteger)\n"
      ],
      "metadata": {
        "colab": {
          "base_uri": "https://localhost:8080/"
        },
        "id": "3Eeo--n0Prbo",
        "outputId": "d0ede2f2-2f18-45a3-a60b-5fa90bc9c885"
      },
      "execution_count": null,
      "outputs": [
        {
          "output_type": "stream",
          "name": "stdout",
          "text": [
            "{0: array([8695, 8664, 1000, ..., 8658, 8658, 8658]), 1: array([8695, 8664, 1000, ..., 8658, 8658, 8658]), 2: array([8694, 8664, 1000, ..., 8658, 8658, 8658]), 3: array([8695, 8664, 1000, ..., 8658, 8658, 8658]), 4: array([8695, 8664, 1000, ..., 8658, 8658, 8658]), 5: array([8695, 8664, 1000, ..., 8658, 8658, 8658]), 6: array([8694, 8664, 1000, ..., 8658, 8658, 8658]), 7: array([8695, 8664, 1000, ..., 8658, 8658, 8658]), 8: array([8695, 8664, 1000, ..., 8658, 8658, 8658]), 9: array([8695, 8664, 1000, ..., 8658, 8658, 8658]), 10: array([8695, 8664, 1000, ..., 8658, 8658, 8658]), 11: array([8695, 8664, 1000, ..., 8658, 8658, 8658]), 12: array([8695, 8664, 1000, ..., 8658, 8658, 8658]), 13: array([8695, 8664, 1000, ..., 8658, 8658, 8658]), 14: array([8695, 8664, 1000, ..., 8658, 8658, 8658]), 15: array([8695, 8664, 1000, ..., 8658, 8658, 8658]), 16: array([8695, 8664, 1000, ..., 8658, 8658, 8658]), 17: array([8695, 8664, 1000, ..., 8658, 8658, 8658]), 18: array([8695, 8664, 1000, ..., 8658, 8658, 8658]), 19: array([8695, 8664, 1000, ..., 8658, 8658, 8658]), 20: array([8695, 8664, 1000, ..., 8658, 8658, 8658]), 21: array([8695, 8664, 1000, ..., 8658, 8658, 8658]), 22: array([8695, 8664, 1000, ..., 8658, 8658, 8658]), 23: array([8695, 8664, 1000, ..., 8658, 8658, 8658]), 24: array([8695, 8664, 1000, ..., 8658, 8658, 8658]), 25: array([8695, 8664, 1000, ..., 8658, 8658, 8658]), 26: array([8694, 8664, 1000, ..., 8658, 8658, 8658]), 27: array([8695, 8664, 1000, ..., 8658, 8658, 8658]), 28: array([8695, 8664, 1000, ..., 8658, 8658, 8658]), 29: array([8695, 8664, 1000, ..., 8658, 8658, 8658]), 30: array([8695, 8664, 1000, ..., 8658, 8658, 8658]), 31: array([8694, 8664, 1000, ..., 8658, 8658, 8658]), 32: array([8694, 8664, 1000, ..., 8658, 8658, 8658]), 33: array([8695, 8664, 1000, ..., 8658, 8658, 8658]), 34: array([8695, 8664, 1000, ..., 8658, 8658, 8658]), 35: array([8695, 8664, 1000, ..., 8658, 8658, 8658]), 36: array([8695, 8664, 1000, ..., 8658, 8658, 8658]), 37: array([8695, 8664, 1000, ..., 8658, 8658, 8658]), 38: array([8695, 8664, 1000, ..., 8658, 8658, 8658]), 39: array([8695, 8664, 1000, ..., 8658, 8658, 8658]), 40: array([8695, 8664, 1000, ..., 8658, 8658, 8658]), 41: array([8695, 8664, 1000, ..., 8658, 8658, 8658]), 42: array([8695, 8664, 1000, ..., 8658, 8658, 8658]), 43: array([8695, 8664, 1000, ..., 8658, 8658, 8658]), 44: array([8695, 8664, 1000, ..., 8658, 8658, 8658]), 45: array([8695, 8664, 1000, ..., 8658, 8658, 8658]), 46: array([8695, 8664, 1000, ..., 8658, 8658, 8658]), 47: array([8695, 8664, 1000, ..., 8658, 8658, 8658]), 48: array([8695, 8664, 1000, ..., 8658, 8658, 8658]), 49: array([8695, 8664, 1000, ..., 8658, 8658, 8658]), 50: array([8695, 8664, 1000, ..., 8658, 8658, 8658]), 51: array([8695, 8664, 1000, ..., 8658, 8658, 8658]), 52: array([8695, 8664, 1000, ..., 8658, 8658, 8658]), 53: array([8695, 8664, 1000, ..., 8658, 8658, 8658]), 54: array([8695, 8664, 1000, ..., 8658, 8658, 8658]), 55: array([8695, 8664, 1000, ..., 8658, 8658, 8658]), 56: array([8695, 8664, 1000, ..., 8658, 8658, 8658]), 57: array([8695, 8664, 1000, ..., 8658, 8658, 8658]), 58: array([8695, 8664, 1000, ..., 8658, 8658, 8658]), 59: array([8695, 8664, 1000, ..., 8658, 8658, 8658]), 60: array([8695, 8664, 1000, ..., 8658, 8658, 8658]), 61: array([8695, 8664, 1000, ..., 8658, 8658, 8658]), 62: array([8695, 8664, 1000, ..., 8658, 8658, 8658]), 63: array([8695, 8664, 1000, ..., 8658, 8658, 8658]), 64: array([8695, 8664, 1000, ..., 8658, 8658, 8658]), 65: array([8695, 8664, 1000, ..., 8658, 8658, 8658]), 66: array([8694, 8664, 1000, ..., 8658, 8658, 8658]), 67: array([8694, 8664, 1000, ..., 8658, 8658, 8658]), 68: array([8695, 8664, 1000, ..., 8658, 8658, 8658]), 69: array([8695, 8664, 1000, ..., 8658, 8658, 8658]), 70: array([8695, 8664, 1000, ..., 8658, 8658, 8658]), 71: array([8695, 8664, 1000, ..., 8658, 8658, 8658]), 72: array([8695, 8664, 1000, ..., 8658, 8658, 8658]), 73: array([8695, 8664, 1000, ..., 8658, 8658, 8658]), 74: array([8695, 8664, 1000, ..., 8658, 8658, 8658]), 75: array([8694, 8664, 1000, ..., 8658, 8658, 8658]), 76: array([8695, 8664, 1000, ..., 8658, 8658, 8658]), 77: array([8695, 8664, 1000, ..., 8658, 8658, 8658]), 78: array([8695, 8664, 1000, ..., 8658, 8658, 8658]), 79: array([8695, 8664, 1000, ..., 8658, 8658, 8658]), 80: array([8695, 8664, 1000, ..., 8658, 8658, 8658]), 81: array([8695, 8664, 1000, ..., 8658, 8658, 8658]), 82: array([8695, 8664, 1000, ..., 8658, 8658, 8658]), 83: array([8695, 8664, 1000, ..., 8658, 8658, 8658]), 84: array([8695, 8664, 1000, ..., 8658, 8658, 8658]), 85: array([8695, 8664, 1000, ..., 8658, 8658, 8658]), 86: array([8695, 8664, 1000, ..., 8658, 8658, 8658]), 87: array([8695, 8664, 1000, ..., 8658, 8658, 8658]), 88: array([8695, 8664, 1000, ..., 8658, 8658, 8658]), 89: array([8695, 8664, 1000, ..., 8658, 8658, 8658]), 90: array([8694, 8664, 1000, ..., 8658, 8658, 8658]), 91: array([8695, 8664, 1000, ..., 8658, 8658, 8658]), 92: array([8695, 8664, 1000, ..., 8658, 8658, 8658]), 93: array([8695, 8664, 1000, ..., 8658, 8658, 8658]), 94: array([8695, 8664, 1000, ..., 8658, 8658, 8658]), 95: array([8694, 8664, 1000, ..., 8658, 8658, 8658]), 96: array([8695, 8664, 1000, ..., 8658, 8658, 8658]), 97: array([8695, 8664, 1000, ..., 8658, 8658, 8658]), 98: array([8695, 8664, 1000, ..., 8658, 8658, 8658]), 99: array([8695, 8664, 1000, ..., 8658, 8658, 8658]), 100: array([8695, 8664, 1000, ..., 8658, 8658, 8658]), 101: array([8695, 8664, 1000, ..., 8658, 8658, 8658]), 102: array([8695, 8664, 1000, ..., 8658, 8658, 8658]), 103: array([8695, 8664, 1000, ..., 8658, 8658, 8658]), 104: array([8695, 8664, 1000, ..., 8658, 8658, 8658]), 105: array([8695, 8664, 1000, ..., 8658, 8658, 8658]), 106: array([8695, 8664, 1000, ...,   72, 8599, 8699]), 107: array([8695, 8664, 1000, ..., 8658, 8658, 8658]), 108: array([8695, 8664, 1000, ..., 8658, 8658, 8658]), 109: array([8695, 8664, 1000, ..., 8658, 8658, 8658]), 110: array([8695, 8664, 1000, ..., 8658, 8658, 8658]), 111: array([8695, 8664, 1000, ..., 8658, 8658, 8658]), 112: array([8695, 8664, 1000, ..., 8658, 8658, 8658]), 113: array([8695, 8664, 1000, ..., 8658, 8658, 8658]), 114: array([8695, 8664, 1000, ..., 8658, 8658, 8658]), 115: array([8695, 8664, 1000, ..., 8658, 8658, 8658]), 116: array([8694, 8664, 1000, ..., 8658, 8658, 8658]), 117: array([8695, 8664, 1000, ..., 8658, 8658, 8658]), 118: array([8694, 8664, 1000, ..., 8658, 8658, 8658]), 119: array([8695, 8664, 1000, ..., 8658, 8658, 8658]), 120: array([8695, 8664, 1000, ..., 8658, 8658, 8658]), 121: array([8695, 8664, 1000, ..., 8658, 8658, 8658]), 122: array([8695, 8664, 1000, ..., 8658, 8658, 8658]), 123: array([8695, 8664, 1000, ..., 8658, 8658, 8658]), 124: array([8695, 8664, 1000, ..., 8658, 8658, 8658]), 125: array([8695, 8664, 1000, ..., 8658, 8658, 8658]), 126: array([8695, 8664, 1000, ..., 8658, 8658, 8658]), 127: array([8695, 8664, 1000, ..., 8658, 8658, 8658]), 128: array([8695, 8664, 1000, ..., 8658, 8658, 8658]), 129: array([8695, 8664, 1000, ..., 8658, 8658, 8658]), 130: array([8695, 8664, 1000, ..., 8658, 8658, 8658]), 131: array([8695, 8664, 1000, ..., 8658, 8658, 8658]), 132: array([8695, 8664, 1000, ..., 8658, 8658, 8658]), 133: array([8695, 8664, 1000, ..., 8658, 8658, 8658]), 134: array([8695, 8664, 1000, ..., 8658, 8658, 8658]), 135: array([8695, 8664, 1000, ..., 8658, 8658, 8658]), 136: array([8695, 8664, 1000, ..., 8658, 8658, 8658]), 137: array([8694, 8664, 1000, ..., 8658, 8658, 8658]), 138: array([8695, 8664, 1000, ..., 8658, 8658, 8658]), 139: array([8695, 8664, 1000, ..., 8658, 8658, 8658]), 140: array([8695, 8664, 1000, ..., 8658, 8658, 8658]), 141: array([8695, 8664, 1000, ..., 8658, 8658, 8658]), 142: array([8695, 8664, 1000, ..., 8658, 8658, 8658]), 143: array([8695, 8664, 1000, ..., 8658, 8658, 8658]), 144: array([8695, 8664, 1000, ..., 8658, 8658, 8658]), 145: array([8695, 8664, 1000, ..., 8658, 8658, 8658]), 146: array([8695, 8664, 1000, ..., 8658, 8658, 8658]), 147: array([8695, 8664, 1000, ..., 8658, 8658, 8658]), 148: array([8695, 8664, 1000, ..., 8658, 8658, 8658]), 149: array([8695, 8664, 1000, ..., 8658, 8658, 8658]), 150: array([8695, 8664, 1000, ..., 8658, 8658, 8658]), 151: array([8695, 8664, 1000, ..., 8658, 8658, 8658]), 152: array([8695, 8664, 1000, ..., 8658, 8658, 8658]), 153: array([8695, 8664, 1000, ..., 8658, 8658, 8658]), 154: array([8695, 8664, 1000, ..., 8658, 8658, 8658]), 155: array([8694, 8664, 1000, ..., 8658, 8658, 8658]), 156: array([8695, 8664, 1000, ..., 8658, 8658, 8658]), 157: array([8695, 8664, 1000, ..., 8658, 8658, 8658]), 158: array([8695, 8664, 1000, ..., 8658, 8658, 8658]), 159: array([8695, 8664, 1000, ..., 8658, 8658, 8658]), 160: array([8695, 8664, 1000, ..., 8658, 8658, 8658]), 161: array([8695, 8664, 1000, ..., 8658, 8658, 8658]), 162: array([8695, 8664, 1000, ..., 8658, 8658, 8658]), 163: array([8695, 8664, 1000, ..., 8658, 8658, 8658]), 164: array([8695, 8664, 1000, ..., 8658, 8658, 8658]), 165: array([8695, 8664, 1000, ..., 8658, 8658, 8658]), 166: array([8695, 8664, 1000, ..., 8658, 8658, 8658]), 167: array([8695, 8664, 1000, ..., 8658, 8658, 8658]), 168: array([8695, 8664, 1000, ..., 8658, 8658, 8658]), 169: array([8695, 8664, 1000, ..., 8658, 8658, 8658]), 170: array([8695, 8664, 1000, ..., 8658, 8658, 8658]), 171: array([8695, 8664, 1000, ..., 8658, 8658, 8658]), 172: array([8695, 8664, 1000, ..., 8658, 8658, 8658]), 173: array([8695, 8664, 1000, ..., 8658, 8658, 8658]), 174: array([8695, 8664, 1000, ..., 8658, 8658, 8658]), 175: array([8695, 8664, 1000, ..., 8658, 8658, 8658]), 176: array([8695, 8664, 1000, ..., 8658, 8658, 8658]), 177: array([8695, 8664, 1000, ..., 8658, 8658, 8658]), 178: array([8695, 8664, 1000, ..., 8658, 8658, 8658]), 179: array([8695, 8664, 1000, ..., 8658, 8658, 8658]), 180: array([8695, 8664, 1000, ..., 8658, 8658, 8658]), 181: array([8695, 8664, 1000, ..., 8658, 8658, 8658]), 182: array([8695, 8664, 1000, ..., 8658, 8658, 8658]), 183: array([8695, 8664, 1000, ..., 8658, 8658, 8658]), 184: array([8695, 8664, 1000, ..., 8658, 8658, 8658]), 185: array([8695, 8664, 1000, ..., 8658, 8658, 8658]), 186: array([8694, 8664, 1000, ..., 8658, 8658, 8658]), 187: array([8694, 8664, 1000, ..., 8658, 8658, 8658]), 188: array([8695, 8664, 1000, ..., 8658, 8658, 8658]), 189: array([8695, 8664, 1000, ..., 8658, 8658, 8658]), 190: array([8695, 8664, 1000, ..., 8658, 8658, 8658]), 191: array([8695, 8664, 1000, ..., 8658, 8658, 8658]), 192: array([8695, 8664, 1000, ..., 8658, 8658, 8658]), 193: array([8695, 8664, 1000, ..., 8658, 8658, 8658]), 194: array([8695, 8664, 1000, ..., 8658, 8658, 8658]), 195: array([8695, 8664, 1000, ..., 8658, 8658, 8658]), 196: array([8695, 8664, 1000, ..., 8658, 8658, 8658]), 197: array([8695, 8664, 1000, ..., 8658, 8658, 8658]), 198: array([8695, 8664, 1000, ..., 8658, 8658, 8658]), 199: array([8695, 8664, 1000, ..., 8658, 8658, 8658]), 200: array([8695, 8664, 1000, ..., 8658, 8658, 8658]), 201: array([8695, 8664, 1000, ..., 8658, 8658, 8658]), 202: array([8695, 8664, 1000, ..., 8658, 8658, 8658]), 203: array([8695, 8664, 1000, ..., 8658, 8658, 8658]), 204: array([8695, 8664, 1000, ..., 8658, 8658, 8658]), 205: array([8695, 8664, 1000, ..., 8658, 8658, 8658]), 206: array([8695, 8664, 1000, ..., 8658, 8658, 8658]), 207: array([8695, 8664, 1000, ..., 8658, 8658, 8658]), 208: array([8695, 8664, 1000, ..., 8658, 8658, 8658]), 209: array([8695, 8664, 1000, ..., 8658, 8658, 8658]), 210: array([8695, 8664, 1000, ..., 8658, 8658, 8658]), 211: array([8695, 8664, 1000, ..., 8658, 8658, 8658]), 212: array([8695, 8664, 1000, ..., 8658, 8658, 8658]), 213: array([8695, 8664, 1000, ..., 8658, 8658, 8658]), 214: array([8695, 8664, 1000, ..., 8658, 8658, 8658]), 215: array([8695, 8664, 1000, ..., 8658, 8658, 8658]), 216: array([8695, 8664, 1000, ..., 8658, 8658, 8658]), 217: array([8695, 8664, 1000, ..., 8658, 8658, 8658]), 218: array([8695, 8664, 1000, ..., 8658, 8658, 8658]), 219: array([8695, 8664, 1000, ..., 8658, 8658, 8658]), 220: array([8695, 8664, 1000, ..., 8658, 8658, 8658]), 221: array([8695, 8664, 1000, ..., 8658, 8658, 8658]), 222: array([8695, 8664, 1000, ..., 8658, 8658, 8658]), 223: array([8695, 8664, 1000, ..., 8658, 8658, 8658]), 224: array([8695, 8664, 1000, ..., 8658, 8658, 8658]), 225: array([8695, 8664, 1000, ..., 8658, 8658, 8658]), 226: array([8695, 8664, 1000, ..., 8658, 8658, 8658]), 227: array([8695, 8664, 1000, ..., 8658, 8658, 8658]), 228: array([8695, 8664, 1000, ..., 8658, 8658, 8658]), 229: array([8695, 8664, 1000, ..., 8658, 8658, 8658]), 230: array([8695, 8664, 1000, ..., 8658, 8658, 8658]), 231: array([8695, 8664, 1000, ..., 8658, 8658, 8658]), 232: array([8695, 8664, 1000, ..., 8658, 8658, 8658]), 233: array([8695, 8664, 1000, ..., 8658, 8658, 8658]), 234: array([8695, 8664, 1000, ..., 8658, 8658, 8658]), 235: array([8695, 8664, 1000, ..., 8658, 8658, 8658]), 236: array([8695, 8664, 1000, ..., 8658, 8658, 8658]), 237: array([8695, 8664, 1000, ..., 8658, 8658, 8658]), 238: array([8694, 8664, 1000, ..., 8658, 8658, 8658])}\n"
          ]
        }
      ]
    },
    {
      "cell_type": "code",
      "source": [
        "TrainDF=pd.DataFrame(nuevo_denunciasInteger).transpose()\n"
      ],
      "metadata": {
        "id": "8dY9K2BRPrdU"
      },
      "execution_count": null,
      "outputs": []
    },
    {
      "cell_type": "code",
      "source": [
        "fechas=fechas.astype(\"category\")\n",
        "objetivo=fechas.cat.codes\n",
        "num_classes=len(objetivo.unique())#saber cuantas fechas diferentes existen 72\n",
        "TrainDF.shape\n"
      ],
      "metadata": {
        "colab": {
          "base_uri": "https://localhost:8080/"
        },
        "id": "zPJ9d_BxMzHW",
        "outputId": "ebd39186-db3e-43df-a9cb-24da310396d7"
      },
      "execution_count": null,
      "outputs": [
        {
          "output_type": "execute_result",
          "data": {
            "text/plain": [
              "(239, 3007)"
            ]
          },
          "metadata": {},
          "execution_count": 16
        }
      ]
    },
    {
      "cell_type": "code",
      "source": [
        "num_classes\n",
        "train_labels\n",
        "#fechas\n"
      ],
      "metadata": {
        "colab": {
          "base_uri": "https://localhost:8080/",
          "height": 208
        },
        "id": "ezI1UKbdMeUm",
        "outputId": "40ef0d70-d1eb-40db-e636-6f74c4146ef8"
      },
      "execution_count": null,
      "outputs": [
        {
          "output_type": "error",
          "ename": "NameError",
          "evalue": "ignored",
          "traceback": [
            "\u001b[0;31m---------------------------------------------------------------------------\u001b[0m",
            "\u001b[0;31mNameError\u001b[0m                                 Traceback (most recent call last)",
            "\u001b[0;32m<ipython-input-17-cb5a9025ff8e>\u001b[0m in \u001b[0;36m<module>\u001b[0;34m()\u001b[0m\n\u001b[1;32m      1\u001b[0m \u001b[0mnum_classes\u001b[0m\u001b[0;34m\u001b[0m\u001b[0;34m\u001b[0m\u001b[0m\n\u001b[0;32m----> 2\u001b[0;31m \u001b[0mtrain_labels\u001b[0m\u001b[0;34m\u001b[0m\u001b[0;34m\u001b[0m\u001b[0m\n\u001b[0m\u001b[1;32m      3\u001b[0m \u001b[0;31m#fechas\u001b[0m\u001b[0;34m\u001b[0m\u001b[0;34m\u001b[0m\u001b[0;34m\u001b[0m\u001b[0m\n",
            "\u001b[0;31mNameError\u001b[0m: name 'train_labels' is not defined"
          ]
        }
      ]
    },
    {
      "cell_type": "code",
      "source": [
        "#Unidades o units=  generalmente son potencias de 2, ejemplo: 128, 256, 512, etc. y número de capas hidden_layers= entre 1 y 3 \n",
        "#def build_model(num_classes=num_classes, hidden_layers=1, units=128, data_shape=TrainDF.shape[1:]):\n",
        "\n",
        "def build_model(num_classes=num_classes, hidden_layers=2, units=2048, data_shape=TrainDF.shape[1:]):  \n",
        "    model = tf.keras.Sequential()#\n",
        "    # input layer\n",
        "    model.add(tf.keras.layers.InputLayer(input_shape=list(data_shape)))#define el input \n",
        "    # MLP required shape\n",
        "   # model.add(tf.keras.layers.Flatten())\n",
        "    \n",
        "    #hidden layer(s)\n",
        "    for hidden_layer in range(1,hidden_layers+1):\n",
        "        model.add(tf.keras.layers.Dense(units, activation='relu'))\n",
        "        \n",
        "    #output layer\n",
        "    model.add(tf.keras.layers.Dense(num_classes, activation='softmax')) \n",
        "    #model.add(tf.keras.layers.Dense(num_classes, activation='softmax', kernel_regularizer=tf.keras.regularizers.L2(0.1))) \n",
        "    \n",
        "    loss=tf.keras.losses.SparseCategoricalCrossentropy() \n",
        "    metrics=['accuracy']\n",
        "    optimizer=tf.keras.optimizers.Adam(learning_rate=1e-4)\n",
        "    \n",
        "    model.compile(loss=loss, metrics=metrics, optimizer=optimizer)\n",
        "    \n",
        "    return model"
      ],
      "metadata": {
        "id": "j_LVRxMHQtvW"
      },
      "execution_count": null,
      "outputs": []
    },
    {
      "cell_type": "code",
      "source": [
        "model = build_model()\n",
        "# Verify that the network is as you imagined\n",
        "model.summary()"
      ],
      "metadata": {
        "colab": {
          "base_uri": "https://localhost:8080/"
        },
        "id": "lcPEqCpIQt4U",
        "outputId": "ec63c012-5ce6-4acb-908b-f07233ec408d"
      },
      "execution_count": null,
      "outputs": [
        {
          "output_type": "stream",
          "name": "stdout",
          "text": [
            "Model: \"sequential_1\"\n",
            "_________________________________________________________________\n",
            " Layer (type)                Output Shape              Param #   \n",
            "=================================================================\n",
            " dense_2 (Dense)             (None, 2048)              6160384   \n",
            "                                                                 \n",
            " dense_3 (Dense)             (None, 2048)              4196352   \n",
            "                                                                 \n",
            " dense_4 (Dense)             (None, 72)                147528    \n",
            "                                                                 \n",
            "=================================================================\n",
            "Total params: 10,504,264\n",
            "Trainable params: 10,504,264\n",
            "Non-trainable params: 0\n",
            "_________________________________________________________________\n"
          ]
        }
      ]
    },
    {
      "cell_type": "code",
      "source": [
        "n=len(TrainDF)\n",
        "train_images=TrainDF[:int(n*.9)]\n",
        "train_labels=objetivo[:int(n*.9)]\n",
        "validation_images=TrainDF[int(n*.9):]\n",
        "validation_labels=objetivo[int(n*.9):]"
      ],
      "metadata": {
        "id": "l2es8BbDQt9J"
      },
      "execution_count": null,
      "outputs": []
    },
    {
      "cell_type": "code",
      "source": [
        "#train_images=(train_images-train_images.min())/(train_images.max()-train_images.min())#Resta de datos de todo el promedio \n",
        "#train_labels=(train_labels-train_labels.min())/(train_labels.max()-train_labels.min())\n",
        "#validation_images=(validation_images-validation_images.min())/(validation_images.max()-validation_images.min())\n",
        "#validation_labels=(validation_labels-validation_labels.min())/(validation_labels.max()-validation_labels.min())\n",
        "#(SI DEBE NORMALIZARSE), pero No se normalizó por NAN"
      ],
      "metadata": {
        "id": "1u9X2iTKUeuY"
      },
      "execution_count": null,
      "outputs": []
    },
    {
      "cell_type": "code",
      "source": [
        "n=len(TrainDF)\n",
        "train_images=np.array(train_images)\n",
        "train_labels=np.array(train_labels).reshape(len(train_labels), 1)\n",
        "validation_images=np.array(validation_images)\n",
        "validation_labels=np.array(validation_labels).reshape(len(validation_labels), 1)"
      ],
      "metadata": {
        "id": "5WUYn4paUMRb"
      },
      "execution_count": null,
      "outputs": []
    },
    {
      "cell_type": "code",
      "source": [
        "print(train_labels.shape, \"\\n\", \n",
        "      train_images.shape, \"\\n\", \n",
        "      validation_labels.shape, \"\\n\", \n",
        "      validation_images.shape, \"\\n\", \n",
        "      )     "
      ],
      "metadata": {
        "colab": {
          "base_uri": "https://localhost:8080/"
        },
        "id": "cuIfGzXkHUpc",
        "outputId": "995cf1ae-dd99-4618-d56e-72ee38bf36e2"
      },
      "execution_count": null,
      "outputs": [
        {
          "output_type": "stream",
          "name": "stdout",
          "text": [
            "(215, 1) \n",
            " (215, 3007) \n",
            " (24, 1) \n",
            " (24, 3007) \n",
            "\n"
          ]
        }
      ]
    },
    {
      "cell_type": "code",
      "source": [
        "type(train_labels)"
      ],
      "metadata": {
        "colab": {
          "base_uri": "https://localhost:8080/"
        },
        "id": "iWqrktXGGe0j",
        "outputId": "b00d064b-4da6-43cb-a24e-67132acb09d9"
      },
      "execution_count": null,
      "outputs": [
        {
          "output_type": "execute_result",
          "data": {
            "text/plain": [
              "numpy.ndarray"
            ]
          },
          "metadata": {},
          "execution_count": 49
        }
      ]
    },
    {
      "cell_type": "code",
      "source": [
        "train_images"
      ],
      "metadata": {
        "colab": {
          "base_uri": "https://localhost:8080/"
        },
        "id": "ARwWMhVZQt_w",
        "outputId": "93c23e3e-1418-4e3b-92e2-a0c559c30fba"
      },
      "execution_count": null,
      "outputs": [
        {
          "output_type": "execute_result",
          "data": {
            "text/plain": [
              "array([[8695, 8664, 1000, ..., 8658, 8658, 8658],\n",
              "       [8695, 8664, 1000, ..., 8658, 8658, 8658],\n",
              "       [8694, 8664, 1000, ..., 8658, 8658, 8658],\n",
              "       ...,\n",
              "       [8695, 8664, 1000, ..., 8658, 8658, 8658],\n",
              "       [8695, 8664, 1000, ..., 8658, 8658, 8658],\n",
              "       [8695, 8664, 1000, ..., 8658, 8658, 8658]])"
            ]
          },
          "metadata": {},
          "execution_count": 50
        }
      ]
    },
    {
      "cell_type": "code",
      "source": [
        "history = model.fit(train_images, train_labels, epochs=100, batch_size=64, validation_data=(validation_images, validation_labels))"
      ],
      "metadata": {
        "colab": {
          "base_uri": "https://localhost:8080/"
        },
        "id": "PX9kzSibQuCW",
        "outputId": "4ca7041a-256a-413d-f5cd-b502c141d002"
      },
      "execution_count": null,
      "outputs": [
        {
          "output_type": "stream",
          "name": "stdout",
          "text": [
            "Epoch 1/100\n",
            "4/4 [==============================] - 1s 191ms/step - loss: 12738.6045 - accuracy: 0.0140 - val_loss: 10748.7842 - val_accuracy: 0.0417\n",
            "Epoch 2/100\n",
            "4/4 [==============================] - 1s 142ms/step - loss: 10561.9658 - accuracy: 0.0279 - val_loss: 10129.5361 - val_accuracy: 0.0000e+00\n",
            "Epoch 3/100\n",
            "4/4 [==============================] - 1s 141ms/step - loss: 9819.2295 - accuracy: 0.0744 - val_loss: 8339.9248 - val_accuracy: 0.0000e+00\n",
            "Epoch 4/100\n",
            "4/4 [==============================] - 1s 146ms/step - loss: 8273.8877 - accuracy: 0.1209 - val_loss: 6619.1021 - val_accuracy: 0.0833\n",
            "Epoch 5/100\n",
            "4/4 [==============================] - 1s 143ms/step - loss: 7103.7720 - accuracy: 0.1349 - val_loss: 6574.4961 - val_accuracy: 0.0000e+00\n",
            "Epoch 6/100\n",
            "4/4 [==============================] - 1s 153ms/step - loss: 6553.5908 - accuracy: 0.1488 - val_loss: 5915.5781 - val_accuracy: 0.0417\n",
            "Epoch 7/100\n",
            "4/4 [==============================] - 1s 144ms/step - loss: 4976.7231 - accuracy: 0.2279 - val_loss: 7296.5435 - val_accuracy: 0.0833\n",
            "Epoch 8/100\n",
            "4/4 [==============================] - 1s 148ms/step - loss: 4098.7275 - accuracy: 0.2372 - val_loss: 6389.1362 - val_accuracy: 0.1250\n",
            "Epoch 9/100\n",
            "4/4 [==============================] - 1s 144ms/step - loss: 2848.8457 - accuracy: 0.2977 - val_loss: 5834.4819 - val_accuracy: 0.0000e+00\n",
            "Epoch 10/100\n",
            "4/4 [==============================] - 1s 142ms/step - loss: 2280.1099 - accuracy: 0.3070 - val_loss: 5067.9243 - val_accuracy: 0.1250\n",
            "Epoch 11/100\n",
            "4/4 [==============================] - 1s 146ms/step - loss: 2054.1868 - accuracy: 0.3721 - val_loss: 4106.7964 - val_accuracy: 0.1250\n",
            "Epoch 12/100\n",
            "4/4 [==============================] - 1s 144ms/step - loss: 1814.2639 - accuracy: 0.3767 - val_loss: 3448.6360 - val_accuracy: 0.1250\n",
            "Epoch 13/100\n",
            "4/4 [==============================] - 1s 144ms/step - loss: 1447.6217 - accuracy: 0.4884 - val_loss: 2328.1521 - val_accuracy: 0.1250\n",
            "Epoch 14/100\n",
            "4/4 [==============================] - 1s 137ms/step - loss: 1297.3413 - accuracy: 0.5116 - val_loss: 2309.3020 - val_accuracy: 0.2917\n",
            "Epoch 15/100\n",
            "4/4 [==============================] - 1s 141ms/step - loss: 1039.2408 - accuracy: 0.5628 - val_loss: 2720.6204 - val_accuracy: 0.2083\n",
            "Epoch 16/100\n",
            "4/4 [==============================] - 1s 134ms/step - loss: 691.2972 - accuracy: 0.6000 - val_loss: 2610.4133 - val_accuracy: 0.2917\n",
            "Epoch 17/100\n",
            "4/4 [==============================] - 1s 145ms/step - loss: 430.0791 - accuracy: 0.6698 - val_loss: 2708.9509 - val_accuracy: 0.2083\n",
            "Epoch 18/100\n",
            "4/4 [==============================] - 1s 138ms/step - loss: 632.4429 - accuracy: 0.6233 - val_loss: 2781.0000 - val_accuracy: 0.2500\n",
            "Epoch 19/100\n",
            "4/4 [==============================] - 1s 138ms/step - loss: 654.4297 - accuracy: 0.6047 - val_loss: 2566.5227 - val_accuracy: 0.3333\n",
            "Epoch 20/100\n",
            "4/4 [==============================] - 1s 142ms/step - loss: 552.8007 - accuracy: 0.6093 - val_loss: 2366.6003 - val_accuracy: 0.2917\n",
            "Epoch 21/100\n",
            "4/4 [==============================] - 1s 139ms/step - loss: 587.2543 - accuracy: 0.6558 - val_loss: 2415.2805 - val_accuracy: 0.3333\n",
            "Epoch 22/100\n",
            "4/4 [==============================] - 1s 146ms/step - loss: 469.6592 - accuracy: 0.6837 - val_loss: 2276.4219 - val_accuracy: 0.3333\n",
            "Epoch 23/100\n",
            "4/4 [==============================] - 1s 138ms/step - loss: 539.0623 - accuracy: 0.6558 - val_loss: 2296.8528 - val_accuracy: 0.2500\n",
            "Epoch 24/100\n",
            "4/4 [==============================] - 1s 154ms/step - loss: 530.5320 - accuracy: 0.6605 - val_loss: 2180.5776 - val_accuracy: 0.5000\n",
            "Epoch 25/100\n",
            "4/4 [==============================] - 1s 141ms/step - loss: 421.3541 - accuracy: 0.6977 - val_loss: 2256.9026 - val_accuracy: 0.3333\n",
            "Epoch 26/100\n",
            "4/4 [==============================] - 1s 146ms/step - loss: 432.7573 - accuracy: 0.6884 - val_loss: 2557.2327 - val_accuracy: 0.3750\n",
            "Epoch 27/100\n",
            "4/4 [==============================] - 1s 140ms/step - loss: 561.0347 - accuracy: 0.6837 - val_loss: 2303.5605 - val_accuracy: 0.3750\n",
            "Epoch 28/100\n",
            "4/4 [==============================] - 1s 141ms/step - loss: 410.0558 - accuracy: 0.7488 - val_loss: 1791.5924 - val_accuracy: 0.5000\n",
            "Epoch 29/100\n",
            "4/4 [==============================] - 1s 146ms/step - loss: 449.3567 - accuracy: 0.7302 - val_loss: 1756.5280 - val_accuracy: 0.4167\n",
            "Epoch 30/100\n",
            "4/4 [==============================] - 1s 142ms/step - loss: 436.5709 - accuracy: 0.7442 - val_loss: 1812.9108 - val_accuracy: 0.3750\n",
            "Epoch 31/100\n",
            "4/4 [==============================] - 1s 142ms/step - loss: 312.5542 - accuracy: 0.7767 - val_loss: 1787.2588 - val_accuracy: 0.3750\n",
            "Epoch 32/100\n",
            "4/4 [==============================] - 1s 140ms/step - loss: 238.9211 - accuracy: 0.7907 - val_loss: 2260.7690 - val_accuracy: 0.3750\n",
            "Epoch 33/100\n",
            "4/4 [==============================] - 1s 147ms/step - loss: 163.1797 - accuracy: 0.8000 - val_loss: 2088.7297 - val_accuracy: 0.4167\n",
            "Epoch 34/100\n",
            "4/4 [==============================] - 1s 140ms/step - loss: 139.2084 - accuracy: 0.8000 - val_loss: 1822.9199 - val_accuracy: 0.4167\n",
            "Epoch 35/100\n",
            "4/4 [==============================] - 1s 137ms/step - loss: 146.0522 - accuracy: 0.7721 - val_loss: 1831.5878 - val_accuracy: 0.5000\n",
            "Epoch 36/100\n",
            "4/4 [==============================] - 1s 142ms/step - loss: 154.9961 - accuracy: 0.8279 - val_loss: 2012.6764 - val_accuracy: 0.4583\n",
            "Epoch 37/100\n",
            "4/4 [==============================] - 1s 137ms/step - loss: 193.4048 - accuracy: 0.8093 - val_loss: 1745.6732 - val_accuracy: 0.4583\n",
            "Epoch 38/100\n",
            "4/4 [==============================] - 1s 137ms/step - loss: 196.2014 - accuracy: 0.8047 - val_loss: 1795.5602 - val_accuracy: 0.5000\n",
            "Epoch 39/100\n",
            "4/4 [==============================] - 1s 140ms/step - loss: 225.8887 - accuracy: 0.8186 - val_loss: 1778.1051 - val_accuracy: 0.5000\n",
            "Epoch 40/100\n",
            "4/4 [==============================] - 1s 146ms/step - loss: 140.3505 - accuracy: 0.8465 - val_loss: 1816.7264 - val_accuracy: 0.5833\n",
            "Epoch 41/100\n",
            "4/4 [==============================] - 1s 139ms/step - loss: 110.3756 - accuracy: 0.8558 - val_loss: 1954.4863 - val_accuracy: 0.4583\n",
            "Epoch 42/100\n",
            "4/4 [==============================] - 1s 151ms/step - loss: 162.6465 - accuracy: 0.8140 - val_loss: 1771.0568 - val_accuracy: 0.5417\n",
            "Epoch 43/100\n",
            "4/4 [==============================] - 1s 134ms/step - loss: 92.5469 - accuracy: 0.8744 - val_loss: 1701.9828 - val_accuracy: 0.5833\n",
            "Epoch 44/100\n",
            "4/4 [==============================] - 1s 140ms/step - loss: 192.0179 - accuracy: 0.8140 - val_loss: 1818.6992 - val_accuracy: 0.4583\n",
            "Epoch 45/100\n",
            "4/4 [==============================] - 1s 143ms/step - loss: 189.1136 - accuracy: 0.8000 - val_loss: 1824.5297 - val_accuracy: 0.5000\n",
            "Epoch 46/100\n",
            "4/4 [==============================] - 1s 145ms/step - loss: 184.2249 - accuracy: 0.8419 - val_loss: 1788.4139 - val_accuracy: 0.5417\n",
            "Epoch 47/100\n",
            "4/4 [==============================] - 1s 150ms/step - loss: 174.5003 - accuracy: 0.8372 - val_loss: 1668.7733 - val_accuracy: 0.5417\n",
            "Epoch 48/100\n",
            "4/4 [==============================] - 1s 142ms/step - loss: 202.9301 - accuracy: 0.7953 - val_loss: 1805.0836 - val_accuracy: 0.5417\n",
            "Epoch 49/100\n",
            "4/4 [==============================] - 1s 151ms/step - loss: 142.1258 - accuracy: 0.8419 - val_loss: 1681.0826 - val_accuracy: 0.5000\n",
            "Epoch 50/100\n",
            "4/4 [==============================] - 1s 145ms/step - loss: 162.0337 - accuracy: 0.8419 - val_loss: 1807.8199 - val_accuracy: 0.5833\n",
            "Epoch 51/100\n",
            "4/4 [==============================] - 1s 147ms/step - loss: 137.8022 - accuracy: 0.8465 - val_loss: 1881.5651 - val_accuracy: 0.4583\n",
            "Epoch 52/100\n",
            "4/4 [==============================] - 1s 141ms/step - loss: 123.3090 - accuracy: 0.8605 - val_loss: 1632.5801 - val_accuracy: 0.5000\n",
            "Epoch 53/100\n",
            "4/4 [==============================] - 1s 144ms/step - loss: 69.8776 - accuracy: 0.9023 - val_loss: 1413.1029 - val_accuracy: 0.6250\n",
            "Epoch 54/100\n",
            "4/4 [==============================] - 1s 144ms/step - loss: 97.9028 - accuracy: 0.8791 - val_loss: 1486.5341 - val_accuracy: 0.5833\n",
            "Epoch 55/100\n",
            "4/4 [==============================] - 1s 139ms/step - loss: 73.3815 - accuracy: 0.9023 - val_loss: 1512.5049 - val_accuracy: 0.5417\n",
            "Epoch 56/100\n",
            "4/4 [==============================] - 1s 146ms/step - loss: 138.8213 - accuracy: 0.8326 - val_loss: 1682.4375 - val_accuracy: 0.5000\n",
            "Epoch 57/100\n",
            "4/4 [==============================] - 1s 143ms/step - loss: 198.5298 - accuracy: 0.8233 - val_loss: 1769.7318 - val_accuracy: 0.5833\n",
            "Epoch 58/100\n",
            "4/4 [==============================] - 1s 144ms/step - loss: 193.4190 - accuracy: 0.8047 - val_loss: 1709.3717 - val_accuracy: 0.5000\n",
            "Epoch 59/100\n",
            "4/4 [==============================] - 1s 141ms/step - loss: 99.8445 - accuracy: 0.8605 - val_loss: 1741.8287 - val_accuracy: 0.5000\n",
            "Epoch 60/100\n",
            "4/4 [==============================] - 1s 153ms/step - loss: 148.2248 - accuracy: 0.8326 - val_loss: 1753.4302 - val_accuracy: 0.5000\n",
            "Epoch 61/100\n",
            "4/4 [==============================] - 1s 138ms/step - loss: 105.9306 - accuracy: 0.8233 - val_loss: 1716.0026 - val_accuracy: 0.5000\n",
            "Epoch 62/100\n",
            "4/4 [==============================] - 1s 144ms/step - loss: 131.3780 - accuracy: 0.8512 - val_loss: 2113.5833 - val_accuracy: 0.4167\n",
            "Epoch 63/100\n",
            "4/4 [==============================] - 1s 143ms/step - loss: 207.6578 - accuracy: 0.8326 - val_loss: 2219.6389 - val_accuracy: 0.4583\n",
            "Epoch 64/100\n",
            "4/4 [==============================] - 1s 143ms/step - loss: 169.0918 - accuracy: 0.8233 - val_loss: 1738.1411 - val_accuracy: 0.5833\n",
            "Epoch 65/100\n",
            "4/4 [==============================] - 1s 146ms/step - loss: 205.8063 - accuracy: 0.8000 - val_loss: 1854.3828 - val_accuracy: 0.5000\n",
            "Epoch 66/100\n",
            "4/4 [==============================] - 1s 138ms/step - loss: 259.1313 - accuracy: 0.7907 - val_loss: 2230.7644 - val_accuracy: 0.4167\n",
            "Epoch 67/100\n",
            "4/4 [==============================] - 1s 149ms/step - loss: 285.3223 - accuracy: 0.8047 - val_loss: 2104.9558 - val_accuracy: 0.4167\n",
            "Epoch 68/100\n",
            "4/4 [==============================] - 1s 141ms/step - loss: 253.8776 - accuracy: 0.7721 - val_loss: 1874.0787 - val_accuracy: 0.5417\n",
            "Epoch 69/100\n",
            "4/4 [==============================] - 1s 142ms/step - loss: 189.7178 - accuracy: 0.8744 - val_loss: 1949.5791 - val_accuracy: 0.5417\n",
            "Epoch 70/100\n",
            "4/4 [==============================] - 1s 140ms/step - loss: 208.3963 - accuracy: 0.8140 - val_loss: 1909.9742 - val_accuracy: 0.5000\n",
            "Epoch 71/100\n",
            "4/4 [==============================] - 1s 145ms/step - loss: 142.1207 - accuracy: 0.8326 - val_loss: 2165.2485 - val_accuracy: 0.4167\n",
            "Epoch 72/100\n",
            "4/4 [==============================] - 1s 141ms/step - loss: 136.0679 - accuracy: 0.8837 - val_loss: 2217.4663 - val_accuracy: 0.3750\n",
            "Epoch 73/100\n",
            "4/4 [==============================] - 1s 141ms/step - loss: 152.7087 - accuracy: 0.8651 - val_loss: 1932.7754 - val_accuracy: 0.5417\n",
            "Epoch 74/100\n",
            "4/4 [==============================] - 1s 143ms/step - loss: 134.0312 - accuracy: 0.8884 - val_loss: 1929.8131 - val_accuracy: 0.5833\n",
            "Epoch 75/100\n",
            "4/4 [==============================] - 1s 142ms/step - loss: 59.7533 - accuracy: 0.8837 - val_loss: 1880.9447 - val_accuracy: 0.5417\n",
            "Epoch 76/100\n",
            "4/4 [==============================] - 1s 142ms/step - loss: 93.5949 - accuracy: 0.8698 - val_loss: 1637.7045 - val_accuracy: 0.5417\n",
            "Epoch 77/100\n",
            "4/4 [==============================] - 1s 140ms/step - loss: 96.3414 - accuracy: 0.8884 - val_loss: 1601.1665 - val_accuracy: 0.5833\n",
            "Epoch 78/100\n",
            "4/4 [==============================] - 1s 150ms/step - loss: 126.3368 - accuracy: 0.8558 - val_loss: 1574.4547 - val_accuracy: 0.5417\n",
            "Epoch 79/100\n",
            "4/4 [==============================] - 1s 145ms/step - loss: 94.5757 - accuracy: 0.8977 - val_loss: 1689.9481 - val_accuracy: 0.5417\n",
            "Epoch 80/100\n",
            "4/4 [==============================] - 1s 147ms/step - loss: 76.8515 - accuracy: 0.8791 - val_loss: 1623.4698 - val_accuracy: 0.5833\n",
            "Epoch 81/100\n",
            "4/4 [==============================] - 1s 147ms/step - loss: 126.3271 - accuracy: 0.8465 - val_loss: 1878.8568 - val_accuracy: 0.4583\n",
            "Epoch 82/100\n",
            "4/4 [==============================] - 1s 141ms/step - loss: 106.9706 - accuracy: 0.8186 - val_loss: 1654.3480 - val_accuracy: 0.5833\n",
            "Epoch 83/100\n",
            "4/4 [==============================] - 1s 146ms/step - loss: 84.3503 - accuracy: 0.9116 - val_loss: 1629.5533 - val_accuracy: 0.5833\n",
            "Epoch 84/100\n",
            "4/4 [==============================] - 1s 143ms/step - loss: 106.4098 - accuracy: 0.8651 - val_loss: 1760.8311 - val_accuracy: 0.5417\n",
            "Epoch 85/100\n",
            "4/4 [==============================] - 1s 149ms/step - loss: 88.7167 - accuracy: 0.9256 - val_loss: 1691.9834 - val_accuracy: 0.5417\n",
            "Epoch 86/100\n",
            "4/4 [==============================] - 1s 140ms/step - loss: 85.2685 - accuracy: 0.8837 - val_loss: 1587.6719 - val_accuracy: 0.5417\n",
            "Epoch 87/100\n",
            "4/4 [==============================] - 1s 146ms/step - loss: 100.3493 - accuracy: 0.8744 - val_loss: 1549.0089 - val_accuracy: 0.5833\n",
            "Epoch 88/100\n",
            "4/4 [==============================] - 1s 143ms/step - loss: 138.9568 - accuracy: 0.8930 - val_loss: 1481.7114 - val_accuracy: 0.4583\n",
            "Epoch 89/100\n",
            "4/4 [==============================] - 1s 194ms/step - loss: 118.1632 - accuracy: 0.8837 - val_loss: 1466.4531 - val_accuracy: 0.5417\n",
            "Epoch 90/100\n",
            "4/4 [==============================] - 1s 160ms/step - loss: 127.3429 - accuracy: 0.9209 - val_loss: 1538.5016 - val_accuracy: 0.5417\n",
            "Epoch 91/100\n",
            "4/4 [==============================] - 1s 188ms/step - loss: 144.7628 - accuracy: 0.8837 - val_loss: 1382.1781 - val_accuracy: 0.5833\n",
            "Epoch 92/100\n",
            "4/4 [==============================] - 1s 167ms/step - loss: 73.0826 - accuracy: 0.8744 - val_loss: 1388.2374 - val_accuracy: 0.5417\n",
            "Epoch 93/100\n",
            "4/4 [==============================] - 1s 162ms/step - loss: 115.6423 - accuracy: 0.8651 - val_loss: 1699.7811 - val_accuracy: 0.4583\n",
            "Epoch 94/100\n",
            "4/4 [==============================] - 1s 162ms/step - loss: 130.7664 - accuracy: 0.8651 - val_loss: 1799.3134 - val_accuracy: 0.5000\n",
            "Epoch 95/100\n",
            "4/4 [==============================] - 1s 194ms/step - loss: 171.6538 - accuracy: 0.8605 - val_loss: 1555.0990 - val_accuracy: 0.5833\n",
            "Epoch 96/100\n",
            "4/4 [==============================] - 1s 155ms/step - loss: 227.2017 - accuracy: 0.8093 - val_loss: 1722.2865 - val_accuracy: 0.5417\n",
            "Epoch 97/100\n",
            "4/4 [==============================] - 1s 146ms/step - loss: 160.0974 - accuracy: 0.8233 - val_loss: 2065.7898 - val_accuracy: 0.3333\n",
            "Epoch 98/100\n",
            "4/4 [==============================] - 1s 155ms/step - loss: 103.7025 - accuracy: 0.8279 - val_loss: 1600.9448 - val_accuracy: 0.5417\n",
            "Epoch 99/100\n",
            "4/4 [==============================] - 1s 148ms/step - loss: 179.4695 - accuracy: 0.8605 - val_loss: 1507.1978 - val_accuracy: 0.5417\n",
            "Epoch 100/100\n",
            "4/4 [==============================] - 1s 151ms/step - loss: 147.5713 - accuracy: 0.8884 - val_loss: 1327.8802 - val_accuracy: 0.5000\n"
          ]
        }
      ]
    },
    {
      "cell_type": "code",
      "source": [
        "acc = history.history['accuracy']\n",
        "val_acc = history.history['val_accuracy']\n",
        "\n",
        "loss = history.history['loss']\n",
        "val_loss = history.history['val_loss']\n",
        "\n",
        "epochs_range = range(100)\n",
        "\n",
        "plt.figure(figsize=(16, 8))\n",
        "plt.subplot(1, 2, 1)\n",
        "plt.plot(epochs_range, acc, label='Training Accuracy')\n",
        "plt.plot(epochs_range, val_acc, label='Validation Accuracy')\n",
        "plt.legend(loc='lower right')\n",
        "plt.title('Training and Validation Accuracy')\n",
        "\n",
        "plt.subplot(1, 2, 2)\n",
        "plt.plot(epochs_range, loss, label='Training Loss')\n",
        "plt.plot(epochs_range, val_loss, label='Validation Loss')\n",
        "plt.legend(loc='upper right')\n",
        "plt.title('Training and Validation Loss')\n",
        "plt.show()"
      ],
      "metadata": {
        "colab": {
          "base_uri": "https://localhost:8080/",
          "height": 499
        },
        "id": "N2C-Z4HDQuHd",
        "outputId": "c216454b-925c-4c05-f49d-69e0b476e52a"
      },
      "execution_count": null,
      "outputs": [
        {
          "output_type": "display_data",
          "data": {
            "text/plain": [
              "<Figure size 1152x576 with 2 Axes>"
            ],
            "image/png": "[encoded data removed]"
          },
          "metadata": {
            "needs_background": "light"
          }
        }
      ]
    },
    {
      "cell_type": "code",
      "source": [
        "# la gráfica de la izquierda es la precisión \n",
        "#--Unidades o units=  generalmente son potencias de 2, ejemplo: 128, 256, 512, etc. y número de capas hidden_layers= entre 1 y 3 \n",
        "#--La linea azul, corresponde a la precisión en el conjunto de entrenamiento (para las primeras tantas denuncias)\n",
        "#--La linea naranja, corresponde al conjunto de validación y para este proyecto, se busca sea más del 98% de precisión, en el que significa que las nuevas denuncias son las que le atinarán a las fechas ...\n",
        "\n",
        "#la gráfica de la derecha es la de perdida o error \n",
        "#--Esta debe ser lo más cercana a 0 para las 2 líneas. "
      ],
      "metadata": {
        "id": "lEHzYwYCQuPA"
      },
      "execution_count": null,
      "outputs": []
    },
    {
      "cell_type": "code",
      "source": [
        "#08/07/2022 - AUMENTAR LA CAPACIDAD DE HACER EXPERIMENTO CON CAPACIDADES MÁS GRANDE (2 CAPAS, ETC. ), HASTA LA QUE LA LINEA DE LA DERECHA, ESTÉ EN FORMA DE U (SIGNIFICA QUE YA SE PASÓ DE LA CAPACIDAD Y NO SIRVE PARA PREDECIR VALORES)\n",
        "#REINICIAR EL KERNEL CADA VEZ QUE SE AUMENTA LA CAPACIDAD \n",
        "#PONER MUCHA CAPACIDADY MEDIA \n",
        "#SI SE PUEDE, NORMALIZAR Y EXPERIMENTAR \n",
        "#https://stackoverflow.com/questions/21030391/how-to-normalize-a-numpy-array-to-a-unit-vector\n"
      ],
      "metadata": {
        "id": "rVB01G_vQuRY"
      },
      "execution_count": null,
      "outputs": []
    }
  ]
}