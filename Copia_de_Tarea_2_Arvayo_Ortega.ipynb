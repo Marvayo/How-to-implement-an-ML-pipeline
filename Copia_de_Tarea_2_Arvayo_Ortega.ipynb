{
  "cells": [
    {
      "cell_type": "markdown",
      "metadata": {
        "id": "view-in-github",
        "colab_type": "text"
      },
      "source": [
        "<a href=\"https://colab.research.google.com/github/Marvayo/How-to-implement-an-ML-pipeline/blob/master/Copia_de_Tarea_2_Arvayo_Ortega.ipynb\" target=\"_parent\"><img src=\"https://colab.research.google.com/assets/colab-badge.svg\" alt=\"Open In Colab\"/></a>"
      ]
    },
    {
      "cell_type": "code",
      "execution_count": 1,
      "metadata": {
        "colab": {
          "base_uri": "https://localhost:8080/",
          "height": 34
        },
        "id": "2j4VS6PN9S4b",
        "outputId": "f48c2ace-5fd3-451c-fd9c-8311b793affd"
      },
      "outputs": [
        {
          "output_type": "execute_result",
          "data": {
            "text/plain": [
              "<IPython.core.display.Image object>"
            ],
            "image/png": "./dnn.jpg"
          },
          "metadata": {},
          "execution_count": 1
        }
      ],
      "source": [
        "import IPython\n",
        "from IPython import display\n",
        "display.Image(\"./dnn.jpg\")"
      ]
    },
    {
      "cell_type": "code",
      "execution_count": 5,
      "metadata": {
        "id": "3bWCCy4J9ZCL"
      },
      "outputs": [],
      "source": [
        "import tensorflow as tf\n",
        "import matplotlib.pyplot as plt\n",
        "import numpy as np"
      ]
    },
    {
      "cell_type": "code",
      "execution_count": 6,
      "metadata": {
        "id": "oPfzTS6B9ZMy",
        "colab": {
          "base_uri": "https://localhost:8080/"
        },
        "outputId": "06784fcd-27f6-46f2-99a2-7af86be9521d"
      },
      "outputs": [
        {
          "output_type": "stream",
          "name": "stdout",
          "text": [
            "Downloading data from https://storage.googleapis.com/tensorflow/tf-keras-datasets/mnist.npz\n",
            "11493376/11490434 [==============================] - 0s 0us/step\n",
            "11501568/11490434 [==============================] - 0s 0us/step\n"
          ]
        }
      ],
      "source": [
        "(train_images, train_labels), (validation_images, validation_labels) = tf.keras.datasets.mnist.load_data()"
      ]
    },
    {
      "cell_type": "code",
      "execution_count": 7,
      "metadata": {
        "colab": {
          "base_uri": "https://localhost:8080/",
          "height": 477
        },
        "id": "Mt0uy_sg9ZQM",
        "outputId": "3ebf6a67-24bf-40be-ed37-ff9eff464a56"
      },
      "outputs": [
        {
          "output_type": "stream",
          "name": "stdout",
          "text": [
            "Train set size 60000 is around 85.7% of the data. Each data point has dimensions (28, 28)\n",
            "Validation(Dev) set size 10000 is around 14.3% of the data. Each data point has dimensions (28, 28)\n",
            "There are 10 classes. They are [0, 1, 2, 3, 4, 5, 6, 7, 8, 9]\n"
          ]
        },
        {
          "output_type": "display_data",
          "data": {
            "text/plain": [
              "<Figure size 504x504 with 9 Axes>"
            ],
            "image/png": "[encoded data removed]"
          },
          "metadata": {}
        }
      ],
      "source": [
        "#dataset properties\n",
        "train_ds_size = len(train_images)\n",
        "validation_ds_size = len(validation_images)\n",
        "class_names = list(set(train_labels))\n",
        "ds_size = train_ds_size + validation_ds_size\n",
        "print(f'Train set size {train_ds_size} is around {np.around(train_ds_size/ds_size * 100,1)}% of the data. Each data point has dimensions {train_images.shape[1:]}')\n",
        "print(f'Validation(Dev) set size {validation_ds_size} is around {np.around(validation_ds_size/ds_size * 100,1)}% of the data. Each data point has dimensions {validation_images.shape[1:]}')\n",
        "print(f'There are {len(class_names)} classes. They are {class_names}')\n",
        "\n",
        "plt.figure(figsize=(7,7))\n",
        "for i in range(9):\n",
        "    plt.subplot(3,3,i+1)\n",
        "    plt.xticks([])\n",
        "    plt.yticks([])\n",
        "    plt.grid(False)\n",
        "    plt.imshow(train_images[i])\n",
        "    # The CIFAR labels happen to be arrays, \n",
        "    # which is why you need the extra index\n",
        "    plt.xlabel(class_names[train_labels[i]])\n",
        "plt.show()"
      ]
    },
    {
      "cell_type": "code",
      "execution_count": 8,
      "metadata": {
        "colab": {
          "base_uri": "https://localhost:8080/"
        },
        "id": "0Bwrg6pw9ZSx",
        "outputId": "8c47233f-803f-490e-d1c7-12c6885e06b7"
      },
      "outputs": [
        {
          "output_type": "stream",
          "name": "stdout",
          "text": [
            "Train set size 60000 is around 85.7% of the data. Each data point has dimensions (28, 28)\n",
            "Validation(Dev) set size 8000 is around 11.4% of the data. Each data point has dimensions (28, 28)\n",
            "Test set size 2000 is around 2.9% of the data. Each data point has dimensions (28, 28)\n",
            "There are 10 classes. They are [0, 1, 2, 3, 4, 5, 6, 7, 8, 9]\n"
          ]
        }
      ],
      "source": [
        "#Select a ratio of the validation set images to use as test images\n",
        "ratio = 0.8\n",
        "#New test set\n",
        "test_images = validation_images[int(validation_ds_size * ratio):]\n",
        "test_labels = validation_labels[int(validation_ds_size * ratio):]\n",
        "#New validation set\n",
        "validation_images=validation_images[:int(validation_ds_size * ratio)]\n",
        "validation_labels=validation_labels[:int(validation_ds_size * ratio)]\n",
        "#dataset properties\n",
        "train_ds_size = len(train_images)\n",
        "validation_ds_size = len(validation_images)\n",
        "test_ds_size = len(test_images)\n",
        "class_names = list(set(train_labels))\n",
        "ds_size = train_ds_size + validation_ds_size + test_ds_size\n",
        "\n",
        "print(f'Train set size {train_ds_size} is around {np.around(train_ds_size/ds_size * 100,1)}% of the data. Each data point has dimensions {train_images.shape[1:]}')\n",
        "print(f'Validation(Dev) set size {validation_ds_size} is around {np.around(validation_ds_size/ds_size * 100,1)}% of the data. Each data point has dimensions {validation_images.shape[1:]}')\n",
        "print(f'Test set size {test_ds_size} is around {np.around(test_ds_size/ds_size * 100,1)}% of the data. Each data point has dimensions {test_images.shape[1:]}')\n",
        "print(f'There are {len(class_names)} classes. They are {class_names}')"
      ]
    },
    {
      "cell_type": "code",
      "execution_count": 9,
      "metadata": {
        "id": "-mUTsuzM9ZVJ"
      },
      "outputs": [],
      "source": [
        "normalize = True\n",
        "if normalize == True:\n",
        "    train_images = train_images / 255.0\n",
        "    validation_images = validation_images / 255.0\n",
        "    test_images = test_images / 255.0"
      ]
    },
    {
      "cell_type": "code",
      "execution_count": 59,
      "metadata": {
        "id": "pUZKSfQA9ZXz"
      },
      "outputs": [],
      "source": [
        "def build_model(num_classes=len(class_names), hidden_layers=1, units=128, data_shape=train_images.shape[1:]):\n",
        "    model = tf.keras.Sequential()\n",
        "    # input layer\n",
        "    model.add(tf.keras.layers.InputLayer(input_shape=list(data_shape)))\n",
        "    # MLP required shape\n",
        "    model.add(tf.keras.layers.Flatten())\n",
        "    \n",
        "    #hidden layer(s)\n",
        "    #for hidden_layer in range(1,hidden_layers+1):\n",
        "      #  model.add(tf.keras.layers.Dense(units, activation='relu'))\n",
        "    \n",
        "    model.add(tf.keras.layers.Dense(336, activation='relu'))\n",
        "    #output layer\n",
        "    model.add(tf.keras.layers.Dense(num_classes, activation='softmax')) \n",
        "    #model.add(tf.keras.layers.Dense(num_classes, activation='softmax', kernel_regularizer=tf.keras.regularizers.L2(0.1))) \n",
        "    \n",
        "    loss=tf.keras.losses.SparseCategoricalCrossentropy() \n",
        "    metrics=['accuracy']\n",
        "    optimizer=tf.keras.optimizers.Adam()\n",
        "    \n",
        "    model.compile(loss=loss, metrics=metrics, optimizer=optimizer)\n",
        "    \n",
        "    return model"
      ]
    },
    {
      "cell_type": "code",
      "execution_count": 60,
      "metadata": {
        "colab": {
          "base_uri": "https://localhost:8080/"
        },
        "id": "wwXgClSw9ZaR",
        "outputId": "6c00aeb6-9689-45b0-f431-6eb5cf4d1b7a"
      },
      "outputs": [
        {
          "output_type": "stream",
          "name": "stdout",
          "text": [
            "Model: \"sequential_8\"\n",
            "_________________________________________________________________\n",
            " Layer (type)                Output Shape              Param #   \n",
            "=================================================================\n",
            " flatten_8 (Flatten)         (None, 784)               0         \n",
            "                                                                 \n",
            " dense_16 (Dense)            (None, 336)               263760    \n",
            "                                                                 \n",
            " dense_17 (Dense)            (None, 10)                3370      \n",
            "                                                                 \n",
            "=================================================================\n",
            "Total params: 267,130\n",
            "Trainable params: 267,130\n",
            "Non-trainable params: 0\n",
            "_________________________________________________________________\n"
          ]
        }
      ],
      "source": [
        "model = build_model()\n",
        "# Verify that the network is as you imagined\n",
        "model.summary()"
      ]
    },
    {
      "cell_type": "code",
      "execution_count": 61,
      "metadata": {
        "colab": {
          "base_uri": "https://localhost:8080/"
        },
        "id": "qJvOvJJq9Zcz",
        "outputId": "98cb76ad-e96f-4925-dcc2-54be9116fb8e"
      },
      "outputs": [
        {
          "output_type": "stream",
          "name": "stdout",
          "text": [
            "Epoch 1/30\n",
            "1875/1875 [==============================] - 8s 4ms/step - loss: 0.2148 - accuracy: 0.9369 - val_loss: 0.1197 - val_accuracy: 0.9630\n",
            "Epoch 2/30\n",
            "1875/1875 [==============================] - 8s 4ms/step - loss: 0.0867 - accuracy: 0.9743 - val_loss: 0.0880 - val_accuracy: 0.9719\n",
            "Epoch 3/30\n",
            "1875/1875 [==============================] - 7s 4ms/step - loss: 0.0567 - accuracy: 0.9826 - val_loss: 0.0815 - val_accuracy: 0.9739\n",
            "Epoch 4/30\n",
            "1875/1875 [==============================] - 8s 4ms/step - loss: 0.0416 - accuracy: 0.9870 - val_loss: 0.0757 - val_accuracy: 0.9761\n",
            "Epoch 5/30\n",
            "1875/1875 [==============================] - 8s 4ms/step - loss: 0.0304 - accuracy: 0.9905 - val_loss: 0.0836 - val_accuracy: 0.9736\n",
            "Epoch 6/30\n",
            "1875/1875 [==============================] - 7s 4ms/step - loss: 0.0223 - accuracy: 0.9926 - val_loss: 0.0743 - val_accuracy: 0.9797\n",
            "Epoch 7/30\n",
            "1875/1875 [==============================] - 8s 4ms/step - loss: 0.0169 - accuracy: 0.9943 - val_loss: 0.0822 - val_accuracy: 0.9776\n",
            "Epoch 8/30\n",
            "1875/1875 [==============================] - 8s 4ms/step - loss: 0.0149 - accuracy: 0.9951 - val_loss: 0.0885 - val_accuracy: 0.9781\n",
            "Epoch 9/30\n",
            "1875/1875 [==============================] - 8s 4ms/step - loss: 0.0138 - accuracy: 0.9952 - val_loss: 0.0799 - val_accuracy: 0.9781\n",
            "Epoch 10/30\n",
            "1875/1875 [==============================] - 8s 4ms/step - loss: 0.0092 - accuracy: 0.9971 - val_loss: 0.0899 - val_accuracy: 0.9793\n",
            "Epoch 11/30\n",
            "1875/1875 [==============================] - 7s 4ms/step - loss: 0.0101 - accuracy: 0.9967 - val_loss: 0.0828 - val_accuracy: 0.9810\n",
            "Epoch 12/30\n",
            "1875/1875 [==============================] - 8s 4ms/step - loss: 0.0087 - accuracy: 0.9972 - val_loss: 0.0859 - val_accuracy: 0.9809\n",
            "Epoch 13/30\n",
            "1875/1875 [==============================] - 9s 5ms/step - loss: 0.0072 - accuracy: 0.9976 - val_loss: 0.1150 - val_accuracy: 0.9753\n",
            "Epoch 14/30\n",
            "1875/1875 [==============================] - 8s 4ms/step - loss: 0.0070 - accuracy: 0.9977 - val_loss: 0.0960 - val_accuracy: 0.9794\n",
            "Epoch 15/30\n",
            "1875/1875 [==============================] - 8s 4ms/step - loss: 0.0087 - accuracy: 0.9972 - val_loss: 0.1153 - val_accuracy: 0.9780\n",
            "Epoch 16/30\n",
            "1875/1875 [==============================] - 8s 4ms/step - loss: 0.0053 - accuracy: 0.9984 - val_loss: 0.1078 - val_accuracy: 0.9789\n",
            "Epoch 17/30\n",
            "1875/1875 [==============================] - 8s 4ms/step - loss: 0.0063 - accuracy: 0.9979 - val_loss: 0.1113 - val_accuracy: 0.9786\n",
            "Epoch 18/30\n",
            "1875/1875 [==============================] - 7s 4ms/step - loss: 0.0066 - accuracy: 0.9978 - val_loss: 0.0940 - val_accuracy: 0.9816\n",
            "Epoch 19/30\n",
            "1875/1875 [==============================] - 7s 4ms/step - loss: 0.0059 - accuracy: 0.9981 - val_loss: 0.1150 - val_accuracy: 0.9768\n",
            "Epoch 20/30\n",
            "1875/1875 [==============================] - 7s 4ms/step - loss: 0.0056 - accuracy: 0.9983 - val_loss: 0.1311 - val_accuracy: 0.9774\n",
            "Epoch 21/30\n",
            "1875/1875 [==============================] - 7s 4ms/step - loss: 0.0042 - accuracy: 0.9986 - val_loss: 0.1139 - val_accuracy: 0.9808\n",
            "Epoch 22/30\n",
            "1875/1875 [==============================] - 7s 4ms/step - loss: 0.0079 - accuracy: 0.9976 - val_loss: 0.1198 - val_accuracy: 0.9795\n",
            "Epoch 23/30\n",
            "1875/1875 [==============================] - 8s 4ms/step - loss: 0.0042 - accuracy: 0.9985 - val_loss: 0.1357 - val_accuracy: 0.9755\n",
            "Epoch 24/30\n",
            "1875/1875 [==============================] - 8s 4ms/step - loss: 0.0062 - accuracy: 0.9979 - val_loss: 0.1416 - val_accuracy: 0.9797\n",
            "Epoch 25/30\n",
            "1875/1875 [==============================] - 7s 4ms/step - loss: 0.0018 - accuracy: 0.9992 - val_loss: 0.1444 - val_accuracy: 0.9762\n",
            "Epoch 26/30\n",
            "1875/1875 [==============================] - 7s 4ms/step - loss: 0.0053 - accuracy: 0.9985 - val_loss: 0.1309 - val_accuracy: 0.9783\n",
            "Epoch 27/30\n",
            "1875/1875 [==============================] - 8s 4ms/step - loss: 0.0054 - accuracy: 0.9983 - val_loss: 0.1467 - val_accuracy: 0.9772\n",
            "Epoch 28/30\n",
            "1875/1875 [==============================] - 7s 4ms/step - loss: 0.0037 - accuracy: 0.9988 - val_loss: 0.1240 - val_accuracy: 0.9796\n",
            "Epoch 29/30\n",
            "1875/1875 [==============================] - 8s 4ms/step - loss: 0.0034 - accuracy: 0.9988 - val_loss: 0.1565 - val_accuracy: 0.9787\n",
            "Epoch 30/30\n",
            "1875/1875 [==============================] - 11s 6ms/step - loss: 0.0050 - accuracy: 0.9984 - val_loss: 0.1280 - val_accuracy: 0.9811\n"
          ]
        }
      ],
      "source": [
        "history = model.fit(train_images, train_labels, epochs=30, batch_size=32, validation_data=(validation_images, validation_labels))\n"
      ]
    },
    {
      "cell_type": "code",
      "execution_count": 62,
      "metadata": {
        "colab": {
          "base_uri": "https://localhost:8080/",
          "height": 499
        },
        "id": "dSkOrnIW9Zfq",
        "outputId": "ad4223de-6474-4cf4-b055-98b6a9cb022c"
      },
      "outputs": [
        {
          "output_type": "display_data",
          "data": {
            "text/plain": [
              "<Figure size 1152x576 with 2 Axes>"
            ],
            "image/png": "[encoded data removed]"
          },
          "metadata": {
            "needs_background": "light"
          }
        }
      ],
      "source": [
        "acc = history.history['accuracy']\n",
        "val_acc = history.history['val_accuracy']\n",
        "\n",
        "loss = history.history['loss']\n",
        "val_loss = history.history['val_loss']\n",
        "\n",
        "epochs_range = range(30)\n",
        "\n",
        "plt.figure(figsize=(16, 8))\n",
        "plt.subplot(1, 2, 1)\n",
        "plt.plot(epochs_range, acc, label='Training Accuracy')\n",
        "plt.plot(epochs_range, val_acc, label='Validation Accuracy')\n",
        "plt.legend(loc='lower right')\n",
        "plt.title('Training and Validation Accuracy')\n",
        "\n",
        "plt.subplot(1, 2, 2)\n",
        "plt.plot(epochs_range, loss, label='Training Loss')\n",
        "plt.plot(epochs_range, val_loss, label='Validation Loss')\n",
        "plt.legend(loc='upper right')\n",
        "plt.title('Training and Validation Loss')\n",
        "plt.show()"
      ]
    },
    {
      "cell_type": "code",
      "execution_count": 63,
      "metadata": {
        "colab": {
          "base_uri": "https://localhost:8080/"
        },
        "id": "8fh8fqGf9ZiK",
        "outputId": "20810f13-cd04-42dc-d5c9-57ceea319b23"
      },
      "outputs": [
        {
          "output_type": "stream",
          "name": "stdout",
          "text": [
            "63/63 [==============================] - 0s 3ms/step - loss: 0.1036 - accuracy: 0.9895\n"
          ]
        },
        {
          "output_type": "execute_result",
          "data": {
            "text/plain": [
              "[0.10357391089200974, 0.9894999861717224]"
            ]
          },
          "metadata": {},
          "execution_count": 63
        }
      ],
      "source": [
        "model.evaluate(test_images, test_labels)\n"
      ]
    },
    {
      "cell_type": "code",
      "execution_count": 64,
      "metadata": {
        "colab": {
          "base_uri": "https://localhost:8080/",
          "height": 136
        },
        "id": "XchPOc5r9Zkq",
        "outputId": "9c5cd3c5-2efe-4a55-cc75-50b6a29b6f3c"
      },
      "outputs": [
        {
          "output_type": "stream",
          "name": "stdout",
          "text": [
            "WARNING:tensorflow:6 out of the last 6 calls to <function Model.make_predict_function.<locals>.predict_function at 0x7f7c9ddf9ef0> triggered tf.function retracing. Tracing is expensive and the excessive number of tracings could be due to (1) creating @tf.function repeatedly in a loop, (2) passing tensors with different shapes, (3) passing Python objects instead of tensors. For (1), please define your @tf.function outside of the loop. For (2), @tf.function has experimental_relax_shapes=True option that relaxes argument shapes that can avoid unnecessary retracing. For (3), please refer to https://www.tensorflow.org/guide/function#controlling_retracing and https://www.tensorflow.org/api_docs/python/tf/function for  more details.\n"
          ]
        },
        {
          "output_type": "display_data",
          "data": {
            "text/plain": [
              "<Figure size 72x72 with 1 Axes>"
            ],
            "image/png": "[encoded data removed]"
          },
          "metadata": {}
        }
      ],
      "source": [
        "#Choose a random image from the test set\n",
        "random_image_index = np.random.choice(test_ds_size)\n",
        "random_image = test_images[random_image_index]\n",
        "# Use the trained model to predict the label of an image\n",
        "prediction = model.predict(random_image.reshape(1,28,28))\n",
        "score = tf.nn.softmax(prediction[0])\n",
        "predicted_label = list(score).index(max(score))\n",
        "# See the results\n",
        "plt.figure(figsize=(1,1))\n",
        "plt.xticks([])\n",
        "plt.yticks([])\n",
        "plt.grid(False)\n",
        "plt.imshow(random_image)\n",
        "plt.xlabel(class_names[predicted_label])\n",
        "plt.show()"
      ]
    },
    {
      "cell_type": "code",
      "execution_count": null,
      "metadata": {
        "id": "we2luKV69Zne"
      },
      "outputs": [],
      "source": [
        ""
      ]
    },
    {
      "cell_type": "code",
      "execution_count": null,
      "metadata": {
        "id": "y2RuZ25f9ZqI"
      },
      "outputs": [],
      "source": [
        ""
      ]
    }
  ],
  "metadata": {
    "colab": {
      "name": "Copia de Tarea 2 Arvayo Ortega.ipynb",
      "provenance": [],
      "authorship_tag": "ABX9TyNbdfShycrPp97n3vEYnN66",
      "include_colab_link": true
    },
    "kernelspec": {
      "display_name": "Python 3",
      "name": "python3"
    },
    "language_info": {
      "name": "python"
    }
  },
  "nbformat": 4,
  "nbformat_minor": 0
}